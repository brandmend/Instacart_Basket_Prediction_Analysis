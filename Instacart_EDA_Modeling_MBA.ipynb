{
  "cells": [
    {
      "cell_type": "markdown",
      "metadata": {
        "id": "HdHV1p0AkVg9"
      },
      "source": [
        "# Instacart Market Basket Analysis - EDA & Modeling\n",
        "By: Brandon Menendez"
      ]
    },
    {
      "cell_type": "markdown",
      "metadata": {
        "id": "-vTvTKdWkVhB"
      },
      "source": [
        "## Business Overview"
      ]
    },
    {
      "cell_type": "markdown",
      "metadata": {
        "id": "nOb3x25lkVhB"
      },
      "source": [
        "\n",
        "- **Stakeholder:**\n",
        "Instacart\n",
        "- **Business Problem:**\n",
        "Create a model that uses this anonymized data on customer orders over time to predict which previously purchased products will be in a user’s next order"
      ]
    },
    {
      "cell_type": "markdown",
      "metadata": {
        "id": "szdGfrL2kVhC"
      },
      "source": [
        "## Data Understanding"
      ]
    },
    {
      "cell_type": "code",
      "execution_count": 3,
      "metadata": {
        "id": "f16tAJLmkVhC"
      },
      "outputs": [],
      "source": [
        "# Imports\n",
        "\n",
        "import numpy as np\n",
        "import scipy\n",
        "import pandas as pd \n",
        "import matplotlib.pyplot as plt\n",
        "import numpy as np\n",
        "import seaborn as sns\n",
        "\n",
        "from sklearn.linear_model import LogisticRegression\n",
        "from sklearn.metrics import log_loss\n",
        "from sklearn.model_selection import train_test_split, cross_validate\n",
        "from sklearn.preprocessing import StandardScaler, OneHotEncoder\n",
        "from sklearn.metrics import plot_confusion_matrix, confusion_matrix,precision_score, recall_score,\\\n",
        "accuracy_score, f1_score\n",
        "\n",
        "import warnings\n",
        "warnings.filterwarnings(\"ignore\", category=DeprecationWarning)"
      ]
    },
    {
      "cell_type": "code",
      "execution_count": 4,
      "metadata": {
        "id": "Lm1E4CrLkVhE"
      },
      "outputs": [],
      "source": [
        "# Read in  data\n",
        "\n",
        "orders = pd.read_csv('orders.csv') \n",
        "orders_train = pd.read_csv('order_products__train.csv')\n",
        "orders_prior = pd.read_csv('order_products__prior.csv')\n",
        "products = pd.read_csv('products.csv')\n",
        "aisles = pd.read_csv('aisles.csv')\n",
        "depts = pd.read_csv('departments.csv')"
      ]
    },
    {
      "cell_type": "markdown",
      "metadata": {
        "id": "GOK3QVEukVhF"
      },
      "source": [
        "## Data Exploration"
      ]
    },
    {
      "cell_type": "code",
      "execution_count": 5,
      "metadata": {
        "colab": {
          "base_uri": "https://localhost:8080/",
          "height": 204
        },
        "id": "h8psJZdSkVhF",
        "outputId": "70a8cabf-5170-4f8a-a96e-78f445263568"
      },
      "outputs": [
        {
          "output_type": "execute_result",
          "data": {
            "text/plain": [
              "   order_id  user_id eval_set  order_number  order_dow  order_hour_of_day  \\\n",
              "0   2539329        1    prior           1.0        2.0                8.0   \n",
              "1   2398795        1    prior           2.0        3.0                7.0   \n",
              "2    473747        1    prior           3.0        3.0               12.0   \n",
              "3   2254736        1    prior           4.0        4.0                7.0   \n",
              "4    431534        1    prior           5.0        4.0               15.0   \n",
              "\n",
              "   days_since_prior_order  \n",
              "0                     NaN  \n",
              "1                    15.0  \n",
              "2                    21.0  \n",
              "3                    29.0  \n",
              "4                    28.0  "
            ],
            "text/html": [
              "\n",
              "  <div id=\"df-1043ebca-1351-4009-a830-33e2009134f6\">\n",
              "    <div class=\"colab-df-container\">\n",
              "      <div>\n",
              "<style scoped>\n",
              "    .dataframe tbody tr th:only-of-type {\n",
              "        vertical-align: middle;\n",
              "    }\n",
              "\n",
              "    .dataframe tbody tr th {\n",
              "        vertical-align: top;\n",
              "    }\n",
              "\n",
              "    .dataframe thead th {\n",
              "        text-align: right;\n",
              "    }\n",
              "</style>\n",
              "<table border=\"1\" class=\"dataframe\">\n",
              "  <thead>\n",
              "    <tr style=\"text-align: right;\">\n",
              "      <th></th>\n",
              "      <th>order_id</th>\n",
              "      <th>user_id</th>\n",
              "      <th>eval_set</th>\n",
              "      <th>order_number</th>\n",
              "      <th>order_dow</th>\n",
              "      <th>order_hour_of_day</th>\n",
              "      <th>days_since_prior_order</th>\n",
              "    </tr>\n",
              "  </thead>\n",
              "  <tbody>\n",
              "    <tr>\n",
              "      <th>0</th>\n",
              "      <td>2539329</td>\n",
              "      <td>1</td>\n",
              "      <td>prior</td>\n",
              "      <td>1.0</td>\n",
              "      <td>2.0</td>\n",
              "      <td>8.0</td>\n",
              "      <td>NaN</td>\n",
              "    </tr>\n",
              "    <tr>\n",
              "      <th>1</th>\n",
              "      <td>2398795</td>\n",
              "      <td>1</td>\n",
              "      <td>prior</td>\n",
              "      <td>2.0</td>\n",
              "      <td>3.0</td>\n",
              "      <td>7.0</td>\n",
              "      <td>15.0</td>\n",
              "    </tr>\n",
              "    <tr>\n",
              "      <th>2</th>\n",
              "      <td>473747</td>\n",
              "      <td>1</td>\n",
              "      <td>prior</td>\n",
              "      <td>3.0</td>\n",
              "      <td>3.0</td>\n",
              "      <td>12.0</td>\n",
              "      <td>21.0</td>\n",
              "    </tr>\n",
              "    <tr>\n",
              "      <th>3</th>\n",
              "      <td>2254736</td>\n",
              "      <td>1</td>\n",
              "      <td>prior</td>\n",
              "      <td>4.0</td>\n",
              "      <td>4.0</td>\n",
              "      <td>7.0</td>\n",
              "      <td>29.0</td>\n",
              "    </tr>\n",
              "    <tr>\n",
              "      <th>4</th>\n",
              "      <td>431534</td>\n",
              "      <td>1</td>\n",
              "      <td>prior</td>\n",
              "      <td>5.0</td>\n",
              "      <td>4.0</td>\n",
              "      <td>15.0</td>\n",
              "      <td>28.0</td>\n",
              "    </tr>\n",
              "  </tbody>\n",
              "</table>\n",
              "</div>\n",
              "      <button class=\"colab-df-convert\" onclick=\"convertToInteractive('df-1043ebca-1351-4009-a830-33e2009134f6')\"\n",
              "              title=\"Convert this dataframe to an interactive table.\"\n",
              "              style=\"display:none;\">\n",
              "        \n",
              "  <svg xmlns=\"http://www.w3.org/2000/svg\" height=\"24px\"viewBox=\"0 0 24 24\"\n",
              "       width=\"24px\">\n",
              "    <path d=\"M0 0h24v24H0V0z\" fill=\"none\"/>\n",
              "    <path d=\"M18.56 5.44l.94 2.06.94-2.06 2.06-.94-2.06-.94-.94-2.06-.94 2.06-2.06.94zm-11 1L8.5 8.5l.94-2.06 2.06-.94-2.06-.94L8.5 2.5l-.94 2.06-2.06.94zm10 10l.94 2.06.94-2.06 2.06-.94-2.06-.94-.94-2.06-.94 2.06-2.06.94z\"/><path d=\"M17.41 7.96l-1.37-1.37c-.4-.4-.92-.59-1.43-.59-.52 0-1.04.2-1.43.59L10.3 9.45l-7.72 7.72c-.78.78-.78 2.05 0 2.83L4 21.41c.39.39.9.59 1.41.59.51 0 1.02-.2 1.41-.59l7.78-7.78 2.81-2.81c.8-.78.8-2.07 0-2.86zM5.41 20L4 18.59l7.72-7.72 1.47 1.35L5.41 20z\"/>\n",
              "  </svg>\n",
              "      </button>\n",
              "      \n",
              "  <style>\n",
              "    .colab-df-container {\n",
              "      display:flex;\n",
              "      flex-wrap:wrap;\n",
              "      gap: 12px;\n",
              "    }\n",
              "\n",
              "    .colab-df-convert {\n",
              "      background-color: #E8F0FE;\n",
              "      border: none;\n",
              "      border-radius: 50%;\n",
              "      cursor: pointer;\n",
              "      display: none;\n",
              "      fill: #1967D2;\n",
              "      height: 32px;\n",
              "      padding: 0 0 0 0;\n",
              "      width: 32px;\n",
              "    }\n",
              "\n",
              "    .colab-df-convert:hover {\n",
              "      background-color: #E2EBFA;\n",
              "      box-shadow: 0px 1px 2px rgba(60, 64, 67, 0.3), 0px 1px 3px 1px rgba(60, 64, 67, 0.15);\n",
              "      fill: #174EA6;\n",
              "    }\n",
              "\n",
              "    [theme=dark] .colab-df-convert {\n",
              "      background-color: #3B4455;\n",
              "      fill: #D2E3FC;\n",
              "    }\n",
              "\n",
              "    [theme=dark] .colab-df-convert:hover {\n",
              "      background-color: #434B5C;\n",
              "      box-shadow: 0px 1px 3px 1px rgba(0, 0, 0, 0.15);\n",
              "      filter: drop-shadow(0px 1px 2px rgba(0, 0, 0, 0.3));\n",
              "      fill: #FFFFFF;\n",
              "    }\n",
              "  </style>\n",
              "\n",
              "      <script>\n",
              "        const buttonEl =\n",
              "          document.querySelector('#df-1043ebca-1351-4009-a830-33e2009134f6 button.colab-df-convert');\n",
              "        buttonEl.style.display =\n",
              "          google.colab.kernel.accessAllowed ? 'block' : 'none';\n",
              "\n",
              "        async function convertToInteractive(key) {\n",
              "          const element = document.querySelector('#df-1043ebca-1351-4009-a830-33e2009134f6');\n",
              "          const dataTable =\n",
              "            await google.colab.kernel.invokeFunction('convertToInteractive',\n",
              "                                                     [key], {});\n",
              "          if (!dataTable) return;\n",
              "\n",
              "          const docLinkHtml = 'Like what you see? Visit the ' +\n",
              "            '<a target=\"_blank\" href=https://colab.research.google.com/notebooks/data_table.ipynb>data table notebook</a>'\n",
              "            + ' to learn more about interactive tables.';\n",
              "          element.innerHTML = '';\n",
              "          dataTable['output_type'] = 'display_data';\n",
              "          await google.colab.output.renderOutput(dataTable, element);\n",
              "          const docLink = document.createElement('div');\n",
              "          docLink.innerHTML = docLinkHtml;\n",
              "          element.appendChild(docLink);\n",
              "        }\n",
              "      </script>\n",
              "    </div>\n",
              "  </div>\n",
              "  "
            ]
          },
          "metadata": {},
          "execution_count": 5
        }
      ],
      "source": [
        "# Visualizing dataframe\n",
        "\n",
        "orders.head()"
      ]
    },
    {
      "cell_type": "code",
      "execution_count": 6,
      "metadata": {
        "colab": {
          "base_uri": "https://localhost:8080/"
        },
        "id": "STBO86BNkVhG",
        "outputId": "e38ec21c-42b3-4340-dfe5-f0c6e4a37b15"
      },
      "outputs": [
        {
          "output_type": "execute_result",
          "data": {
            "text/plain": [
              "order_id                      0\n",
              "user_id                       0\n",
              "eval_set                      1\n",
              "order_number                  1\n",
              "order_dow                     1\n",
              "order_hour_of_day             1\n",
              "days_since_prior_order    22490\n",
              "dtype: int64"
            ]
          },
          "metadata": {},
          "execution_count": 6
        }
      ],
      "source": [
        "# Checking for nulls \n",
        "\n",
        "orders.isna().sum()"
      ]
    },
    {
      "cell_type": "code",
      "execution_count": 7,
      "metadata": {
        "colab": {
          "base_uri": "https://localhost:8080/"
        },
        "id": "fa5Gox6DkVhH",
        "outputId": "9a763d8e-4634-439d-aa4f-82bfe080204c"
      },
      "outputs": [
        {
          "output_type": "execute_result",
          "data": {
            "text/plain": [
              "order_id                  373266\n",
              "user_id                    22489\n",
              "eval_set                       3\n",
              "order_number                 100\n",
              "order_dow                      7\n",
              "order_hour_of_day             24\n",
              "days_since_prior_order        31\n",
              "dtype: int64"
            ]
          },
          "metadata": {},
          "execution_count": 7
        }
      ],
      "source": [
        "# Checking unique values \n",
        "\n",
        "orders.nunique()"
      ]
    },
    {
      "cell_type": "code",
      "execution_count": 8,
      "metadata": {
        "colab": {
          "base_uri": "https://localhost:8080/"
        },
        "id": "1WniE0XEkVhH",
        "outputId": "cd930133-65ea-488e-eec8-35f1fd7dde2b"
      },
      "outputs": [
        {
          "output_type": "execute_result",
          "data": {
            "text/plain": [
              "prior    350777\n",
              "train     14394\n",
              "test       8094\n",
              "Name: eval_set, dtype: int64"
            ]
          },
          "metadata": {},
          "execution_count": 8
        }
      ],
      "source": [
        "# Checking order distribution between eval sets \n",
        "\n",
        "orders['eval_set'].value_counts()"
      ]
    },
    {
      "cell_type": "code",
      "execution_count": 9,
      "metadata": {
        "colab": {
          "base_uri": "https://localhost:8080/",
          "height": 204
        },
        "id": "byqnwnpWkVhH",
        "outputId": "8de633b5-c42d-4203-a173-999ce8f89fc5"
      },
      "outputs": [
        {
          "output_type": "execute_result",
          "data": {
            "text/plain": [
              "   order_id  product_id  add_to_cart_order  reordered\n",
              "0         1     49302.0                1.0        1.0\n",
              "1         1     11109.0                2.0        1.0\n",
              "2         1     10246.0                3.0        0.0\n",
              "3         1     49683.0                4.0        0.0\n",
              "4         1     43633.0                5.0        1.0"
            ],
            "text/html": [
              "\n",
              "  <div id=\"df-70bfebe6-f9d5-4fb1-a8ed-782d3b77e48d\">\n",
              "    <div class=\"colab-df-container\">\n",
              "      <div>\n",
              "<style scoped>\n",
              "    .dataframe tbody tr th:only-of-type {\n",
              "        vertical-align: middle;\n",
              "    }\n",
              "\n",
              "    .dataframe tbody tr th {\n",
              "        vertical-align: top;\n",
              "    }\n",
              "\n",
              "    .dataframe thead th {\n",
              "        text-align: right;\n",
              "    }\n",
              "</style>\n",
              "<table border=\"1\" class=\"dataframe\">\n",
              "  <thead>\n",
              "    <tr style=\"text-align: right;\">\n",
              "      <th></th>\n",
              "      <th>order_id</th>\n",
              "      <th>product_id</th>\n",
              "      <th>add_to_cart_order</th>\n",
              "      <th>reordered</th>\n",
              "    </tr>\n",
              "  </thead>\n",
              "  <tbody>\n",
              "    <tr>\n",
              "      <th>0</th>\n",
              "      <td>1</td>\n",
              "      <td>49302.0</td>\n",
              "      <td>1.0</td>\n",
              "      <td>1.0</td>\n",
              "    </tr>\n",
              "    <tr>\n",
              "      <th>1</th>\n",
              "      <td>1</td>\n",
              "      <td>11109.0</td>\n",
              "      <td>2.0</td>\n",
              "      <td>1.0</td>\n",
              "    </tr>\n",
              "    <tr>\n",
              "      <th>2</th>\n",
              "      <td>1</td>\n",
              "      <td>10246.0</td>\n",
              "      <td>3.0</td>\n",
              "      <td>0.0</td>\n",
              "    </tr>\n",
              "    <tr>\n",
              "      <th>3</th>\n",
              "      <td>1</td>\n",
              "      <td>49683.0</td>\n",
              "      <td>4.0</td>\n",
              "      <td>0.0</td>\n",
              "    </tr>\n",
              "    <tr>\n",
              "      <th>4</th>\n",
              "      <td>1</td>\n",
              "      <td>43633.0</td>\n",
              "      <td>5.0</td>\n",
              "      <td>1.0</td>\n",
              "    </tr>\n",
              "  </tbody>\n",
              "</table>\n",
              "</div>\n",
              "      <button class=\"colab-df-convert\" onclick=\"convertToInteractive('df-70bfebe6-f9d5-4fb1-a8ed-782d3b77e48d')\"\n",
              "              title=\"Convert this dataframe to an interactive table.\"\n",
              "              style=\"display:none;\">\n",
              "        \n",
              "  <svg xmlns=\"http://www.w3.org/2000/svg\" height=\"24px\"viewBox=\"0 0 24 24\"\n",
              "       width=\"24px\">\n",
              "    <path d=\"M0 0h24v24H0V0z\" fill=\"none\"/>\n",
              "    <path d=\"M18.56 5.44l.94 2.06.94-2.06 2.06-.94-2.06-.94-.94-2.06-.94 2.06-2.06.94zm-11 1L8.5 8.5l.94-2.06 2.06-.94-2.06-.94L8.5 2.5l-.94 2.06-2.06.94zm10 10l.94 2.06.94-2.06 2.06-.94-2.06-.94-.94-2.06-.94 2.06-2.06.94z\"/><path d=\"M17.41 7.96l-1.37-1.37c-.4-.4-.92-.59-1.43-.59-.52 0-1.04.2-1.43.59L10.3 9.45l-7.72 7.72c-.78.78-.78 2.05 0 2.83L4 21.41c.39.39.9.59 1.41.59.51 0 1.02-.2 1.41-.59l7.78-7.78 2.81-2.81c.8-.78.8-2.07 0-2.86zM5.41 20L4 18.59l7.72-7.72 1.47 1.35L5.41 20z\"/>\n",
              "  </svg>\n",
              "      </button>\n",
              "      \n",
              "  <style>\n",
              "    .colab-df-container {\n",
              "      display:flex;\n",
              "      flex-wrap:wrap;\n",
              "      gap: 12px;\n",
              "    }\n",
              "\n",
              "    .colab-df-convert {\n",
              "      background-color: #E8F0FE;\n",
              "      border: none;\n",
              "      border-radius: 50%;\n",
              "      cursor: pointer;\n",
              "      display: none;\n",
              "      fill: #1967D2;\n",
              "      height: 32px;\n",
              "      padding: 0 0 0 0;\n",
              "      width: 32px;\n",
              "    }\n",
              "\n",
              "    .colab-df-convert:hover {\n",
              "      background-color: #E2EBFA;\n",
              "      box-shadow: 0px 1px 2px rgba(60, 64, 67, 0.3), 0px 1px 3px 1px rgba(60, 64, 67, 0.15);\n",
              "      fill: #174EA6;\n",
              "    }\n",
              "\n",
              "    [theme=dark] .colab-df-convert {\n",
              "      background-color: #3B4455;\n",
              "      fill: #D2E3FC;\n",
              "    }\n",
              "\n",
              "    [theme=dark] .colab-df-convert:hover {\n",
              "      background-color: #434B5C;\n",
              "      box-shadow: 0px 1px 3px 1px rgba(0, 0, 0, 0.15);\n",
              "      filter: drop-shadow(0px 1px 2px rgba(0, 0, 0, 0.3));\n",
              "      fill: #FFFFFF;\n",
              "    }\n",
              "  </style>\n",
              "\n",
              "      <script>\n",
              "        const buttonEl =\n",
              "          document.querySelector('#df-70bfebe6-f9d5-4fb1-a8ed-782d3b77e48d button.colab-df-convert');\n",
              "        buttonEl.style.display =\n",
              "          google.colab.kernel.accessAllowed ? 'block' : 'none';\n",
              "\n",
              "        async function convertToInteractive(key) {\n",
              "          const element = document.querySelector('#df-70bfebe6-f9d5-4fb1-a8ed-782d3b77e48d');\n",
              "          const dataTable =\n",
              "            await google.colab.kernel.invokeFunction('convertToInteractive',\n",
              "                                                     [key], {});\n",
              "          if (!dataTable) return;\n",
              "\n",
              "          const docLinkHtml = 'Like what you see? Visit the ' +\n",
              "            '<a target=\"_blank\" href=https://colab.research.google.com/notebooks/data_table.ipynb>data table notebook</a>'\n",
              "            + ' to learn more about interactive tables.';\n",
              "          element.innerHTML = '';\n",
              "          dataTable['output_type'] = 'display_data';\n",
              "          await google.colab.output.renderOutput(dataTable, element);\n",
              "          const docLink = document.createElement('div');\n",
              "          docLink.innerHTML = docLinkHtml;\n",
              "          element.appendChild(docLink);\n",
              "        }\n",
              "      </script>\n",
              "    </div>\n",
              "  </div>\n",
              "  "
            ]
          },
          "metadata": {},
          "execution_count": 9
        }
      ],
      "source": [
        "orders_train.head()"
      ]
    },
    {
      "cell_type": "code",
      "execution_count": 10,
      "metadata": {
        "colab": {
          "base_uri": "https://localhost:8080/",
          "height": 204
        },
        "id": "WPi0_xi0kVhI",
        "outputId": "176a2c48-3ce6-45f0-9ffa-3cc78b75089c"
      },
      "outputs": [
        {
          "output_type": "execute_result",
          "data": {
            "text/plain": [
              "   order_id  product_id  add_to_cart_order  reordered\n",
              "0         2     33120.0                1.0        1.0\n",
              "1         2     28985.0                2.0        1.0\n",
              "2         2      9327.0                3.0        0.0\n",
              "3         2     45918.0                4.0        1.0\n",
              "4         2     30035.0                5.0        0.0"
            ],
            "text/html": [
              "\n",
              "  <div id=\"df-d4ace5f4-e127-4e12-9fdd-52ef7494fb6f\">\n",
              "    <div class=\"colab-df-container\">\n",
              "      <div>\n",
              "<style scoped>\n",
              "    .dataframe tbody tr th:only-of-type {\n",
              "        vertical-align: middle;\n",
              "    }\n",
              "\n",
              "    .dataframe tbody tr th {\n",
              "        vertical-align: top;\n",
              "    }\n",
              "\n",
              "    .dataframe thead th {\n",
              "        text-align: right;\n",
              "    }\n",
              "</style>\n",
              "<table border=\"1\" class=\"dataframe\">\n",
              "  <thead>\n",
              "    <tr style=\"text-align: right;\">\n",
              "      <th></th>\n",
              "      <th>order_id</th>\n",
              "      <th>product_id</th>\n",
              "      <th>add_to_cart_order</th>\n",
              "      <th>reordered</th>\n",
              "    </tr>\n",
              "  </thead>\n",
              "  <tbody>\n",
              "    <tr>\n",
              "      <th>0</th>\n",
              "      <td>2</td>\n",
              "      <td>33120.0</td>\n",
              "      <td>1.0</td>\n",
              "      <td>1.0</td>\n",
              "    </tr>\n",
              "    <tr>\n",
              "      <th>1</th>\n",
              "      <td>2</td>\n",
              "      <td>28985.0</td>\n",
              "      <td>2.0</td>\n",
              "      <td>1.0</td>\n",
              "    </tr>\n",
              "    <tr>\n",
              "      <th>2</th>\n",
              "      <td>2</td>\n",
              "      <td>9327.0</td>\n",
              "      <td>3.0</td>\n",
              "      <td>0.0</td>\n",
              "    </tr>\n",
              "    <tr>\n",
              "      <th>3</th>\n",
              "      <td>2</td>\n",
              "      <td>45918.0</td>\n",
              "      <td>4.0</td>\n",
              "      <td>1.0</td>\n",
              "    </tr>\n",
              "    <tr>\n",
              "      <th>4</th>\n",
              "      <td>2</td>\n",
              "      <td>30035.0</td>\n",
              "      <td>5.0</td>\n",
              "      <td>0.0</td>\n",
              "    </tr>\n",
              "  </tbody>\n",
              "</table>\n",
              "</div>\n",
              "      <button class=\"colab-df-convert\" onclick=\"convertToInteractive('df-d4ace5f4-e127-4e12-9fdd-52ef7494fb6f')\"\n",
              "              title=\"Convert this dataframe to an interactive table.\"\n",
              "              style=\"display:none;\">\n",
              "        \n",
              "  <svg xmlns=\"http://www.w3.org/2000/svg\" height=\"24px\"viewBox=\"0 0 24 24\"\n",
              "       width=\"24px\">\n",
              "    <path d=\"M0 0h24v24H0V0z\" fill=\"none\"/>\n",
              "    <path d=\"M18.56 5.44l.94 2.06.94-2.06 2.06-.94-2.06-.94-.94-2.06-.94 2.06-2.06.94zm-11 1L8.5 8.5l.94-2.06 2.06-.94-2.06-.94L8.5 2.5l-.94 2.06-2.06.94zm10 10l.94 2.06.94-2.06 2.06-.94-2.06-.94-.94-2.06-.94 2.06-2.06.94z\"/><path d=\"M17.41 7.96l-1.37-1.37c-.4-.4-.92-.59-1.43-.59-.52 0-1.04.2-1.43.59L10.3 9.45l-7.72 7.72c-.78.78-.78 2.05 0 2.83L4 21.41c.39.39.9.59 1.41.59.51 0 1.02-.2 1.41-.59l7.78-7.78 2.81-2.81c.8-.78.8-2.07 0-2.86zM5.41 20L4 18.59l7.72-7.72 1.47 1.35L5.41 20z\"/>\n",
              "  </svg>\n",
              "      </button>\n",
              "      \n",
              "  <style>\n",
              "    .colab-df-container {\n",
              "      display:flex;\n",
              "      flex-wrap:wrap;\n",
              "      gap: 12px;\n",
              "    }\n",
              "\n",
              "    .colab-df-convert {\n",
              "      background-color: #E8F0FE;\n",
              "      border: none;\n",
              "      border-radius: 50%;\n",
              "      cursor: pointer;\n",
              "      display: none;\n",
              "      fill: #1967D2;\n",
              "      height: 32px;\n",
              "      padding: 0 0 0 0;\n",
              "      width: 32px;\n",
              "    }\n",
              "\n",
              "    .colab-df-convert:hover {\n",
              "      background-color: #E2EBFA;\n",
              "      box-shadow: 0px 1px 2px rgba(60, 64, 67, 0.3), 0px 1px 3px 1px rgba(60, 64, 67, 0.15);\n",
              "      fill: #174EA6;\n",
              "    }\n",
              "\n",
              "    [theme=dark] .colab-df-convert {\n",
              "      background-color: #3B4455;\n",
              "      fill: #D2E3FC;\n",
              "    }\n",
              "\n",
              "    [theme=dark] .colab-df-convert:hover {\n",
              "      background-color: #434B5C;\n",
              "      box-shadow: 0px 1px 3px 1px rgba(0, 0, 0, 0.15);\n",
              "      filter: drop-shadow(0px 1px 2px rgba(0, 0, 0, 0.3));\n",
              "      fill: #FFFFFF;\n",
              "    }\n",
              "  </style>\n",
              "\n",
              "      <script>\n",
              "        const buttonEl =\n",
              "          document.querySelector('#df-d4ace5f4-e127-4e12-9fdd-52ef7494fb6f button.colab-df-convert');\n",
              "        buttonEl.style.display =\n",
              "          google.colab.kernel.accessAllowed ? 'block' : 'none';\n",
              "\n",
              "        async function convertToInteractive(key) {\n",
              "          const element = document.querySelector('#df-d4ace5f4-e127-4e12-9fdd-52ef7494fb6f');\n",
              "          const dataTable =\n",
              "            await google.colab.kernel.invokeFunction('convertToInteractive',\n",
              "                                                     [key], {});\n",
              "          if (!dataTable) return;\n",
              "\n",
              "          const docLinkHtml = 'Like what you see? Visit the ' +\n",
              "            '<a target=\"_blank\" href=https://colab.research.google.com/notebooks/data_table.ipynb>data table notebook</a>'\n",
              "            + ' to learn more about interactive tables.';\n",
              "          element.innerHTML = '';\n",
              "          dataTable['output_type'] = 'display_data';\n",
              "          await google.colab.output.renderOutput(dataTable, element);\n",
              "          const docLink = document.createElement('div');\n",
              "          docLink.innerHTML = docLinkHtml;\n",
              "          element.appendChild(docLink);\n",
              "        }\n",
              "      </script>\n",
              "    </div>\n",
              "  </div>\n",
              "  "
            ]
          },
          "metadata": {},
          "execution_count": 10
        }
      ],
      "source": [
        "orders_prior.head()"
      ]
    },
    {
      "cell_type": "code",
      "execution_count": 11,
      "metadata": {
        "colab": {
          "base_uri": "https://localhost:8080/",
          "height": 204
        },
        "id": "X8Joa6EpkVhI",
        "outputId": "5d4bd8b6-e966-4fd6-f1fb-3cb289a67c0a"
      },
      "outputs": [
        {
          "output_type": "execute_result",
          "data": {
            "text/plain": [
              "   product_id                                       product_name  aisle_id  \\\n",
              "0           1                         Chocolate Sandwich Cookies        61   \n",
              "1           2                                   All-Seasons Salt       104   \n",
              "2           3               Robust Golden Unsweetened Oolong Tea        94   \n",
              "3           4  Smart Ones Classic Favorites Mini Rigatoni Wit...        38   \n",
              "4           5                          Green Chile Anytime Sauce         5   \n",
              "\n",
              "   department_id  \n",
              "0             19  \n",
              "1             13  \n",
              "2              7  \n",
              "3              1  \n",
              "4             13  "
            ],
            "text/html": [
              "\n",
              "  <div id=\"df-ea1f5cbb-2ffd-45ec-a588-7e22bf404107\">\n",
              "    <div class=\"colab-df-container\">\n",
              "      <div>\n",
              "<style scoped>\n",
              "    .dataframe tbody tr th:only-of-type {\n",
              "        vertical-align: middle;\n",
              "    }\n",
              "\n",
              "    .dataframe tbody tr th {\n",
              "        vertical-align: top;\n",
              "    }\n",
              "\n",
              "    .dataframe thead th {\n",
              "        text-align: right;\n",
              "    }\n",
              "</style>\n",
              "<table border=\"1\" class=\"dataframe\">\n",
              "  <thead>\n",
              "    <tr style=\"text-align: right;\">\n",
              "      <th></th>\n",
              "      <th>product_id</th>\n",
              "      <th>product_name</th>\n",
              "      <th>aisle_id</th>\n",
              "      <th>department_id</th>\n",
              "    </tr>\n",
              "  </thead>\n",
              "  <tbody>\n",
              "    <tr>\n",
              "      <th>0</th>\n",
              "      <td>1</td>\n",
              "      <td>Chocolate Sandwich Cookies</td>\n",
              "      <td>61</td>\n",
              "      <td>19</td>\n",
              "    </tr>\n",
              "    <tr>\n",
              "      <th>1</th>\n",
              "      <td>2</td>\n",
              "      <td>All-Seasons Salt</td>\n",
              "      <td>104</td>\n",
              "      <td>13</td>\n",
              "    </tr>\n",
              "    <tr>\n",
              "      <th>2</th>\n",
              "      <td>3</td>\n",
              "      <td>Robust Golden Unsweetened Oolong Tea</td>\n",
              "      <td>94</td>\n",
              "      <td>7</td>\n",
              "    </tr>\n",
              "    <tr>\n",
              "      <th>3</th>\n",
              "      <td>4</td>\n",
              "      <td>Smart Ones Classic Favorites Mini Rigatoni Wit...</td>\n",
              "      <td>38</td>\n",
              "      <td>1</td>\n",
              "    </tr>\n",
              "    <tr>\n",
              "      <th>4</th>\n",
              "      <td>5</td>\n",
              "      <td>Green Chile Anytime Sauce</td>\n",
              "      <td>5</td>\n",
              "      <td>13</td>\n",
              "    </tr>\n",
              "  </tbody>\n",
              "</table>\n",
              "</div>\n",
              "      <button class=\"colab-df-convert\" onclick=\"convertToInteractive('df-ea1f5cbb-2ffd-45ec-a588-7e22bf404107')\"\n",
              "              title=\"Convert this dataframe to an interactive table.\"\n",
              "              style=\"display:none;\">\n",
              "        \n",
              "  <svg xmlns=\"http://www.w3.org/2000/svg\" height=\"24px\"viewBox=\"0 0 24 24\"\n",
              "       width=\"24px\">\n",
              "    <path d=\"M0 0h24v24H0V0z\" fill=\"none\"/>\n",
              "    <path d=\"M18.56 5.44l.94 2.06.94-2.06 2.06-.94-2.06-.94-.94-2.06-.94 2.06-2.06.94zm-11 1L8.5 8.5l.94-2.06 2.06-.94-2.06-.94L8.5 2.5l-.94 2.06-2.06.94zm10 10l.94 2.06.94-2.06 2.06-.94-2.06-.94-.94-2.06-.94 2.06-2.06.94z\"/><path d=\"M17.41 7.96l-1.37-1.37c-.4-.4-.92-.59-1.43-.59-.52 0-1.04.2-1.43.59L10.3 9.45l-7.72 7.72c-.78.78-.78 2.05 0 2.83L4 21.41c.39.39.9.59 1.41.59.51 0 1.02-.2 1.41-.59l7.78-7.78 2.81-2.81c.8-.78.8-2.07 0-2.86zM5.41 20L4 18.59l7.72-7.72 1.47 1.35L5.41 20z\"/>\n",
              "  </svg>\n",
              "      </button>\n",
              "      \n",
              "  <style>\n",
              "    .colab-df-container {\n",
              "      display:flex;\n",
              "      flex-wrap:wrap;\n",
              "      gap: 12px;\n",
              "    }\n",
              "\n",
              "    .colab-df-convert {\n",
              "      background-color: #E8F0FE;\n",
              "      border: none;\n",
              "      border-radius: 50%;\n",
              "      cursor: pointer;\n",
              "      display: none;\n",
              "      fill: #1967D2;\n",
              "      height: 32px;\n",
              "      padding: 0 0 0 0;\n",
              "      width: 32px;\n",
              "    }\n",
              "\n",
              "    .colab-df-convert:hover {\n",
              "      background-color: #E2EBFA;\n",
              "      box-shadow: 0px 1px 2px rgba(60, 64, 67, 0.3), 0px 1px 3px 1px rgba(60, 64, 67, 0.15);\n",
              "      fill: #174EA6;\n",
              "    }\n",
              "\n",
              "    [theme=dark] .colab-df-convert {\n",
              "      background-color: #3B4455;\n",
              "      fill: #D2E3FC;\n",
              "    }\n",
              "\n",
              "    [theme=dark] .colab-df-convert:hover {\n",
              "      background-color: #434B5C;\n",
              "      box-shadow: 0px 1px 3px 1px rgba(0, 0, 0, 0.15);\n",
              "      filter: drop-shadow(0px 1px 2px rgba(0, 0, 0, 0.3));\n",
              "      fill: #FFFFFF;\n",
              "    }\n",
              "  </style>\n",
              "\n",
              "      <script>\n",
              "        const buttonEl =\n",
              "          document.querySelector('#df-ea1f5cbb-2ffd-45ec-a588-7e22bf404107 button.colab-df-convert');\n",
              "        buttonEl.style.display =\n",
              "          google.colab.kernel.accessAllowed ? 'block' : 'none';\n",
              "\n",
              "        async function convertToInteractive(key) {\n",
              "          const element = document.querySelector('#df-ea1f5cbb-2ffd-45ec-a588-7e22bf404107');\n",
              "          const dataTable =\n",
              "            await google.colab.kernel.invokeFunction('convertToInteractive',\n",
              "                                                     [key], {});\n",
              "          if (!dataTable) return;\n",
              "\n",
              "          const docLinkHtml = 'Like what you see? Visit the ' +\n",
              "            '<a target=\"_blank\" href=https://colab.research.google.com/notebooks/data_table.ipynb>data table notebook</a>'\n",
              "            + ' to learn more about interactive tables.';\n",
              "          element.innerHTML = '';\n",
              "          dataTable['output_type'] = 'display_data';\n",
              "          await google.colab.output.renderOutput(dataTable, element);\n",
              "          const docLink = document.createElement('div');\n",
              "          docLink.innerHTML = docLinkHtml;\n",
              "          element.appendChild(docLink);\n",
              "        }\n",
              "      </script>\n",
              "    </div>\n",
              "  </div>\n",
              "  "
            ]
          },
          "metadata": {},
          "execution_count": 11
        }
      ],
      "source": [
        "products.head()"
      ]
    },
    {
      "cell_type": "code",
      "execution_count": 12,
      "metadata": {
        "colab": {
          "base_uri": "https://localhost:8080/"
        },
        "id": "p-uoeZBAkVhJ",
        "outputId": "1b7a98e1-2a12-4612-efc8-b13769a0580b"
      },
      "outputs": [
        {
          "output_type": "stream",
          "name": "stdout",
          "text": [
            "<class 'pandas.core.frame.DataFrame'>\n",
            "RangeIndex: 49688 entries, 0 to 49687\n",
            "Data columns (total 4 columns):\n",
            " #   Column         Non-Null Count  Dtype \n",
            "---  ------         --------------  ----- \n",
            " 0   product_id     49688 non-null  int64 \n",
            " 1   product_name   49688 non-null  object\n",
            " 2   aisle_id       49688 non-null  int64 \n",
            " 3   department_id  49688 non-null  int64 \n",
            "dtypes: int64(3), object(1)\n",
            "memory usage: 1.5+ MB\n"
          ]
        }
      ],
      "source": [
        "products.info()"
      ]
    },
    {
      "cell_type": "code",
      "execution_count": 13,
      "metadata": {
        "colab": {
          "base_uri": "https://localhost:8080/",
          "height": 419
        },
        "id": "aDaYsHbJkVhJ",
        "outputId": "b20cc385-fdaf-41bc-a3f0-f8436948d179"
      },
      "outputs": [
        {
          "output_type": "execute_result",
          "data": {
            "text/plain": [
              "       product_id                                       product_name  \\\n",
              "0               1                         Chocolate Sandwich Cookies   \n",
              "1               2                                   All-Seasons Salt   \n",
              "2               3               Robust Golden Unsweetened Oolong Tea   \n",
              "3               4  Smart Ones Classic Favorites Mini Rigatoni Wit...   \n",
              "4               5                          Green Chile Anytime Sauce   \n",
              "...           ...                                                ...   \n",
              "49683       49684          Vodka, Triple Distilled, Twist of Vanilla   \n",
              "49684       49685                 En Croute Roast Hazelnut Cranberry   \n",
              "49685       49686                                   Artisan Baguette   \n",
              "49686       49687         Smartblend Healthy Metabolism Dry Cat Food   \n",
              "49687       49688                             Fresh Foaming Cleanser   \n",
              "\n",
              "                            aisle     department  \n",
              "0                   cookies cakes         snacks  \n",
              "1               spices seasonings         pantry  \n",
              "2                             tea      beverages  \n",
              "3                    frozen meals         frozen  \n",
              "4      marinades meat preparation         pantry  \n",
              "...                           ...            ...  \n",
              "49683                     spirits        alcohol  \n",
              "49684     frozen vegan vegetarian         frozen  \n",
              "49685                       bread         bakery  \n",
              "49686               cat food care           pets  \n",
              "49687                 facial care  personal care  \n",
              "\n",
              "[49688 rows x 4 columns]"
            ],
            "text/html": [
              "\n",
              "  <div id=\"df-ae5e1e92-9871-412f-aa9e-aa6e2baaf349\">\n",
              "    <div class=\"colab-df-container\">\n",
              "      <div>\n",
              "<style scoped>\n",
              "    .dataframe tbody tr th:only-of-type {\n",
              "        vertical-align: middle;\n",
              "    }\n",
              "\n",
              "    .dataframe tbody tr th {\n",
              "        vertical-align: top;\n",
              "    }\n",
              "\n",
              "    .dataframe thead th {\n",
              "        text-align: right;\n",
              "    }\n",
              "</style>\n",
              "<table border=\"1\" class=\"dataframe\">\n",
              "  <thead>\n",
              "    <tr style=\"text-align: right;\">\n",
              "      <th></th>\n",
              "      <th>product_id</th>\n",
              "      <th>product_name</th>\n",
              "      <th>aisle</th>\n",
              "      <th>department</th>\n",
              "    </tr>\n",
              "  </thead>\n",
              "  <tbody>\n",
              "    <tr>\n",
              "      <th>0</th>\n",
              "      <td>1</td>\n",
              "      <td>Chocolate Sandwich Cookies</td>\n",
              "      <td>cookies cakes</td>\n",
              "      <td>snacks</td>\n",
              "    </tr>\n",
              "    <tr>\n",
              "      <th>1</th>\n",
              "      <td>2</td>\n",
              "      <td>All-Seasons Salt</td>\n",
              "      <td>spices seasonings</td>\n",
              "      <td>pantry</td>\n",
              "    </tr>\n",
              "    <tr>\n",
              "      <th>2</th>\n",
              "      <td>3</td>\n",
              "      <td>Robust Golden Unsweetened Oolong Tea</td>\n",
              "      <td>tea</td>\n",
              "      <td>beverages</td>\n",
              "    </tr>\n",
              "    <tr>\n",
              "      <th>3</th>\n",
              "      <td>4</td>\n",
              "      <td>Smart Ones Classic Favorites Mini Rigatoni Wit...</td>\n",
              "      <td>frozen meals</td>\n",
              "      <td>frozen</td>\n",
              "    </tr>\n",
              "    <tr>\n",
              "      <th>4</th>\n",
              "      <td>5</td>\n",
              "      <td>Green Chile Anytime Sauce</td>\n",
              "      <td>marinades meat preparation</td>\n",
              "      <td>pantry</td>\n",
              "    </tr>\n",
              "    <tr>\n",
              "      <th>...</th>\n",
              "      <td>...</td>\n",
              "      <td>...</td>\n",
              "      <td>...</td>\n",
              "      <td>...</td>\n",
              "    </tr>\n",
              "    <tr>\n",
              "      <th>49683</th>\n",
              "      <td>49684</td>\n",
              "      <td>Vodka, Triple Distilled, Twist of Vanilla</td>\n",
              "      <td>spirits</td>\n",
              "      <td>alcohol</td>\n",
              "    </tr>\n",
              "    <tr>\n",
              "      <th>49684</th>\n",
              "      <td>49685</td>\n",
              "      <td>En Croute Roast Hazelnut Cranberry</td>\n",
              "      <td>frozen vegan vegetarian</td>\n",
              "      <td>frozen</td>\n",
              "    </tr>\n",
              "    <tr>\n",
              "      <th>49685</th>\n",
              "      <td>49686</td>\n",
              "      <td>Artisan Baguette</td>\n",
              "      <td>bread</td>\n",
              "      <td>bakery</td>\n",
              "    </tr>\n",
              "    <tr>\n",
              "      <th>49686</th>\n",
              "      <td>49687</td>\n",
              "      <td>Smartblend Healthy Metabolism Dry Cat Food</td>\n",
              "      <td>cat food care</td>\n",
              "      <td>pets</td>\n",
              "    </tr>\n",
              "    <tr>\n",
              "      <th>49687</th>\n",
              "      <td>49688</td>\n",
              "      <td>Fresh Foaming Cleanser</td>\n",
              "      <td>facial care</td>\n",
              "      <td>personal care</td>\n",
              "    </tr>\n",
              "  </tbody>\n",
              "</table>\n",
              "<p>49688 rows × 4 columns</p>\n",
              "</div>\n",
              "      <button class=\"colab-df-convert\" onclick=\"convertToInteractive('df-ae5e1e92-9871-412f-aa9e-aa6e2baaf349')\"\n",
              "              title=\"Convert this dataframe to an interactive table.\"\n",
              "              style=\"display:none;\">\n",
              "        \n",
              "  <svg xmlns=\"http://www.w3.org/2000/svg\" height=\"24px\"viewBox=\"0 0 24 24\"\n",
              "       width=\"24px\">\n",
              "    <path d=\"M0 0h24v24H0V0z\" fill=\"none\"/>\n",
              "    <path d=\"M18.56 5.44l.94 2.06.94-2.06 2.06-.94-2.06-.94-.94-2.06-.94 2.06-2.06.94zm-11 1L8.5 8.5l.94-2.06 2.06-.94-2.06-.94L8.5 2.5l-.94 2.06-2.06.94zm10 10l.94 2.06.94-2.06 2.06-.94-2.06-.94-.94-2.06-.94 2.06-2.06.94z\"/><path d=\"M17.41 7.96l-1.37-1.37c-.4-.4-.92-.59-1.43-.59-.52 0-1.04.2-1.43.59L10.3 9.45l-7.72 7.72c-.78.78-.78 2.05 0 2.83L4 21.41c.39.39.9.59 1.41.59.51 0 1.02-.2 1.41-.59l7.78-7.78 2.81-2.81c.8-.78.8-2.07 0-2.86zM5.41 20L4 18.59l7.72-7.72 1.47 1.35L5.41 20z\"/>\n",
              "  </svg>\n",
              "      </button>\n",
              "      \n",
              "  <style>\n",
              "    .colab-df-container {\n",
              "      display:flex;\n",
              "      flex-wrap:wrap;\n",
              "      gap: 12px;\n",
              "    }\n",
              "\n",
              "    .colab-df-convert {\n",
              "      background-color: #E8F0FE;\n",
              "      border: none;\n",
              "      border-radius: 50%;\n",
              "      cursor: pointer;\n",
              "      display: none;\n",
              "      fill: #1967D2;\n",
              "      height: 32px;\n",
              "      padding: 0 0 0 0;\n",
              "      width: 32px;\n",
              "    }\n",
              "\n",
              "    .colab-df-convert:hover {\n",
              "      background-color: #E2EBFA;\n",
              "      box-shadow: 0px 1px 2px rgba(60, 64, 67, 0.3), 0px 1px 3px 1px rgba(60, 64, 67, 0.15);\n",
              "      fill: #174EA6;\n",
              "    }\n",
              "\n",
              "    [theme=dark] .colab-df-convert {\n",
              "      background-color: #3B4455;\n",
              "      fill: #D2E3FC;\n",
              "    }\n",
              "\n",
              "    [theme=dark] .colab-df-convert:hover {\n",
              "      background-color: #434B5C;\n",
              "      box-shadow: 0px 1px 3px 1px rgba(0, 0, 0, 0.15);\n",
              "      filter: drop-shadow(0px 1px 2px rgba(0, 0, 0, 0.3));\n",
              "      fill: #FFFFFF;\n",
              "    }\n",
              "  </style>\n",
              "\n",
              "      <script>\n",
              "        const buttonEl =\n",
              "          document.querySelector('#df-ae5e1e92-9871-412f-aa9e-aa6e2baaf349 button.colab-df-convert');\n",
              "        buttonEl.style.display =\n",
              "          google.colab.kernel.accessAllowed ? 'block' : 'none';\n",
              "\n",
              "        async function convertToInteractive(key) {\n",
              "          const element = document.querySelector('#df-ae5e1e92-9871-412f-aa9e-aa6e2baaf349');\n",
              "          const dataTable =\n",
              "            await google.colab.kernel.invokeFunction('convertToInteractive',\n",
              "                                                     [key], {});\n",
              "          if (!dataTable) return;\n",
              "\n",
              "          const docLinkHtml = 'Like what you see? Visit the ' +\n",
              "            '<a target=\"_blank\" href=https://colab.research.google.com/notebooks/data_table.ipynb>data table notebook</a>'\n",
              "            + ' to learn more about interactive tables.';\n",
              "          element.innerHTML = '';\n",
              "          dataTable['output_type'] = 'display_data';\n",
              "          await google.colab.output.renderOutput(dataTable, element);\n",
              "          const docLink = document.createElement('div');\n",
              "          docLink.innerHTML = docLinkHtml;\n",
              "          element.appendChild(docLink);\n",
              "        }\n",
              "      </script>\n",
              "    </div>\n",
              "  </div>\n",
              "  "
            ]
          },
          "metadata": {},
          "execution_count": 13
        }
      ],
      "source": [
        "# Merging  products + aisles + department into one df \n",
        "\n",
        "product_df = products.merge(aisles, how='left', left_on = 'aisle_id', right_on = 'aisle_id')\n",
        "product_df = product_df.merge(depts, how='left', left_on='department_id', right_on='department_id')\n",
        "\n",
        "# Dropping duplicative columns \n",
        "\n",
        "product_df.drop(columns=['aisle_id','department_id'],inplace=True)\n",
        "\n",
        "product_df"
      ]
    },
    {
      "cell_type": "code",
      "execution_count": 14,
      "metadata": {
        "colab": {
          "base_uri": "https://localhost:8080/",
          "height": 204
        },
        "id": "Xst2ssx7kVhK",
        "outputId": "6b687657-cb51-4b8c-da5e-ffa36551151b"
      },
      "outputs": [
        {
          "output_type": "execute_result",
          "data": {
            "text/plain": [
              "   order_id  user_id eval_set  order_number  order_dow  order_hour_of_day  \\\n",
              "0     23391        7    prior          17.0        0.0               10.0   \n",
              "1     23391        7    prior          17.0        0.0               10.0   \n",
              "2     23391        7    prior          17.0        0.0               10.0   \n",
              "3     23391        7    prior          17.0        0.0               10.0   \n",
              "4     23391        7    prior          17.0        0.0               10.0   \n",
              "\n",
              "   days_since_prior_order  product_id  add_to_cart_order  reordered  \n",
              "0                    28.0     13198.0                1.0        1.0  \n",
              "1                    28.0     42803.0                2.0        1.0  \n",
              "2                    28.0      8277.0                3.0        1.0  \n",
              "3                    28.0     37602.0                4.0        1.0  \n",
              "4                    28.0     40852.0                5.0        1.0  "
            ],
            "text/html": [
              "\n",
              "  <div id=\"df-9f7d84bc-0ddf-4e53-9350-28f38c8de2f2\">\n",
              "    <div class=\"colab-df-container\">\n",
              "      <div>\n",
              "<style scoped>\n",
              "    .dataframe tbody tr th:only-of-type {\n",
              "        vertical-align: middle;\n",
              "    }\n",
              "\n",
              "    .dataframe tbody tr th {\n",
              "        vertical-align: top;\n",
              "    }\n",
              "\n",
              "    .dataframe thead th {\n",
              "        text-align: right;\n",
              "    }\n",
              "</style>\n",
              "<table border=\"1\" class=\"dataframe\">\n",
              "  <thead>\n",
              "    <tr style=\"text-align: right;\">\n",
              "      <th></th>\n",
              "      <th>order_id</th>\n",
              "      <th>user_id</th>\n",
              "      <th>eval_set</th>\n",
              "      <th>order_number</th>\n",
              "      <th>order_dow</th>\n",
              "      <th>order_hour_of_day</th>\n",
              "      <th>days_since_prior_order</th>\n",
              "      <th>product_id</th>\n",
              "      <th>add_to_cart_order</th>\n",
              "      <th>reordered</th>\n",
              "    </tr>\n",
              "  </thead>\n",
              "  <tbody>\n",
              "    <tr>\n",
              "      <th>0</th>\n",
              "      <td>23391</td>\n",
              "      <td>7</td>\n",
              "      <td>prior</td>\n",
              "      <td>17.0</td>\n",
              "      <td>0.0</td>\n",
              "      <td>10.0</td>\n",
              "      <td>28.0</td>\n",
              "      <td>13198.0</td>\n",
              "      <td>1.0</td>\n",
              "      <td>1.0</td>\n",
              "    </tr>\n",
              "    <tr>\n",
              "      <th>1</th>\n",
              "      <td>23391</td>\n",
              "      <td>7</td>\n",
              "      <td>prior</td>\n",
              "      <td>17.0</td>\n",
              "      <td>0.0</td>\n",
              "      <td>10.0</td>\n",
              "      <td>28.0</td>\n",
              "      <td>42803.0</td>\n",
              "      <td>2.0</td>\n",
              "      <td>1.0</td>\n",
              "    </tr>\n",
              "    <tr>\n",
              "      <th>2</th>\n",
              "      <td>23391</td>\n",
              "      <td>7</td>\n",
              "      <td>prior</td>\n",
              "      <td>17.0</td>\n",
              "      <td>0.0</td>\n",
              "      <td>10.0</td>\n",
              "      <td>28.0</td>\n",
              "      <td>8277.0</td>\n",
              "      <td>3.0</td>\n",
              "      <td>1.0</td>\n",
              "    </tr>\n",
              "    <tr>\n",
              "      <th>3</th>\n",
              "      <td>23391</td>\n",
              "      <td>7</td>\n",
              "      <td>prior</td>\n",
              "      <td>17.0</td>\n",
              "      <td>0.0</td>\n",
              "      <td>10.0</td>\n",
              "      <td>28.0</td>\n",
              "      <td>37602.0</td>\n",
              "      <td>4.0</td>\n",
              "      <td>1.0</td>\n",
              "    </tr>\n",
              "    <tr>\n",
              "      <th>4</th>\n",
              "      <td>23391</td>\n",
              "      <td>7</td>\n",
              "      <td>prior</td>\n",
              "      <td>17.0</td>\n",
              "      <td>0.0</td>\n",
              "      <td>10.0</td>\n",
              "      <td>28.0</td>\n",
              "      <td>40852.0</td>\n",
              "      <td>5.0</td>\n",
              "      <td>1.0</td>\n",
              "    </tr>\n",
              "  </tbody>\n",
              "</table>\n",
              "</div>\n",
              "      <button class=\"colab-df-convert\" onclick=\"convertToInteractive('df-9f7d84bc-0ddf-4e53-9350-28f38c8de2f2')\"\n",
              "              title=\"Convert this dataframe to an interactive table.\"\n",
              "              style=\"display:none;\">\n",
              "        \n",
              "  <svg xmlns=\"http://www.w3.org/2000/svg\" height=\"24px\"viewBox=\"0 0 24 24\"\n",
              "       width=\"24px\">\n",
              "    <path d=\"M0 0h24v24H0V0z\" fill=\"none\"/>\n",
              "    <path d=\"M18.56 5.44l.94 2.06.94-2.06 2.06-.94-2.06-.94-.94-2.06-.94 2.06-2.06.94zm-11 1L8.5 8.5l.94-2.06 2.06-.94-2.06-.94L8.5 2.5l-.94 2.06-2.06.94zm10 10l.94 2.06.94-2.06 2.06-.94-2.06-.94-.94-2.06-.94 2.06-2.06.94z\"/><path d=\"M17.41 7.96l-1.37-1.37c-.4-.4-.92-.59-1.43-.59-.52 0-1.04.2-1.43.59L10.3 9.45l-7.72 7.72c-.78.78-.78 2.05 0 2.83L4 21.41c.39.39.9.59 1.41.59.51 0 1.02-.2 1.41-.59l7.78-7.78 2.81-2.81c.8-.78.8-2.07 0-2.86zM5.41 20L4 18.59l7.72-7.72 1.47 1.35L5.41 20z\"/>\n",
              "  </svg>\n",
              "      </button>\n",
              "      \n",
              "  <style>\n",
              "    .colab-df-container {\n",
              "      display:flex;\n",
              "      flex-wrap:wrap;\n",
              "      gap: 12px;\n",
              "    }\n",
              "\n",
              "    .colab-df-convert {\n",
              "      background-color: #E8F0FE;\n",
              "      border: none;\n",
              "      border-radius: 50%;\n",
              "      cursor: pointer;\n",
              "      display: none;\n",
              "      fill: #1967D2;\n",
              "      height: 32px;\n",
              "      padding: 0 0 0 0;\n",
              "      width: 32px;\n",
              "    }\n",
              "\n",
              "    .colab-df-convert:hover {\n",
              "      background-color: #E2EBFA;\n",
              "      box-shadow: 0px 1px 2px rgba(60, 64, 67, 0.3), 0px 1px 3px 1px rgba(60, 64, 67, 0.15);\n",
              "      fill: #174EA6;\n",
              "    }\n",
              "\n",
              "    [theme=dark] .colab-df-convert {\n",
              "      background-color: #3B4455;\n",
              "      fill: #D2E3FC;\n",
              "    }\n",
              "\n",
              "    [theme=dark] .colab-df-convert:hover {\n",
              "      background-color: #434B5C;\n",
              "      box-shadow: 0px 1px 3px 1px rgba(0, 0, 0, 0.15);\n",
              "      filter: drop-shadow(0px 1px 2px rgba(0, 0, 0, 0.3));\n",
              "      fill: #FFFFFF;\n",
              "    }\n",
              "  </style>\n",
              "\n",
              "      <script>\n",
              "        const buttonEl =\n",
              "          document.querySelector('#df-9f7d84bc-0ddf-4e53-9350-28f38c8de2f2 button.colab-df-convert');\n",
              "        buttonEl.style.display =\n",
              "          google.colab.kernel.accessAllowed ? 'block' : 'none';\n",
              "\n",
              "        async function convertToInteractive(key) {\n",
              "          const element = document.querySelector('#df-9f7d84bc-0ddf-4e53-9350-28f38c8de2f2');\n",
              "          const dataTable =\n",
              "            await google.colab.kernel.invokeFunction('convertToInteractive',\n",
              "                                                     [key], {});\n",
              "          if (!dataTable) return;\n",
              "\n",
              "          const docLinkHtml = 'Like what you see? Visit the ' +\n",
              "            '<a target=\"_blank\" href=https://colab.research.google.com/notebooks/data_table.ipynb>data table notebook</a>'\n",
              "            + ' to learn more about interactive tables.';\n",
              "          element.innerHTML = '';\n",
              "          dataTable['output_type'] = 'display_data';\n",
              "          await google.colab.output.renderOutput(dataTable, element);\n",
              "          const docLink = document.createElement('div');\n",
              "          docLink.innerHTML = docLinkHtml;\n",
              "          element.appendChild(docLink);\n",
              "        }\n",
              "      </script>\n",
              "    </div>\n",
              "  </div>\n",
              "  "
            ]
          },
          "metadata": {},
          "execution_count": 14
        }
      ],
      "source": [
        "# Inner join orders and orders_prior\n",
        "\n",
        "orders_products = orders.merge(orders_prior,on='order_id',how='inner')\n",
        "\n",
        "orders_products.head()"
      ]
    },
    {
      "cell_type": "code",
      "execution_count": 15,
      "metadata": {
        "colab": {
          "base_uri": "https://localhost:8080/"
        },
        "id": "kDTpvhDOkVhK",
        "outputId": "5462d163-a73a-4013-c4ec-fc145009cc0a"
      },
      "outputs": [
        {
          "output_type": "execute_result",
          "data": {
            "text/plain": [
              "0.0    4615\n",
              "Name: reordered, dtype: int64"
            ]
          },
          "metadata": {},
          "execution_count": 15
        }
      ],
      "source": [
        "orders_products[orders_products['order_number'] == 1]['reordered'].value_counts()"
      ]
    },
    {
      "cell_type": "code",
      "execution_count": 16,
      "metadata": {
        "id": "7hxty5yNkVhL"
      },
      "outputs": [],
      "source": [
        "# Observation: The first order_id  for every customer has null values for days_since_prior order and has 0 reorders\n",
        "# for each customer. I believe its safe to assume this is each customers first order. "
      ]
    },
    {
      "cell_type": "code",
      "execution_count": 17,
      "metadata": {
        "colab": {
          "base_uri": "https://localhost:8080/",
          "height": 297
        },
        "id": "NxcuS_x6kVhL",
        "outputId": "f5a5a5b1-64a8-4ff3-f1bb-6e8ba6935d6f"
      },
      "outputs": [
        {
          "output_type": "execute_result",
          "data": {
            "text/plain": [
              "           order_id       user_id  order_number     order_dow  \\\n",
              "count  71782.000000  71782.000000  71782.000000  71782.000000   \n",
              "mean   34785.518932  11317.302081     17.705065      2.778106   \n",
              "std    20174.810007   6476.700931     17.769689      2.077039   \n",
              "min        6.000000      7.000000      1.000000      0.000000   \n",
              "25%    17307.000000   5692.000000      5.000000      1.000000   \n",
              "50%    34810.000000  11465.000000     11.000000      3.000000   \n",
              "75%    52329.000000  16857.000000     25.000000      5.000000   \n",
              "max    69401.000000  22488.000000     99.000000      6.000000   \n",
              "\n",
              "       order_hour_of_day  days_since_prior_order    product_id  \\\n",
              "count       71782.000000            67167.000000  71782.000000   \n",
              "mean           13.418684               11.041821  25573.220668   \n",
              "std             4.229606                8.745148  14087.557862   \n",
              "min             0.000000                0.000000      1.000000   \n",
              "25%            10.000000                5.000000  13371.000000   \n",
              "50%            13.000000                8.000000  25407.000000   \n",
              "75%            16.000000               15.000000  37786.500000   \n",
              "max            23.000000               30.000000  49683.000000   \n",
              "\n",
              "       add_to_cart_order     reordered  \n",
              "count       71782.000000  71782.000000  \n",
              "mean            8.236619      0.597601  \n",
              "std             6.997573      0.490385  \n",
              "min             1.000000      0.000000  \n",
              "25%             3.000000      0.000000  \n",
              "50%             6.000000      1.000000  \n",
              "75%            11.000000      1.000000  \n",
              "max            60.000000      1.000000  "
            ],
            "text/html": [
              "\n",
              "  <div id=\"df-daf32e79-68fc-4999-90db-c9d004b36390\">\n",
              "    <div class=\"colab-df-container\">\n",
              "      <div>\n",
              "<style scoped>\n",
              "    .dataframe tbody tr th:only-of-type {\n",
              "        vertical-align: middle;\n",
              "    }\n",
              "\n",
              "    .dataframe tbody tr th {\n",
              "        vertical-align: top;\n",
              "    }\n",
              "\n",
              "    .dataframe thead th {\n",
              "        text-align: right;\n",
              "    }\n",
              "</style>\n",
              "<table border=\"1\" class=\"dataframe\">\n",
              "  <thead>\n",
              "    <tr style=\"text-align: right;\">\n",
              "      <th></th>\n",
              "      <th>order_id</th>\n",
              "      <th>user_id</th>\n",
              "      <th>order_number</th>\n",
              "      <th>order_dow</th>\n",
              "      <th>order_hour_of_day</th>\n",
              "      <th>days_since_prior_order</th>\n",
              "      <th>product_id</th>\n",
              "      <th>add_to_cart_order</th>\n",
              "      <th>reordered</th>\n",
              "    </tr>\n",
              "  </thead>\n",
              "  <tbody>\n",
              "    <tr>\n",
              "      <th>count</th>\n",
              "      <td>71782.000000</td>\n",
              "      <td>71782.000000</td>\n",
              "      <td>71782.000000</td>\n",
              "      <td>71782.000000</td>\n",
              "      <td>71782.000000</td>\n",
              "      <td>67167.000000</td>\n",
              "      <td>71782.000000</td>\n",
              "      <td>71782.000000</td>\n",
              "      <td>71782.000000</td>\n",
              "    </tr>\n",
              "    <tr>\n",
              "      <th>mean</th>\n",
              "      <td>34785.518932</td>\n",
              "      <td>11317.302081</td>\n",
              "      <td>17.705065</td>\n",
              "      <td>2.778106</td>\n",
              "      <td>13.418684</td>\n",
              "      <td>11.041821</td>\n",
              "      <td>25573.220668</td>\n",
              "      <td>8.236619</td>\n",
              "      <td>0.597601</td>\n",
              "    </tr>\n",
              "    <tr>\n",
              "      <th>std</th>\n",
              "      <td>20174.810007</td>\n",
              "      <td>6476.700931</td>\n",
              "      <td>17.769689</td>\n",
              "      <td>2.077039</td>\n",
              "      <td>4.229606</td>\n",
              "      <td>8.745148</td>\n",
              "      <td>14087.557862</td>\n",
              "      <td>6.997573</td>\n",
              "      <td>0.490385</td>\n",
              "    </tr>\n",
              "    <tr>\n",
              "      <th>min</th>\n",
              "      <td>6.000000</td>\n",
              "      <td>7.000000</td>\n",
              "      <td>1.000000</td>\n",
              "      <td>0.000000</td>\n",
              "      <td>0.000000</td>\n",
              "      <td>0.000000</td>\n",
              "      <td>1.000000</td>\n",
              "      <td>1.000000</td>\n",
              "      <td>0.000000</td>\n",
              "    </tr>\n",
              "    <tr>\n",
              "      <th>25%</th>\n",
              "      <td>17307.000000</td>\n",
              "      <td>5692.000000</td>\n",
              "      <td>5.000000</td>\n",
              "      <td>1.000000</td>\n",
              "      <td>10.000000</td>\n",
              "      <td>5.000000</td>\n",
              "      <td>13371.000000</td>\n",
              "      <td>3.000000</td>\n",
              "      <td>0.000000</td>\n",
              "    </tr>\n",
              "    <tr>\n",
              "      <th>50%</th>\n",
              "      <td>34810.000000</td>\n",
              "      <td>11465.000000</td>\n",
              "      <td>11.000000</td>\n",
              "      <td>3.000000</td>\n",
              "      <td>13.000000</td>\n",
              "      <td>8.000000</td>\n",
              "      <td>25407.000000</td>\n",
              "      <td>6.000000</td>\n",
              "      <td>1.000000</td>\n",
              "    </tr>\n",
              "    <tr>\n",
              "      <th>75%</th>\n",
              "      <td>52329.000000</td>\n",
              "      <td>16857.000000</td>\n",
              "      <td>25.000000</td>\n",
              "      <td>5.000000</td>\n",
              "      <td>16.000000</td>\n",
              "      <td>15.000000</td>\n",
              "      <td>37786.500000</td>\n",
              "      <td>11.000000</td>\n",
              "      <td>1.000000</td>\n",
              "    </tr>\n",
              "    <tr>\n",
              "      <th>max</th>\n",
              "      <td>69401.000000</td>\n",
              "      <td>22488.000000</td>\n",
              "      <td>99.000000</td>\n",
              "      <td>6.000000</td>\n",
              "      <td>23.000000</td>\n",
              "      <td>30.000000</td>\n",
              "      <td>49683.000000</td>\n",
              "      <td>60.000000</td>\n",
              "      <td>1.000000</td>\n",
              "    </tr>\n",
              "  </tbody>\n",
              "</table>\n",
              "</div>\n",
              "      <button class=\"colab-df-convert\" onclick=\"convertToInteractive('df-daf32e79-68fc-4999-90db-c9d004b36390')\"\n",
              "              title=\"Convert this dataframe to an interactive table.\"\n",
              "              style=\"display:none;\">\n",
              "        \n",
              "  <svg xmlns=\"http://www.w3.org/2000/svg\" height=\"24px\"viewBox=\"0 0 24 24\"\n",
              "       width=\"24px\">\n",
              "    <path d=\"M0 0h24v24H0V0z\" fill=\"none\"/>\n",
              "    <path d=\"M18.56 5.44l.94 2.06.94-2.06 2.06-.94-2.06-.94-.94-2.06-.94 2.06-2.06.94zm-11 1L8.5 8.5l.94-2.06 2.06-.94-2.06-.94L8.5 2.5l-.94 2.06-2.06.94zm10 10l.94 2.06.94-2.06 2.06-.94-2.06-.94-.94-2.06-.94 2.06-2.06.94z\"/><path d=\"M17.41 7.96l-1.37-1.37c-.4-.4-.92-.59-1.43-.59-.52 0-1.04.2-1.43.59L10.3 9.45l-7.72 7.72c-.78.78-.78 2.05 0 2.83L4 21.41c.39.39.9.59 1.41.59.51 0 1.02-.2 1.41-.59l7.78-7.78 2.81-2.81c.8-.78.8-2.07 0-2.86zM5.41 20L4 18.59l7.72-7.72 1.47 1.35L5.41 20z\"/>\n",
              "  </svg>\n",
              "      </button>\n",
              "      \n",
              "  <style>\n",
              "    .colab-df-container {\n",
              "      display:flex;\n",
              "      flex-wrap:wrap;\n",
              "      gap: 12px;\n",
              "    }\n",
              "\n",
              "    .colab-df-convert {\n",
              "      background-color: #E8F0FE;\n",
              "      border: none;\n",
              "      border-radius: 50%;\n",
              "      cursor: pointer;\n",
              "      display: none;\n",
              "      fill: #1967D2;\n",
              "      height: 32px;\n",
              "      padding: 0 0 0 0;\n",
              "      width: 32px;\n",
              "    }\n",
              "\n",
              "    .colab-df-convert:hover {\n",
              "      background-color: #E2EBFA;\n",
              "      box-shadow: 0px 1px 2px rgba(60, 64, 67, 0.3), 0px 1px 3px 1px rgba(60, 64, 67, 0.15);\n",
              "      fill: #174EA6;\n",
              "    }\n",
              "\n",
              "    [theme=dark] .colab-df-convert {\n",
              "      background-color: #3B4455;\n",
              "      fill: #D2E3FC;\n",
              "    }\n",
              "\n",
              "    [theme=dark] .colab-df-convert:hover {\n",
              "      background-color: #434B5C;\n",
              "      box-shadow: 0px 1px 3px 1px rgba(0, 0, 0, 0.15);\n",
              "      filter: drop-shadow(0px 1px 2px rgba(0, 0, 0, 0.3));\n",
              "      fill: #FFFFFF;\n",
              "    }\n",
              "  </style>\n",
              "\n",
              "      <script>\n",
              "        const buttonEl =\n",
              "          document.querySelector('#df-daf32e79-68fc-4999-90db-c9d004b36390 button.colab-df-convert');\n",
              "        buttonEl.style.display =\n",
              "          google.colab.kernel.accessAllowed ? 'block' : 'none';\n",
              "\n",
              "        async function convertToInteractive(key) {\n",
              "          const element = document.querySelector('#df-daf32e79-68fc-4999-90db-c9d004b36390');\n",
              "          const dataTable =\n",
              "            await google.colab.kernel.invokeFunction('convertToInteractive',\n",
              "                                                     [key], {});\n",
              "          if (!dataTable) return;\n",
              "\n",
              "          const docLinkHtml = 'Like what you see? Visit the ' +\n",
              "            '<a target=\"_blank\" href=https://colab.research.google.com/notebooks/data_table.ipynb>data table notebook</a>'\n",
              "            + ' to learn more about interactive tables.';\n",
              "          element.innerHTML = '';\n",
              "          dataTable['output_type'] = 'display_data';\n",
              "          await google.colab.output.renderOutput(dataTable, element);\n",
              "          const docLink = document.createElement('div');\n",
              "          docLink.innerHTML = docLinkHtml;\n",
              "          element.appendChild(docLink);\n",
              "        }\n",
              "      </script>\n",
              "    </div>\n",
              "  </div>\n",
              "  "
            ]
          },
          "metadata": {},
          "execution_count": 17
        }
      ],
      "source": [
        "orders_products.describe()"
      ]
    },
    {
      "cell_type": "code",
      "execution_count": 18,
      "metadata": {
        "colab": {
          "base_uri": "https://localhost:8080/",
          "height": 370
        },
        "id": "Gwimloh6kVhM",
        "outputId": "db7ddad0-341c-4c74-989f-dfe1a6d41a37"
      },
      "outputs": [
        {
          "output_type": "execute_result",
          "data": {
            "text/plain": [
              "   order_id  user_id eval_set  order_number  order_dow  order_hour_of_day  \\\n",
              "0     23391        7    prior          17.0        0.0               10.0   \n",
              "1     23391        7    prior          17.0        0.0               10.0   \n",
              "2     23391        7    prior          17.0        0.0               10.0   \n",
              "3     23391        7    prior          17.0        0.0               10.0   \n",
              "4     23391        7    prior          17.0        0.0               10.0   \n",
              "\n",
              "   days_since_prior_order  product_id  add_to_cart_order  reordered  \\\n",
              "0                    28.0     13198.0                1.0        1.0   \n",
              "1                    28.0     42803.0                2.0        1.0   \n",
              "2                    28.0      8277.0                3.0        1.0   \n",
              "3                    28.0     37602.0                4.0        1.0   \n",
              "4                    28.0     40852.0                5.0        1.0   \n",
              "\n",
              "                 product_name                   aisle    department  \n",
              "0        85% Lean Ground Beef            meat counter  meat seafood  \n",
              "1        Organic Apple Slices  fruit vegetable snacks        snacks  \n",
              "2    Apple Honeycrisp Organic            fresh fruits       produce  \n",
              "3              Mexican Coffee                  coffee     beverages  \n",
              "4  Lactose Free Fat Free Milk         soy lactosefree    dairy eggs  "
            ],
            "text/html": [
              "\n",
              "  <div id=\"df-a57a7408-eb85-4209-8b30-36ce17b2b3cf\">\n",
              "    <div class=\"colab-df-container\">\n",
              "      <div>\n",
              "<style scoped>\n",
              "    .dataframe tbody tr th:only-of-type {\n",
              "        vertical-align: middle;\n",
              "    }\n",
              "\n",
              "    .dataframe tbody tr th {\n",
              "        vertical-align: top;\n",
              "    }\n",
              "\n",
              "    .dataframe thead th {\n",
              "        text-align: right;\n",
              "    }\n",
              "</style>\n",
              "<table border=\"1\" class=\"dataframe\">\n",
              "  <thead>\n",
              "    <tr style=\"text-align: right;\">\n",
              "      <th></th>\n",
              "      <th>order_id</th>\n",
              "      <th>user_id</th>\n",
              "      <th>eval_set</th>\n",
              "      <th>order_number</th>\n",
              "      <th>order_dow</th>\n",
              "      <th>order_hour_of_day</th>\n",
              "      <th>days_since_prior_order</th>\n",
              "      <th>product_id</th>\n",
              "      <th>add_to_cart_order</th>\n",
              "      <th>reordered</th>\n",
              "      <th>product_name</th>\n",
              "      <th>aisle</th>\n",
              "      <th>department</th>\n",
              "    </tr>\n",
              "  </thead>\n",
              "  <tbody>\n",
              "    <tr>\n",
              "      <th>0</th>\n",
              "      <td>23391</td>\n",
              "      <td>7</td>\n",
              "      <td>prior</td>\n",
              "      <td>17.0</td>\n",
              "      <td>0.0</td>\n",
              "      <td>10.0</td>\n",
              "      <td>28.0</td>\n",
              "      <td>13198.0</td>\n",
              "      <td>1.0</td>\n",
              "      <td>1.0</td>\n",
              "      <td>85% Lean Ground Beef</td>\n",
              "      <td>meat counter</td>\n",
              "      <td>meat seafood</td>\n",
              "    </tr>\n",
              "    <tr>\n",
              "      <th>1</th>\n",
              "      <td>23391</td>\n",
              "      <td>7</td>\n",
              "      <td>prior</td>\n",
              "      <td>17.0</td>\n",
              "      <td>0.0</td>\n",
              "      <td>10.0</td>\n",
              "      <td>28.0</td>\n",
              "      <td>42803.0</td>\n",
              "      <td>2.0</td>\n",
              "      <td>1.0</td>\n",
              "      <td>Organic Apple Slices</td>\n",
              "      <td>fruit vegetable snacks</td>\n",
              "      <td>snacks</td>\n",
              "    </tr>\n",
              "    <tr>\n",
              "      <th>2</th>\n",
              "      <td>23391</td>\n",
              "      <td>7</td>\n",
              "      <td>prior</td>\n",
              "      <td>17.0</td>\n",
              "      <td>0.0</td>\n",
              "      <td>10.0</td>\n",
              "      <td>28.0</td>\n",
              "      <td>8277.0</td>\n",
              "      <td>3.0</td>\n",
              "      <td>1.0</td>\n",
              "      <td>Apple Honeycrisp Organic</td>\n",
              "      <td>fresh fruits</td>\n",
              "      <td>produce</td>\n",
              "    </tr>\n",
              "    <tr>\n",
              "      <th>3</th>\n",
              "      <td>23391</td>\n",
              "      <td>7</td>\n",
              "      <td>prior</td>\n",
              "      <td>17.0</td>\n",
              "      <td>0.0</td>\n",
              "      <td>10.0</td>\n",
              "      <td>28.0</td>\n",
              "      <td>37602.0</td>\n",
              "      <td>4.0</td>\n",
              "      <td>1.0</td>\n",
              "      <td>Mexican Coffee</td>\n",
              "      <td>coffee</td>\n",
              "      <td>beverages</td>\n",
              "    </tr>\n",
              "    <tr>\n",
              "      <th>4</th>\n",
              "      <td>23391</td>\n",
              "      <td>7</td>\n",
              "      <td>prior</td>\n",
              "      <td>17.0</td>\n",
              "      <td>0.0</td>\n",
              "      <td>10.0</td>\n",
              "      <td>28.0</td>\n",
              "      <td>40852.0</td>\n",
              "      <td>5.0</td>\n",
              "      <td>1.0</td>\n",
              "      <td>Lactose Free Fat Free Milk</td>\n",
              "      <td>soy lactosefree</td>\n",
              "      <td>dairy eggs</td>\n",
              "    </tr>\n",
              "  </tbody>\n",
              "</table>\n",
              "</div>\n",
              "      <button class=\"colab-df-convert\" onclick=\"convertToInteractive('df-a57a7408-eb85-4209-8b30-36ce17b2b3cf')\"\n",
              "              title=\"Convert this dataframe to an interactive table.\"\n",
              "              style=\"display:none;\">\n",
              "        \n",
              "  <svg xmlns=\"http://www.w3.org/2000/svg\" height=\"24px\"viewBox=\"0 0 24 24\"\n",
              "       width=\"24px\">\n",
              "    <path d=\"M0 0h24v24H0V0z\" fill=\"none\"/>\n",
              "    <path d=\"M18.56 5.44l.94 2.06.94-2.06 2.06-.94-2.06-.94-.94-2.06-.94 2.06-2.06.94zm-11 1L8.5 8.5l.94-2.06 2.06-.94-2.06-.94L8.5 2.5l-.94 2.06-2.06.94zm10 10l.94 2.06.94-2.06 2.06-.94-2.06-.94-.94-2.06-.94 2.06-2.06.94z\"/><path d=\"M17.41 7.96l-1.37-1.37c-.4-.4-.92-.59-1.43-.59-.52 0-1.04.2-1.43.59L10.3 9.45l-7.72 7.72c-.78.78-.78 2.05 0 2.83L4 21.41c.39.39.9.59 1.41.59.51 0 1.02-.2 1.41-.59l7.78-7.78 2.81-2.81c.8-.78.8-2.07 0-2.86zM5.41 20L4 18.59l7.72-7.72 1.47 1.35L5.41 20z\"/>\n",
              "  </svg>\n",
              "      </button>\n",
              "      \n",
              "  <style>\n",
              "    .colab-df-container {\n",
              "      display:flex;\n",
              "      flex-wrap:wrap;\n",
              "      gap: 12px;\n",
              "    }\n",
              "\n",
              "    .colab-df-convert {\n",
              "      background-color: #E8F0FE;\n",
              "      border: none;\n",
              "      border-radius: 50%;\n",
              "      cursor: pointer;\n",
              "      display: none;\n",
              "      fill: #1967D2;\n",
              "      height: 32px;\n",
              "      padding: 0 0 0 0;\n",
              "      width: 32px;\n",
              "    }\n",
              "\n",
              "    .colab-df-convert:hover {\n",
              "      background-color: #E2EBFA;\n",
              "      box-shadow: 0px 1px 2px rgba(60, 64, 67, 0.3), 0px 1px 3px 1px rgba(60, 64, 67, 0.15);\n",
              "      fill: #174EA6;\n",
              "    }\n",
              "\n",
              "    [theme=dark] .colab-df-convert {\n",
              "      background-color: #3B4455;\n",
              "      fill: #D2E3FC;\n",
              "    }\n",
              "\n",
              "    [theme=dark] .colab-df-convert:hover {\n",
              "      background-color: #434B5C;\n",
              "      box-shadow: 0px 1px 3px 1px rgba(0, 0, 0, 0.15);\n",
              "      filter: drop-shadow(0px 1px 2px rgba(0, 0, 0, 0.3));\n",
              "      fill: #FFFFFF;\n",
              "    }\n",
              "  </style>\n",
              "\n",
              "      <script>\n",
              "        const buttonEl =\n",
              "          document.querySelector('#df-a57a7408-eb85-4209-8b30-36ce17b2b3cf button.colab-df-convert');\n",
              "        buttonEl.style.display =\n",
              "          google.colab.kernel.accessAllowed ? 'block' : 'none';\n",
              "\n",
              "        async function convertToInteractive(key) {\n",
              "          const element = document.querySelector('#df-a57a7408-eb85-4209-8b30-36ce17b2b3cf');\n",
              "          const dataTable =\n",
              "            await google.colab.kernel.invokeFunction('convertToInteractive',\n",
              "                                                     [key], {});\n",
              "          if (!dataTable) return;\n",
              "\n",
              "          const docLinkHtml = 'Like what you see? Visit the ' +\n",
              "            '<a target=\"_blank\" href=https://colab.research.google.com/notebooks/data_table.ipynb>data table notebook</a>'\n",
              "            + ' to learn more about interactive tables.';\n",
              "          element.innerHTML = '';\n",
              "          dataTable['output_type'] = 'display_data';\n",
              "          await google.colab.output.renderOutput(dataTable, element);\n",
              "          const docLink = document.createElement('div');\n",
              "          docLink.innerHTML = docLinkHtml;\n",
              "          element.appendChild(docLink);\n",
              "        }\n",
              "      </script>\n",
              "    </div>\n",
              "  </div>\n",
              "  "
            ]
          },
          "metadata": {},
          "execution_count": 18
        }
      ],
      "source": [
        "orders_products =  orders_products.merge(product_df,how='left',left_on='product_id',right_on='product_id')\n",
        "\n",
        "orders_products.head()"
      ]
    },
    {
      "cell_type": "code",
      "execution_count": 19,
      "metadata": {
        "colab": {
          "base_uri": "https://localhost:8080/"
        },
        "id": "mI7fx6yFkVhM",
        "outputId": "435b2ec5-9e4d-494d-eb7b-fc12fd23fc90"
      },
      "outputs": [
        {
          "output_type": "stream",
          "name": "stdout",
          "text": [
            "<class 'pandas.core.frame.DataFrame'>\n",
            "Int64Index: 71782 entries, 0 to 71781\n",
            "Data columns (total 13 columns):\n",
            " #   Column                  Non-Null Count  Dtype  \n",
            "---  ------                  --------------  -----  \n",
            " 0   order_id                71782 non-null  int64  \n",
            " 1   user_id                 71782 non-null  int64  \n",
            " 2   eval_set                71782 non-null  object \n",
            " 3   order_number            71782 non-null  float64\n",
            " 4   order_dow               71782 non-null  float64\n",
            " 5   order_hour_of_day       71782 non-null  float64\n",
            " 6   days_since_prior_order  67167 non-null  float64\n",
            " 7   product_id              71782 non-null  float64\n",
            " 8   add_to_cart_order       71782 non-null  float64\n",
            " 9   reordered               71782 non-null  float64\n",
            " 10  product_name            71782 non-null  object \n",
            " 11  aisle                   71782 non-null  object \n",
            " 12  department              71782 non-null  object \n",
            "dtypes: float64(7), int64(2), object(4)\n",
            "memory usage: 7.7+ MB\n"
          ]
        }
      ],
      "source": [
        "orders_products.info()"
      ]
    },
    {
      "cell_type": "code",
      "execution_count": 20,
      "metadata": {
        "colab": {
          "base_uri": "https://localhost:8080/"
        },
        "id": "tebH1s2TkVhM",
        "outputId": "c175593c-b642-4b27-9f27-82ce08e6a2b9"
      },
      "outputs": [
        {
          "output_type": "execute_result",
          "data": {
            "text/plain": [
              "order_id                     0\n",
              "user_id                      0\n",
              "eval_set                     0\n",
              "order_number                 0\n",
              "order_dow                    0\n",
              "order_hour_of_day            0\n",
              "days_since_prior_order    4615\n",
              "product_id                   0\n",
              "add_to_cart_order            0\n",
              "reordered                    0\n",
              "product_name                 0\n",
              "aisle                        0\n",
              "department                   0\n",
              "dtype: int64"
            ]
          },
          "metadata": {},
          "execution_count": 20
        }
      ],
      "source": [
        "orders_products.isna().sum()"
      ]
    },
    {
      "cell_type": "code",
      "execution_count": 21,
      "metadata": {
        "colab": {
          "base_uri": "https://localhost:8080/",
          "height": 565
        },
        "id": "7r1UzTK3kVhM",
        "outputId": "d6c109cb-b156-45fb-a2ac-90ac4e569e4e"
      },
      "outputs": [
        {
          "output_type": "display_data",
          "data": {
            "text/plain": [
              "<Figure size 576x576 with 1 Axes>"
            ],
            "image/png": "[encoded data removed]"
          },
          "metadata": {
            "needs_background": "light"
          }
        }
      ],
      "source": [
        "# Visualizing top ordered products \n",
        "\n",
        "fig, ax = plt.subplots(figsize=(8,8))\n",
        "\n",
        "orders_products['product_name'].value_counts().head(10).plot(ax=ax, kind='bar')\n",
        "\n",
        "plt.xticks(rotation = 45,ha='right', rotation_mode='anchor');"
      ]
    },
    {
      "cell_type": "code",
      "execution_count": 22,
      "metadata": {
        "colab": {
          "base_uri": "https://localhost:8080/",
          "height": 583
        },
        "id": "iqLmAHX2kVhN",
        "outputId": "367f6523-d0f9-4e02-a98e-170902e0ffb7"
      },
      "outputs": [
        {
          "output_type": "display_data",
          "data": {
            "text/plain": [
              "<Figure size 576x576 with 1 Axes>"
            ],
            "image/png": "[encoded data removed]"
          },
          "metadata": {
            "needs_background": "light"
          }
        }
      ],
      "source": [
        "# Visualizing most ordered from aisles \n",
        "\n",
        "fig, ax = plt.subplots(figsize=(8,8))\n",
        "\n",
        "\n",
        "orders_products['aisle'].value_counts().head(10).plot(ax=ax, kind='bar')\n",
        "\n",
        "plt.xticks(rotation = 45,ha='right', rotation_mode='anchor');"
      ]
    },
    {
      "cell_type": "code",
      "execution_count": 23,
      "metadata": {
        "colab": {
          "base_uri": "https://localhost:8080/",
          "height": 54
        },
        "id": "R2QJCpaYkVhN",
        "outputId": "3f791065-84b3-4c8d-f1c2-dce4ab563231"
      },
      "outputs": [
        {
          "output_type": "display_data",
          "data": {
            "text/plain": [
              "<Figure size 576x576 with 1 Axes>"
            ],
            "image/png": "[encoded data removed]"
          },
          "metadata": {
            "needs_background": "light"
          }
        }
      ],
      "source": [
        "# Visualizing most ordered from departments \n",
        "\n",
        "fig, ax = plt.subplots(figsize=(8,8))\n",
        "\n",
        "orders_products['department'].value_counts().head(10).plot(ax=ax, kind='bar')\n",
        "plt.xticks(rotation = 45,ha='right', rotation_mode='anchor');"
      ]
    },
    {
      "cell_type": "code",
      "execution_count": 24,
      "metadata": {
        "colab": {
          "base_uri": "https://localhost:8080/"
        },
        "id": "dxUYLU2skVhO",
        "outputId": "444ec58d-4fc0-4a96-f958-06d0dbfd0848"
      },
      "outputs": [
        {
          "output_type": "stream",
          "name": "stdout",
          "text": [
            "Orders: 7207, Users: 5441\n"
          ]
        }
      ],
      "source": [
        "# Checking amount of unique order_ids and user_ids present in the prior df\n",
        "\n",
        "unique_orders = orders_products['order_id'].nunique()\n",
        "unique_users = orders_products['user_id'].nunique()\n",
        "\n",
        "print(f\"Orders: {unique_orders}, Users: {unique_users}\")"
      ]
    },
    {
      "cell_type": "code",
      "execution_count": 25,
      "metadata": {
        "colab": {
          "base_uri": "https://localhost:8080/"
        },
        "id": "wYeTVDYhkVhO",
        "outputId": "991a2648-22fc-4f44-d9dd-62b8b203c786"
      },
      "outputs": [
        {
          "output_type": "execute_result",
          "data": {
            "text/plain": [
              "0.0    13234\n",
              "1.0    12507\n",
              "6.0     9929\n",
              "5.0     9255\n",
              "3.0     9168\n",
              "4.0     9090\n",
              "2.0     8599\n",
              "Name: order_dow, dtype: int64"
            ]
          },
          "metadata": {},
          "execution_count": 25
        }
      ],
      "source": [
        "# Checking most frequent order day of the week \n",
        "\n",
        "orders_products['order_dow'].value_counts()"
      ]
    },
    {
      "cell_type": "code",
      "execution_count": 26,
      "metadata": {
        "id": "metMdq1ykVhO"
      },
      "outputs": [],
      "source": [
        "# Most frequent order days are Sunday, Monday & Saturday "
      ]
    },
    {
      "cell_type": "code",
      "execution_count": 27,
      "metadata": {
        "colab": {
          "base_uri": "https://localhost:8080/"
        },
        "id": "O1ETtPUbkVhP",
        "outputId": "03fe6ef1-adc5-4edc-f8d4-17c10975dfee"
      },
      "outputs": [
        {
          "output_type": "execute_result",
          "data": {
            "text/plain": [
              "14.0    6240\n",
              "10.0    6182\n",
              "12.0    5960\n",
              "11.0    5849\n",
              "9.0     5741\n",
              "16.0    5707\n",
              "13.0    5696\n",
              "15.0    5671\n",
              "17.0    4924\n",
              "8.0     3610\n",
              "18.0    3537\n",
              "19.0    2733\n",
              "20.0    2255\n",
              "7.0     2000\n",
              "21.0    1501\n",
              "22.0    1409\n",
              "23.0     906\n",
              "0.0      583\n",
              "6.0      497\n",
              "5.0      218\n",
              "4.0      194\n",
              "1.0      185\n",
              "2.0      136\n",
              "3.0       48\n",
              "Name: order_hour_of_day, dtype: int64"
            ]
          },
          "metadata": {},
          "execution_count": 27
        }
      ],
      "source": [
        "# Checking most common order hour \n",
        "\n",
        "orders_products['order_hour_of_day'].value_counts()"
      ]
    },
    {
      "cell_type": "code",
      "execution_count": 28,
      "metadata": {
        "id": "EyjRNuoKkVhP"
      },
      "outputs": [],
      "source": [
        "# Most frequent order times tend to be in the morning/early afternoon. This makes sense as most people want to \n",
        "# get the groceries delivered when they get home "
      ]
    },
    {
      "cell_type": "code",
      "execution_count": 29,
      "metadata": {
        "colab": {
          "base_uri": "https://localhost:8080/",
          "height": 54
        },
        "id": "GsrwmpBFkVhP",
        "outputId": "474d99db-4087-43db-babb-59a2b75920e5"
      },
      "outputs": [
        {
          "output_type": "display_data",
          "data": {
            "text/plain": [
              "<Figure size 864x576 with 1 Axes>"
            ],
            "image/png": "[encoded data removed]"
          },
          "metadata": {
            "needs_background": "light"
          }
        }
      ],
      "source": [
        "# Visualizing orders by time of day \n",
        "\n",
        "orders_products['order_hour_of_day'].value_counts(sort=False).plot.bar(figsize=(12,8));"
      ]
    },
    {
      "cell_type": "code",
      "execution_count": 30,
      "metadata": {
        "colab": {
          "base_uri": "https://localhost:8080/",
          "height": 54
        },
        "id": "vlrffU31kVhP",
        "outputId": "ec17148b-146b-4a84-faf4-58b5de0faed7"
      },
      "outputs": [
        {
          "output_type": "display_data",
          "data": {
            "text/plain": [
              "<Figure size 864x576 with 1 Axes>"
            ],
            "image/png": "[encoded data removed]"
          },
          "metadata": {
            "needs_background": "light"
          }
        }
      ],
      "source": [
        "# Visualizing most frequent order days\n",
        "\n",
        "orders_products['order_dow'].value_counts(sort=False).plot.bar(figsize=(12,8));"
      ]
    },
    {
      "cell_type": "code",
      "execution_count": 31,
      "metadata": {
        "colab": {
          "base_uri": "https://localhost:8080/"
        },
        "id": "ztORWe-PkVhQ",
        "outputId": "61da7033-a094-4e6d-ab31-2087cf305db8"
      },
      "outputs": [
        {
          "output_type": "execute_result",
          "data": {
            "text/plain": [
              "0.5976010699061046"
            ]
          },
          "metadata": {},
          "execution_count": 31
        }
      ],
      "source": [
        "# Percentage of reorders from priors df\n",
        "\n",
        "orders_products['reordered'].sum()/orders_products.shape[0]"
      ]
    },
    {
      "cell_type": "markdown",
      "metadata": {
        "id": "I8eBWCHmkVhQ"
      },
      "source": [
        "## Feature Engineering"
      ]
    },
    {
      "cell_type": "markdown",
      "metadata": {
        "id": "1DaX2gKbkVhR"
      },
      "source": [
        "### Product Features "
      ]
    },
    {
      "cell_type": "code",
      "execution_count": 32,
      "metadata": {
        "id": "i0T8E0EdkVhR"
      },
      "outputs": [],
      "source": [
        "# # group = df['Data3'].groupby(df['Date']).sum()\n",
        "\n",
        "# # df['Data4'] = group\n",
        "\n",
        "# group = orders_products['reordered'].groupby(orders_products['user_id']).transform('sum')\n",
        "\n",
        "# orders_products['user_reorders'] = group "
      ]
    },
    {
      "cell_type": "code",
      "execution_count": 33,
      "metadata": {
        "colab": {
          "base_uri": "https://localhost:8080/",
          "height": 370
        },
        "id": "Nk4FyAu1kVhS",
        "outputId": "361e3332-ea3d-4fa7-9d7d-76c6cb4df26e"
      },
      "outputs": [
        {
          "output_type": "execute_result",
          "data": {
            "text/plain": [
              "   order_id  user_id eval_set  order_number  order_dow  order_hour_of_day  \\\n",
              "0     23391        7    prior          17.0        0.0               10.0   \n",
              "1     23391        7    prior          17.0        0.0               10.0   \n",
              "2     23391        7    prior          17.0        0.0               10.0   \n",
              "3     23391        7    prior          17.0        0.0               10.0   \n",
              "4     23391        7    prior          17.0        0.0               10.0   \n",
              "\n",
              "   days_since_prior_order  product_id  add_to_cart_order  reordered  \\\n",
              "0                    28.0     13198.0                1.0        1.0   \n",
              "1                    28.0     42803.0                2.0        1.0   \n",
              "2                    28.0      8277.0                3.0        1.0   \n",
              "3                    28.0     37602.0                4.0        1.0   \n",
              "4                    28.0     40852.0                5.0        1.0   \n",
              "\n",
              "                 product_name                   aisle    department  \n",
              "0        85% Lean Ground Beef            meat counter  meat seafood  \n",
              "1        Organic Apple Slices  fruit vegetable snacks        snacks  \n",
              "2    Apple Honeycrisp Organic            fresh fruits       produce  \n",
              "3              Mexican Coffee                  coffee     beverages  \n",
              "4  Lactose Free Fat Free Milk         soy lactosefree    dairy eggs  "
            ],
            "text/html": [
              "\n",
              "  <div id=\"df-e9680682-2de4-4a9e-863b-a383dcd24329\">\n",
              "    <div class=\"colab-df-container\">\n",
              "      <div>\n",
              "<style scoped>\n",
              "    .dataframe tbody tr th:only-of-type {\n",
              "        vertical-align: middle;\n",
              "    }\n",
              "\n",
              "    .dataframe tbody tr th {\n",
              "        vertical-align: top;\n",
              "    }\n",
              "\n",
              "    .dataframe thead th {\n",
              "        text-align: right;\n",
              "    }\n",
              "</style>\n",
              "<table border=\"1\" class=\"dataframe\">\n",
              "  <thead>\n",
              "    <tr style=\"text-align: right;\">\n",
              "      <th></th>\n",
              "      <th>order_id</th>\n",
              "      <th>user_id</th>\n",
              "      <th>eval_set</th>\n",
              "      <th>order_number</th>\n",
              "      <th>order_dow</th>\n",
              "      <th>order_hour_of_day</th>\n",
              "      <th>days_since_prior_order</th>\n",
              "      <th>product_id</th>\n",
              "      <th>add_to_cart_order</th>\n",
              "      <th>reordered</th>\n",
              "      <th>product_name</th>\n",
              "      <th>aisle</th>\n",
              "      <th>department</th>\n",
              "    </tr>\n",
              "  </thead>\n",
              "  <tbody>\n",
              "    <tr>\n",
              "      <th>0</th>\n",
              "      <td>23391</td>\n",
              "      <td>7</td>\n",
              "      <td>prior</td>\n",
              "      <td>17.0</td>\n",
              "      <td>0.0</td>\n",
              "      <td>10.0</td>\n",
              "      <td>28.0</td>\n",
              "      <td>13198.0</td>\n",
              "      <td>1.0</td>\n",
              "      <td>1.0</td>\n",
              "      <td>85% Lean Ground Beef</td>\n",
              "      <td>meat counter</td>\n",
              "      <td>meat seafood</td>\n",
              "    </tr>\n",
              "    <tr>\n",
              "      <th>1</th>\n",
              "      <td>23391</td>\n",
              "      <td>7</td>\n",
              "      <td>prior</td>\n",
              "      <td>17.0</td>\n",
              "      <td>0.0</td>\n",
              "      <td>10.0</td>\n",
              "      <td>28.0</td>\n",
              "      <td>42803.0</td>\n",
              "      <td>2.0</td>\n",
              "      <td>1.0</td>\n",
              "      <td>Organic Apple Slices</td>\n",
              "      <td>fruit vegetable snacks</td>\n",
              "      <td>snacks</td>\n",
              "    </tr>\n",
              "    <tr>\n",
              "      <th>2</th>\n",
              "      <td>23391</td>\n",
              "      <td>7</td>\n",
              "      <td>prior</td>\n",
              "      <td>17.0</td>\n",
              "      <td>0.0</td>\n",
              "      <td>10.0</td>\n",
              "      <td>28.0</td>\n",
              "      <td>8277.0</td>\n",
              "      <td>3.0</td>\n",
              "      <td>1.0</td>\n",
              "      <td>Apple Honeycrisp Organic</td>\n",
              "      <td>fresh fruits</td>\n",
              "      <td>produce</td>\n",
              "    </tr>\n",
              "    <tr>\n",
              "      <th>3</th>\n",
              "      <td>23391</td>\n",
              "      <td>7</td>\n",
              "      <td>prior</td>\n",
              "      <td>17.0</td>\n",
              "      <td>0.0</td>\n",
              "      <td>10.0</td>\n",
              "      <td>28.0</td>\n",
              "      <td>37602.0</td>\n",
              "      <td>4.0</td>\n",
              "      <td>1.0</td>\n",
              "      <td>Mexican Coffee</td>\n",
              "      <td>coffee</td>\n",
              "      <td>beverages</td>\n",
              "    </tr>\n",
              "    <tr>\n",
              "      <th>4</th>\n",
              "      <td>23391</td>\n",
              "      <td>7</td>\n",
              "      <td>prior</td>\n",
              "      <td>17.0</td>\n",
              "      <td>0.0</td>\n",
              "      <td>10.0</td>\n",
              "      <td>28.0</td>\n",
              "      <td>40852.0</td>\n",
              "      <td>5.0</td>\n",
              "      <td>1.0</td>\n",
              "      <td>Lactose Free Fat Free Milk</td>\n",
              "      <td>soy lactosefree</td>\n",
              "      <td>dairy eggs</td>\n",
              "    </tr>\n",
              "  </tbody>\n",
              "</table>\n",
              "</div>\n",
              "      <button class=\"colab-df-convert\" onclick=\"convertToInteractive('df-e9680682-2de4-4a9e-863b-a383dcd24329')\"\n",
              "              title=\"Convert this dataframe to an interactive table.\"\n",
              "              style=\"display:none;\">\n",
              "        \n",
              "  <svg xmlns=\"http://www.w3.org/2000/svg\" height=\"24px\"viewBox=\"0 0 24 24\"\n",
              "       width=\"24px\">\n",
              "    <path d=\"M0 0h24v24H0V0z\" fill=\"none\"/>\n",
              "    <path d=\"M18.56 5.44l.94 2.06.94-2.06 2.06-.94-2.06-.94-.94-2.06-.94 2.06-2.06.94zm-11 1L8.5 8.5l.94-2.06 2.06-.94-2.06-.94L8.5 2.5l-.94 2.06-2.06.94zm10 10l.94 2.06.94-2.06 2.06-.94-2.06-.94-.94-2.06-.94 2.06-2.06.94z\"/><path d=\"M17.41 7.96l-1.37-1.37c-.4-.4-.92-.59-1.43-.59-.52 0-1.04.2-1.43.59L10.3 9.45l-7.72 7.72c-.78.78-.78 2.05 0 2.83L4 21.41c.39.39.9.59 1.41.59.51 0 1.02-.2 1.41-.59l7.78-7.78 2.81-2.81c.8-.78.8-2.07 0-2.86zM5.41 20L4 18.59l7.72-7.72 1.47 1.35L5.41 20z\"/>\n",
              "  </svg>\n",
              "      </button>\n",
              "      \n",
              "  <style>\n",
              "    .colab-df-container {\n",
              "      display:flex;\n",
              "      flex-wrap:wrap;\n",
              "      gap: 12px;\n",
              "    }\n",
              "\n",
              "    .colab-df-convert {\n",
              "      background-color: #E8F0FE;\n",
              "      border: none;\n",
              "      border-radius: 50%;\n",
              "      cursor: pointer;\n",
              "      display: none;\n",
              "      fill: #1967D2;\n",
              "      height: 32px;\n",
              "      padding: 0 0 0 0;\n",
              "      width: 32px;\n",
              "    }\n",
              "\n",
              "    .colab-df-convert:hover {\n",
              "      background-color: #E2EBFA;\n",
              "      box-shadow: 0px 1px 2px rgba(60, 64, 67, 0.3), 0px 1px 3px 1px rgba(60, 64, 67, 0.15);\n",
              "      fill: #174EA6;\n",
              "    }\n",
              "\n",
              "    [theme=dark] .colab-df-convert {\n",
              "      background-color: #3B4455;\n",
              "      fill: #D2E3FC;\n",
              "    }\n",
              "\n",
              "    [theme=dark] .colab-df-convert:hover {\n",
              "      background-color: #434B5C;\n",
              "      box-shadow: 0px 1px 3px 1px rgba(0, 0, 0, 0.15);\n",
              "      filter: drop-shadow(0px 1px 2px rgba(0, 0, 0, 0.3));\n",
              "      fill: #FFFFFF;\n",
              "    }\n",
              "  </style>\n",
              "\n",
              "      <script>\n",
              "        const buttonEl =\n",
              "          document.querySelector('#df-e9680682-2de4-4a9e-863b-a383dcd24329 button.colab-df-convert');\n",
              "        buttonEl.style.display =\n",
              "          google.colab.kernel.accessAllowed ? 'block' : 'none';\n",
              "\n",
              "        async function convertToInteractive(key) {\n",
              "          const element = document.querySelector('#df-e9680682-2de4-4a9e-863b-a383dcd24329');\n",
              "          const dataTable =\n",
              "            await google.colab.kernel.invokeFunction('convertToInteractive',\n",
              "                                                     [key], {});\n",
              "          if (!dataTable) return;\n",
              "\n",
              "          const docLinkHtml = 'Like what you see? Visit the ' +\n",
              "            '<a target=\"_blank\" href=https://colab.research.google.com/notebooks/data_table.ipynb>data table notebook</a>'\n",
              "            + ' to learn more about interactive tables.';\n",
              "          element.innerHTML = '';\n",
              "          dataTable['output_type'] = 'display_data';\n",
              "          await google.colab.output.renderOutput(dataTable, element);\n",
              "          const docLink = document.createElement('div');\n",
              "          docLink.innerHTML = docLinkHtml;\n",
              "          element.appendChild(docLink);\n",
              "        }\n",
              "      </script>\n",
              "    </div>\n",
              "  </div>\n",
              "  "
            ]
          },
          "metadata": {},
          "execution_count": 33
        }
      ],
      "source": [
        "orders_products.head()"
      ]
    },
    {
      "cell_type": "code",
      "execution_count": 34,
      "metadata": {
        "id": "oRFIaDQ8kVhT"
      },
      "outputs": [],
      "source": [
        "# Calculating product_order_frequency\n",
        "\n",
        "orders_products['product_order_freq'] = orders_products.groupby(['user_id','product_id']).cumcount() + 1"
      ]
    },
    {
      "cell_type": "code",
      "execution_count": 35,
      "metadata": {
        "id": "qHKcc3cdkVhT"
      },
      "outputs": [],
      "source": [
        "# Calculating total orders by product \n",
        "\n",
        "group = orders_products.groupby('product_id')['product_id'].transform('count')\n",
        "\n",
        "orders_products['prd_total_orders'] = group"
      ]
    },
    {
      "cell_type": "code",
      "execution_count": 36,
      "metadata": {
        "id": "fw_R3r7skVhT"
      },
      "outputs": [],
      "source": [
        "# Calculating first_orders by product\n",
        "\n",
        "orders_products['first_orders'] = (orders_products.assign(first = orders_products['product_order_freq']\n",
        "                          .where(orders_products['product_order_freq'] == 1))\n",
        "                          .groupby('product_id')['first']\n",
        "                          .transform('sum'))"
      ]
    },
    {
      "cell_type": "code",
      "execution_count": 37,
      "metadata": {
        "id": "X-B6BhNukVhT"
      },
      "outputs": [],
      "source": [
        "# Calculating second_orders by product\n",
        "\n",
        "orders_products['second_orders'] = (orders_products.assign(second = orders_products['product_order_freq']\n",
        "                          .where(orders_products['product_order_freq'] == 2))\n",
        "                          .groupby('product_id')['second']\n",
        "                          .transform('sum'))"
      ]
    },
    {
      "cell_type": "code",
      "execution_count": 38,
      "metadata": {
        "id": "OF263HfJkVhT"
      },
      "outputs": [],
      "source": [
        "# Calcuating total reorders by product \n",
        "\n",
        "group = orders_products.groupby('product_id')['reordered'].transform('sum')\n",
        "\n",
        "orders_products['prd_total_reorders'] = group"
      ]
    },
    {
      "cell_type": "code",
      "execution_count": 39,
      "metadata": {
        "id": "YSCm0jDXkVhU"
      },
      "outputs": [],
      "source": [
        "# Calculating final product features \n",
        "\n",
        "orders_products['prd_reorder_prob'] = orders_products['second_orders']/orders_products['first_orders']\n",
        "orders_products['prd_reorder_times'] = 1 + (orders_products['prd_total_reorders']/orders_products['first_orders'])\n",
        "orders_products['prd_reorder_ratio'] = orders_products['prd_total_reorders']/orders_products['prd_total_orders']\n",
        "orders_products.drop(columns=['first_orders','second_orders'],inplace=True)"
      ]
    },
    {
      "cell_type": "code",
      "execution_count": 40,
      "metadata": {
        "colab": {
          "base_uri": "https://localhost:8080/",
          "height": 370
        },
        "id": "ZkitXcAZkVhU",
        "outputId": "7b3275d5-7b3b-412a-cba2-97fae30680b2"
      },
      "outputs": [
        {
          "output_type": "execute_result",
          "data": {
            "text/plain": [
              "   order_id  user_id eval_set  order_number  order_dow  order_hour_of_day  \\\n",
              "0     23391        7    prior          17.0        0.0               10.0   \n",
              "1     23391        7    prior          17.0        0.0               10.0   \n",
              "2     23391        7    prior          17.0        0.0               10.0   \n",
              "3     23391        7    prior          17.0        0.0               10.0   \n",
              "4     23391        7    prior          17.0        0.0               10.0   \n",
              "\n",
              "   days_since_prior_order  product_id  add_to_cart_order  reordered  \\\n",
              "0                    28.0     13198.0                1.0        1.0   \n",
              "1                    28.0     42803.0                2.0        1.0   \n",
              "2                    28.0      8277.0                3.0        1.0   \n",
              "3                    28.0     37602.0                4.0        1.0   \n",
              "4                    28.0     40852.0                5.0        1.0   \n",
              "\n",
              "                 product_name                   aisle    department  \\\n",
              "0        85% Lean Ground Beef            meat counter  meat seafood   \n",
              "1        Organic Apple Slices  fruit vegetable snacks        snacks   \n",
              "2    Apple Honeycrisp Organic            fresh fruits       produce   \n",
              "3              Mexican Coffee                  coffee     beverages   \n",
              "4  Lactose Free Fat Free Milk         soy lactosefree    dairy eggs   \n",
              "\n",
              "   product_order_freq  prd_total_orders  prd_total_reorders  prd_reorder_prob  \\\n",
              "0                   1                29                15.0          0.074074   \n",
              "1                   1                14                11.0          0.166667   \n",
              "2                   1               203               150.0          0.173913   \n",
              "3                   1                 2                 2.0          0.000000   \n",
              "4                   1                 8                 5.0          0.000000   \n",
              "\n",
              "   prd_reorder_times  prd_reorder_ratio  \n",
              "0           1.555556           0.517241  \n",
              "1           1.916667           0.785714  \n",
              "2           1.815217           0.738916  \n",
              "3           2.000000           1.000000  \n",
              "4           1.625000           0.625000  "
            ],
            "text/html": [
              "\n",
              "  <div id=\"df-95ebf07a-ddbb-41fe-af6f-f4120847547f\">\n",
              "    <div class=\"colab-df-container\">\n",
              "      <div>\n",
              "<style scoped>\n",
              "    .dataframe tbody tr th:only-of-type {\n",
              "        vertical-align: middle;\n",
              "    }\n",
              "\n",
              "    .dataframe tbody tr th {\n",
              "        vertical-align: top;\n",
              "    }\n",
              "\n",
              "    .dataframe thead th {\n",
              "        text-align: right;\n",
              "    }\n",
              "</style>\n",
              "<table border=\"1\" class=\"dataframe\">\n",
              "  <thead>\n",
              "    <tr style=\"text-align: right;\">\n",
              "      <th></th>\n",
              "      <th>order_id</th>\n",
              "      <th>user_id</th>\n",
              "      <th>eval_set</th>\n",
              "      <th>order_number</th>\n",
              "      <th>order_dow</th>\n",
              "      <th>order_hour_of_day</th>\n",
              "      <th>days_since_prior_order</th>\n",
              "      <th>product_id</th>\n",
              "      <th>add_to_cart_order</th>\n",
              "      <th>reordered</th>\n",
              "      <th>product_name</th>\n",
              "      <th>aisle</th>\n",
              "      <th>department</th>\n",
              "      <th>product_order_freq</th>\n",
              "      <th>prd_total_orders</th>\n",
              "      <th>prd_total_reorders</th>\n",
              "      <th>prd_reorder_prob</th>\n",
              "      <th>prd_reorder_times</th>\n",
              "      <th>prd_reorder_ratio</th>\n",
              "    </tr>\n",
              "  </thead>\n",
              "  <tbody>\n",
              "    <tr>\n",
              "      <th>0</th>\n",
              "      <td>23391</td>\n",
              "      <td>7</td>\n",
              "      <td>prior</td>\n",
              "      <td>17.0</td>\n",
              "      <td>0.0</td>\n",
              "      <td>10.0</td>\n",
              "      <td>28.0</td>\n",
              "      <td>13198.0</td>\n",
              "      <td>1.0</td>\n",
              "      <td>1.0</td>\n",
              "      <td>85% Lean Ground Beef</td>\n",
              "      <td>meat counter</td>\n",
              "      <td>meat seafood</td>\n",
              "      <td>1</td>\n",
              "      <td>29</td>\n",
              "      <td>15.0</td>\n",
              "      <td>0.074074</td>\n",
              "      <td>1.555556</td>\n",
              "      <td>0.517241</td>\n",
              "    </tr>\n",
              "    <tr>\n",
              "      <th>1</th>\n",
              "      <td>23391</td>\n",
              "      <td>7</td>\n",
              "      <td>prior</td>\n",
              "      <td>17.0</td>\n",
              "      <td>0.0</td>\n",
              "      <td>10.0</td>\n",
              "      <td>28.0</td>\n",
              "      <td>42803.0</td>\n",
              "      <td>2.0</td>\n",
              "      <td>1.0</td>\n",
              "      <td>Organic Apple Slices</td>\n",
              "      <td>fruit vegetable snacks</td>\n",
              "      <td>snacks</td>\n",
              "      <td>1</td>\n",
              "      <td>14</td>\n",
              "      <td>11.0</td>\n",
              "      <td>0.166667</td>\n",
              "      <td>1.916667</td>\n",
              "      <td>0.785714</td>\n",
              "    </tr>\n",
              "    <tr>\n",
              "      <th>2</th>\n",
              "      <td>23391</td>\n",
              "      <td>7</td>\n",
              "      <td>prior</td>\n",
              "      <td>17.0</td>\n",
              "      <td>0.0</td>\n",
              "      <td>10.0</td>\n",
              "      <td>28.0</td>\n",
              "      <td>8277.0</td>\n",
              "      <td>3.0</td>\n",
              "      <td>1.0</td>\n",
              "      <td>Apple Honeycrisp Organic</td>\n",
              "      <td>fresh fruits</td>\n",
              "      <td>produce</td>\n",
              "      <td>1</td>\n",
              "      <td>203</td>\n",
              "      <td>150.0</td>\n",
              "      <td>0.173913</td>\n",
              "      <td>1.815217</td>\n",
              "      <td>0.738916</td>\n",
              "    </tr>\n",
              "    <tr>\n",
              "      <th>3</th>\n",
              "      <td>23391</td>\n",
              "      <td>7</td>\n",
              "      <td>prior</td>\n",
              "      <td>17.0</td>\n",
              "      <td>0.0</td>\n",
              "      <td>10.0</td>\n",
              "      <td>28.0</td>\n",
              "      <td>37602.0</td>\n",
              "      <td>4.0</td>\n",
              "      <td>1.0</td>\n",
              "      <td>Mexican Coffee</td>\n",
              "      <td>coffee</td>\n",
              "      <td>beverages</td>\n",
              "      <td>1</td>\n",
              "      <td>2</td>\n",
              "      <td>2.0</td>\n",
              "      <td>0.000000</td>\n",
              "      <td>2.000000</td>\n",
              "      <td>1.000000</td>\n",
              "    </tr>\n",
              "    <tr>\n",
              "      <th>4</th>\n",
              "      <td>23391</td>\n",
              "      <td>7</td>\n",
              "      <td>prior</td>\n",
              "      <td>17.0</td>\n",
              "      <td>0.0</td>\n",
              "      <td>10.0</td>\n",
              "      <td>28.0</td>\n",
              "      <td>40852.0</td>\n",
              "      <td>5.0</td>\n",
              "      <td>1.0</td>\n",
              "      <td>Lactose Free Fat Free Milk</td>\n",
              "      <td>soy lactosefree</td>\n",
              "      <td>dairy eggs</td>\n",
              "      <td>1</td>\n",
              "      <td>8</td>\n",
              "      <td>5.0</td>\n",
              "      <td>0.000000</td>\n",
              "      <td>1.625000</td>\n",
              "      <td>0.625000</td>\n",
              "    </tr>\n",
              "  </tbody>\n",
              "</table>\n",
              "</div>\n",
              "      <button class=\"colab-df-convert\" onclick=\"convertToInteractive('df-95ebf07a-ddbb-41fe-af6f-f4120847547f')\"\n",
              "              title=\"Convert this dataframe to an interactive table.\"\n",
              "              style=\"display:none;\">\n",
              "        \n",
              "  <svg xmlns=\"http://www.w3.org/2000/svg\" height=\"24px\"viewBox=\"0 0 24 24\"\n",
              "       width=\"24px\">\n",
              "    <path d=\"M0 0h24v24H0V0z\" fill=\"none\"/>\n",
              "    <path d=\"M18.56 5.44l.94 2.06.94-2.06 2.06-.94-2.06-.94-.94-2.06-.94 2.06-2.06.94zm-11 1L8.5 8.5l.94-2.06 2.06-.94-2.06-.94L8.5 2.5l-.94 2.06-2.06.94zm10 10l.94 2.06.94-2.06 2.06-.94-2.06-.94-.94-2.06-.94 2.06-2.06.94z\"/><path d=\"M17.41 7.96l-1.37-1.37c-.4-.4-.92-.59-1.43-.59-.52 0-1.04.2-1.43.59L10.3 9.45l-7.72 7.72c-.78.78-.78 2.05 0 2.83L4 21.41c.39.39.9.59 1.41.59.51 0 1.02-.2 1.41-.59l7.78-7.78 2.81-2.81c.8-.78.8-2.07 0-2.86zM5.41 20L4 18.59l7.72-7.72 1.47 1.35L5.41 20z\"/>\n",
              "  </svg>\n",
              "      </button>\n",
              "      \n",
              "  <style>\n",
              "    .colab-df-container {\n",
              "      display:flex;\n",
              "      flex-wrap:wrap;\n",
              "      gap: 12px;\n",
              "    }\n",
              "\n",
              "    .colab-df-convert {\n",
              "      background-color: #E8F0FE;\n",
              "      border: none;\n",
              "      border-radius: 50%;\n",
              "      cursor: pointer;\n",
              "      display: none;\n",
              "      fill: #1967D2;\n",
              "      height: 32px;\n",
              "      padding: 0 0 0 0;\n",
              "      width: 32px;\n",
              "    }\n",
              "\n",
              "    .colab-df-convert:hover {\n",
              "      background-color: #E2EBFA;\n",
              "      box-shadow: 0px 1px 2px rgba(60, 64, 67, 0.3), 0px 1px 3px 1px rgba(60, 64, 67, 0.15);\n",
              "      fill: #174EA6;\n",
              "    }\n",
              "\n",
              "    [theme=dark] .colab-df-convert {\n",
              "      background-color: #3B4455;\n",
              "      fill: #D2E3FC;\n",
              "    }\n",
              "\n",
              "    [theme=dark] .colab-df-convert:hover {\n",
              "      background-color: #434B5C;\n",
              "      box-shadow: 0px 1px 3px 1px rgba(0, 0, 0, 0.15);\n",
              "      filter: drop-shadow(0px 1px 2px rgba(0, 0, 0, 0.3));\n",
              "      fill: #FFFFFF;\n",
              "    }\n",
              "  </style>\n",
              "\n",
              "      <script>\n",
              "        const buttonEl =\n",
              "          document.querySelector('#df-95ebf07a-ddbb-41fe-af6f-f4120847547f button.colab-df-convert');\n",
              "        buttonEl.style.display =\n",
              "          google.colab.kernel.accessAllowed ? 'block' : 'none';\n",
              "\n",
              "        async function convertToInteractive(key) {\n",
              "          const element = document.querySelector('#df-95ebf07a-ddbb-41fe-af6f-f4120847547f');\n",
              "          const dataTable =\n",
              "            await google.colab.kernel.invokeFunction('convertToInteractive',\n",
              "                                                     [key], {});\n",
              "          if (!dataTable) return;\n",
              "\n",
              "          const docLinkHtml = 'Like what you see? Visit the ' +\n",
              "            '<a target=\"_blank\" href=https://colab.research.google.com/notebooks/data_table.ipynb>data table notebook</a>'\n",
              "            + ' to learn more about interactive tables.';\n",
              "          element.innerHTML = '';\n",
              "          dataTable['output_type'] = 'display_data';\n",
              "          await google.colab.output.renderOutput(dataTable, element);\n",
              "          const docLink = document.createElement('div');\n",
              "          docLink.innerHTML = docLinkHtml;\n",
              "          element.appendChild(docLink);\n",
              "        }\n",
              "      </script>\n",
              "    </div>\n",
              "  </div>\n",
              "  "
            ]
          },
          "metadata": {},
          "execution_count": 40
        }
      ],
      "source": [
        "orders_products.head()"
      ]
    },
    {
      "cell_type": "code",
      "execution_count": 41,
      "metadata": {
        "colab": {
          "base_uri": "https://localhost:8080/"
        },
        "id": "b8G2rTaYkVhV",
        "outputId": "f103c95f-652b-42b5-ba61-ea47b800e693"
      },
      "outputs": [
        {
          "output_type": "execute_result",
          "data": {
            "text/plain": [
              "order_id                     0\n",
              "user_id                      0\n",
              "eval_set                     0\n",
              "order_number                 0\n",
              "order_dow                    0\n",
              "order_hour_of_day            0\n",
              "days_since_prior_order    4615\n",
              "product_id                   0\n",
              "add_to_cart_order            0\n",
              "reordered                    0\n",
              "product_name                 0\n",
              "aisle                        0\n",
              "department                   0\n",
              "product_order_freq           0\n",
              "prd_total_orders             0\n",
              "prd_total_reorders           0\n",
              "prd_reorder_prob             0\n",
              "prd_reorder_times            0\n",
              "prd_reorder_ratio            0\n",
              "dtype: int64"
            ]
          },
          "metadata": {},
          "execution_count": 41
        }
      ],
      "source": [
        "orders_products.isna().sum()"
      ]
    },
    {
      "cell_type": "markdown",
      "metadata": {
        "id": "dN3PALlDkVhW"
      },
      "source": [
        "### User Features"
      ]
    },
    {
      "cell_type": "code",
      "execution_count": 42,
      "metadata": {
        "id": "E1pbnE5pkVhW"
      },
      "outputs": [],
      "source": [
        "# Calculating total orders per user \n",
        "\n",
        "orders_products['total_user_orders'] = orders_products.groupby('user_id')['order_number'].transform('max')"
      ]
    },
    {
      "cell_type": "code",
      "execution_count": 43,
      "metadata": {
        "id": "dUNTtyIJkVhW"
      },
      "outputs": [],
      "source": [
        "# Calculating total reorders per user \n",
        "\n",
        "group = orders_products['reordered'].groupby(orders_products['user_id']).transform('sum')\n",
        "\n",
        "orders_products['user_reorders'] = group "
      ]
    },
    {
      "cell_type": "code",
      "execution_count": 44,
      "metadata": {
        "id": "_4qM8TUgkVhW"
      },
      "outputs": [],
      "source": [
        "# Calculating total products ordered by user \n",
        "\n",
        "group = orders_products['order_id'].groupby(orders_products['user_id']).transform('count')\n",
        "\n",
        "orders_products['total_user_prod_orders'] = group"
      ]
    },
    {
      "cell_type": "code",
      "execution_count": 45,
      "metadata": {
        "id": "7dSqcYWfkVhW"
      },
      "outputs": [],
      "source": [
        "# Calculating re-order ratio by product user \n",
        "\n",
        "orders_products['user_reorder_ratio'] = orders_products['user_reorders']/orders_products['total_user_prod_orders']"
      ]
    },
    {
      "cell_type": "code",
      "execution_count": 46,
      "metadata": {
        "id": "ZSpOS0S0kVhW"
      },
      "outputs": [],
      "source": [
        "# Calculating average basket size by user \n",
        "\n",
        "orders_products['user_avg_bskt'] = orders_products['total_user_prod_orders']/orders_products['total_user_orders']"
      ]
    },
    {
      "cell_type": "code",
      "execution_count": 47,
      "metadata": {
        "colab": {
          "base_uri": "https://localhost:8080/",
          "height": 297
        },
        "id": "Dw_SerOQkVhW",
        "outputId": "3e6f08d6-7a7b-4d67-a6f4-ac5bb3e84d0d"
      },
      "outputs": [
        {
          "output_type": "execute_result",
          "data": {
            "text/plain": [
              "   order_id  user_id eval_set  order_number  order_dow  order_hour_of_day  \\\n",
              "0     23391        7    prior          17.0        0.0               10.0   \n",
              "1     23391        7    prior          17.0        0.0               10.0   \n",
              "2     23391        7    prior          17.0        0.0               10.0   \n",
              "3     23391        7    prior          17.0        0.0               10.0   \n",
              "4     23391        7    prior          17.0        0.0               10.0   \n",
              "\n",
              "   days_since_prior_order  product_id  add_to_cart_order  reordered  ...  \\\n",
              "0                    28.0     13198.0                1.0        1.0  ...   \n",
              "1                    28.0     42803.0                2.0        1.0  ...   \n",
              "2                    28.0      8277.0                3.0        1.0  ...   \n",
              "3                    28.0     37602.0                4.0        1.0  ...   \n",
              "4                    28.0     40852.0                5.0        1.0  ...   \n",
              "\n",
              "  prd_total_orders prd_total_reorders prd_reorder_prob  prd_reorder_times  \\\n",
              "0               29               15.0         0.074074           1.555556   \n",
              "1               14               11.0         0.166667           1.916667   \n",
              "2              203              150.0         0.173913           1.815217   \n",
              "3                2                2.0         0.000000           2.000000   \n",
              "4                8                5.0         0.000000           1.625000   \n",
              "\n",
              "   prd_reorder_ratio  total_user_orders  user_reorders  \\\n",
              "0           0.517241               17.0            9.0   \n",
              "1           0.785714               17.0            9.0   \n",
              "2           0.738916               17.0            9.0   \n",
              "3           1.000000               17.0            9.0   \n",
              "4           0.625000               17.0            9.0   \n",
              "\n",
              "   total_user_prod_orders  user_reorder_ratio  user_avg_bskt  \n",
              "0                      11            0.818182       0.647059  \n",
              "1                      11            0.818182       0.647059  \n",
              "2                      11            0.818182       0.647059  \n",
              "3                      11            0.818182       0.647059  \n",
              "4                      11            0.818182       0.647059  \n",
              "\n",
              "[5 rows x 24 columns]"
            ],
            "text/html": [
              "\n",
              "  <div id=\"df-78877e2c-f602-4f58-bdd8-eaa0583385a4\">\n",
              "    <div class=\"colab-df-container\">\n",
              "      <div>\n",
              "<style scoped>\n",
              "    .dataframe tbody tr th:only-of-type {\n",
              "        vertical-align: middle;\n",
              "    }\n",
              "\n",
              "    .dataframe tbody tr th {\n",
              "        vertical-align: top;\n",
              "    }\n",
              "\n",
              "    .dataframe thead th {\n",
              "        text-align: right;\n",
              "    }\n",
              "</style>\n",
              "<table border=\"1\" class=\"dataframe\">\n",
              "  <thead>\n",
              "    <tr style=\"text-align: right;\">\n",
              "      <th></th>\n",
              "      <th>order_id</th>\n",
              "      <th>user_id</th>\n",
              "      <th>eval_set</th>\n",
              "      <th>order_number</th>\n",
              "      <th>order_dow</th>\n",
              "      <th>order_hour_of_day</th>\n",
              "      <th>days_since_prior_order</th>\n",
              "      <th>product_id</th>\n",
              "      <th>add_to_cart_order</th>\n",
              "      <th>reordered</th>\n",
              "      <th>...</th>\n",
              "      <th>prd_total_orders</th>\n",
              "      <th>prd_total_reorders</th>\n",
              "      <th>prd_reorder_prob</th>\n",
              "      <th>prd_reorder_times</th>\n",
              "      <th>prd_reorder_ratio</th>\n",
              "      <th>total_user_orders</th>\n",
              "      <th>user_reorders</th>\n",
              "      <th>total_user_prod_orders</th>\n",
              "      <th>user_reorder_ratio</th>\n",
              "      <th>user_avg_bskt</th>\n",
              "    </tr>\n",
              "  </thead>\n",
              "  <tbody>\n",
              "    <tr>\n",
              "      <th>0</th>\n",
              "      <td>23391</td>\n",
              "      <td>7</td>\n",
              "      <td>prior</td>\n",
              "      <td>17.0</td>\n",
              "      <td>0.0</td>\n",
              "      <td>10.0</td>\n",
              "      <td>28.0</td>\n",
              "      <td>13198.0</td>\n",
              "      <td>1.0</td>\n",
              "      <td>1.0</td>\n",
              "      <td>...</td>\n",
              "      <td>29</td>\n",
              "      <td>15.0</td>\n",
              "      <td>0.074074</td>\n",
              "      <td>1.555556</td>\n",
              "      <td>0.517241</td>\n",
              "      <td>17.0</td>\n",
              "      <td>9.0</td>\n",
              "      <td>11</td>\n",
              "      <td>0.818182</td>\n",
              "      <td>0.647059</td>\n",
              "    </tr>\n",
              "    <tr>\n",
              "      <th>1</th>\n",
              "      <td>23391</td>\n",
              "      <td>7</td>\n",
              "      <td>prior</td>\n",
              "      <td>17.0</td>\n",
              "      <td>0.0</td>\n",
              "      <td>10.0</td>\n",
              "      <td>28.0</td>\n",
              "      <td>42803.0</td>\n",
              "      <td>2.0</td>\n",
              "      <td>1.0</td>\n",
              "      <td>...</td>\n",
              "      <td>14</td>\n",
              "      <td>11.0</td>\n",
              "      <td>0.166667</td>\n",
              "      <td>1.916667</td>\n",
              "      <td>0.785714</td>\n",
              "      <td>17.0</td>\n",
              "      <td>9.0</td>\n",
              "      <td>11</td>\n",
              "      <td>0.818182</td>\n",
              "      <td>0.647059</td>\n",
              "    </tr>\n",
              "    <tr>\n",
              "      <th>2</th>\n",
              "      <td>23391</td>\n",
              "      <td>7</td>\n",
              "      <td>prior</td>\n",
              "      <td>17.0</td>\n",
              "      <td>0.0</td>\n",
              "      <td>10.0</td>\n",
              "      <td>28.0</td>\n",
              "      <td>8277.0</td>\n",
              "      <td>3.0</td>\n",
              "      <td>1.0</td>\n",
              "      <td>...</td>\n",
              "      <td>203</td>\n",
              "      <td>150.0</td>\n",
              "      <td>0.173913</td>\n",
              "      <td>1.815217</td>\n",
              "      <td>0.738916</td>\n",
              "      <td>17.0</td>\n",
              "      <td>9.0</td>\n",
              "      <td>11</td>\n",
              "      <td>0.818182</td>\n",
              "      <td>0.647059</td>\n",
              "    </tr>\n",
              "    <tr>\n",
              "      <th>3</th>\n",
              "      <td>23391</td>\n",
              "      <td>7</td>\n",
              "      <td>prior</td>\n",
              "      <td>17.0</td>\n",
              "      <td>0.0</td>\n",
              "      <td>10.0</td>\n",
              "      <td>28.0</td>\n",
              "      <td>37602.0</td>\n",
              "      <td>4.0</td>\n",
              "      <td>1.0</td>\n",
              "      <td>...</td>\n",
              "      <td>2</td>\n",
              "      <td>2.0</td>\n",
              "      <td>0.000000</td>\n",
              "      <td>2.000000</td>\n",
              "      <td>1.000000</td>\n",
              "      <td>17.0</td>\n",
              "      <td>9.0</td>\n",
              "      <td>11</td>\n",
              "      <td>0.818182</td>\n",
              "      <td>0.647059</td>\n",
              "    </tr>\n",
              "    <tr>\n",
              "      <th>4</th>\n",
              "      <td>23391</td>\n",
              "      <td>7</td>\n",
              "      <td>prior</td>\n",
              "      <td>17.0</td>\n",
              "      <td>0.0</td>\n",
              "      <td>10.0</td>\n",
              "      <td>28.0</td>\n",
              "      <td>40852.0</td>\n",
              "      <td>5.0</td>\n",
              "      <td>1.0</td>\n",
              "      <td>...</td>\n",
              "      <td>8</td>\n",
              "      <td>5.0</td>\n",
              "      <td>0.000000</td>\n",
              "      <td>1.625000</td>\n",
              "      <td>0.625000</td>\n",
              "      <td>17.0</td>\n",
              "      <td>9.0</td>\n",
              "      <td>11</td>\n",
              "      <td>0.818182</td>\n",
              "      <td>0.647059</td>\n",
              "    </tr>\n",
              "  </tbody>\n",
              "</table>\n",
              "<p>5 rows × 24 columns</p>\n",
              "</div>\n",
              "      <button class=\"colab-df-convert\" onclick=\"convertToInteractive('df-78877e2c-f602-4f58-bdd8-eaa0583385a4')\"\n",
              "              title=\"Convert this dataframe to an interactive table.\"\n",
              "              style=\"display:none;\">\n",
              "        \n",
              "  <svg xmlns=\"http://www.w3.org/2000/svg\" height=\"24px\"viewBox=\"0 0 24 24\"\n",
              "       width=\"24px\">\n",
              "    <path d=\"M0 0h24v24H0V0z\" fill=\"none\"/>\n",
              "    <path d=\"M18.56 5.44l.94 2.06.94-2.06 2.06-.94-2.06-.94-.94-2.06-.94 2.06-2.06.94zm-11 1L8.5 8.5l.94-2.06 2.06-.94-2.06-.94L8.5 2.5l-.94 2.06-2.06.94zm10 10l.94 2.06.94-2.06 2.06-.94-2.06-.94-.94-2.06-.94 2.06-2.06.94z\"/><path d=\"M17.41 7.96l-1.37-1.37c-.4-.4-.92-.59-1.43-.59-.52 0-1.04.2-1.43.59L10.3 9.45l-7.72 7.72c-.78.78-.78 2.05 0 2.83L4 21.41c.39.39.9.59 1.41.59.51 0 1.02-.2 1.41-.59l7.78-7.78 2.81-2.81c.8-.78.8-2.07 0-2.86zM5.41 20L4 18.59l7.72-7.72 1.47 1.35L5.41 20z\"/>\n",
              "  </svg>\n",
              "      </button>\n",
              "      \n",
              "  <style>\n",
              "    .colab-df-container {\n",
              "      display:flex;\n",
              "      flex-wrap:wrap;\n",
              "      gap: 12px;\n",
              "    }\n",
              "\n",
              "    .colab-df-convert {\n",
              "      background-color: #E8F0FE;\n",
              "      border: none;\n",
              "      border-radius: 50%;\n",
              "      cursor: pointer;\n",
              "      display: none;\n",
              "      fill: #1967D2;\n",
              "      height: 32px;\n",
              "      padding: 0 0 0 0;\n",
              "      width: 32px;\n",
              "    }\n",
              "\n",
              "    .colab-df-convert:hover {\n",
              "      background-color: #E2EBFA;\n",
              "      box-shadow: 0px 1px 2px rgba(60, 64, 67, 0.3), 0px 1px 3px 1px rgba(60, 64, 67, 0.15);\n",
              "      fill: #174EA6;\n",
              "    }\n",
              "\n",
              "    [theme=dark] .colab-df-convert {\n",
              "      background-color: #3B4455;\n",
              "      fill: #D2E3FC;\n",
              "    }\n",
              "\n",
              "    [theme=dark] .colab-df-convert:hover {\n",
              "      background-color: #434B5C;\n",
              "      box-shadow: 0px 1px 3px 1px rgba(0, 0, 0, 0.15);\n",
              "      filter: drop-shadow(0px 1px 2px rgba(0, 0, 0, 0.3));\n",
              "      fill: #FFFFFF;\n",
              "    }\n",
              "  </style>\n",
              "\n",
              "      <script>\n",
              "        const buttonEl =\n",
              "          document.querySelector('#df-78877e2c-f602-4f58-bdd8-eaa0583385a4 button.colab-df-convert');\n",
              "        buttonEl.style.display =\n",
              "          google.colab.kernel.accessAllowed ? 'block' : 'none';\n",
              "\n",
              "        async function convertToInteractive(key) {\n",
              "          const element = document.querySelector('#df-78877e2c-f602-4f58-bdd8-eaa0583385a4');\n",
              "          const dataTable =\n",
              "            await google.colab.kernel.invokeFunction('convertToInteractive',\n",
              "                                                     [key], {});\n",
              "          if (!dataTable) return;\n",
              "\n",
              "          const docLinkHtml = 'Like what you see? Visit the ' +\n",
              "            '<a target=\"_blank\" href=https://colab.research.google.com/notebooks/data_table.ipynb>data table notebook</a>'\n",
              "            + ' to learn more about interactive tables.';\n",
              "          element.innerHTML = '';\n",
              "          dataTable['output_type'] = 'display_data';\n",
              "          await google.colab.output.renderOutput(dataTable, element);\n",
              "          const docLink = document.createElement('div');\n",
              "          docLink.innerHTML = docLinkHtml;\n",
              "          element.appendChild(docLink);\n",
              "        }\n",
              "      </script>\n",
              "    </div>\n",
              "  </div>\n",
              "  "
            ]
          },
          "metadata": {},
          "execution_count": 47
        }
      ],
      "source": [
        "orders_products.head()"
      ]
    },
    {
      "cell_type": "code",
      "execution_count": 48,
      "metadata": {
        "colab": {
          "base_uri": "https://localhost:8080/"
        },
        "id": "uV0km5XokVhX",
        "outputId": "d9e162a9-1f0c-4020-f7a4-24857b071a21"
      },
      "outputs": [
        {
          "output_type": "stream",
          "name": "stdout",
          "text": [
            "<class 'pandas.core.frame.DataFrame'>\n",
            "Int64Index: 71782 entries, 0 to 71781\n",
            "Data columns (total 24 columns):\n",
            " #   Column                  Non-Null Count  Dtype  \n",
            "---  ------                  --------------  -----  \n",
            " 0   order_id                71782 non-null  int64  \n",
            " 1   user_id                 71782 non-null  int64  \n",
            " 2   eval_set                71782 non-null  object \n",
            " 3   order_number            71782 non-null  float64\n",
            " 4   order_dow               71782 non-null  float64\n",
            " 5   order_hour_of_day       71782 non-null  float64\n",
            " 6   days_since_prior_order  67167 non-null  float64\n",
            " 7   product_id              71782 non-null  float64\n",
            " 8   add_to_cart_order       71782 non-null  float64\n",
            " 9   reordered               71782 non-null  float64\n",
            " 10  product_name            71782 non-null  object \n",
            " 11  aisle                   71782 non-null  object \n",
            " 12  department              71782 non-null  object \n",
            " 13  product_order_freq      71782 non-null  int64  \n",
            " 14  prd_total_orders        71782 non-null  int64  \n",
            " 15  prd_total_reorders      71782 non-null  float64\n",
            " 16  prd_reorder_prob        71782 non-null  float64\n",
            " 17  prd_reorder_times       71782 non-null  float64\n",
            " 18  prd_reorder_ratio       71782 non-null  float64\n",
            " 19  total_user_orders       71782 non-null  float64\n",
            " 20  user_reorders           71782 non-null  float64\n",
            " 21  total_user_prod_orders  71782 non-null  int64  \n",
            " 22  user_reorder_ratio      71782 non-null  float64\n",
            " 23  user_avg_bskt           71782 non-null  float64\n",
            "dtypes: float64(15), int64(5), object(4)\n",
            "memory usage: 15.7+ MB\n"
          ]
        }
      ],
      "source": [
        "orders_products.info()"
      ]
    },
    {
      "cell_type": "code",
      "execution_count": 49,
      "metadata": {
        "id": "nmyagbuakVhX"
      },
      "outputs": [],
      "source": [
        "# Dropping unnecessary columns ahead of modeling \n",
        "\n",
        "orders_model = orders_products.select_dtypes(exclude=['object'])"
      ]
    },
    {
      "cell_type": "code",
      "execution_count": 50,
      "metadata": {
        "colab": {
          "base_uri": "https://localhost:8080/"
        },
        "id": "8QaXOz8fkVhX",
        "outputId": "46b78743-ba3c-4bf4-9449-bafaf2652fb2"
      },
      "outputs": [
        {
          "output_type": "execute_result",
          "data": {
            "text/plain": [
              "order_id                     0\n",
              "user_id                      0\n",
              "order_number                 0\n",
              "order_dow                    0\n",
              "order_hour_of_day            0\n",
              "days_since_prior_order    4615\n",
              "product_id                   0\n",
              "add_to_cart_order            0\n",
              "reordered                    0\n",
              "product_order_freq           0\n",
              "prd_total_orders             0\n",
              "prd_total_reorders           0\n",
              "prd_reorder_prob             0\n",
              "prd_reorder_times            0\n",
              "prd_reorder_ratio            0\n",
              "total_user_orders            0\n",
              "user_reorders                0\n",
              "total_user_prod_orders       0\n",
              "user_reorder_ratio           0\n",
              "user_avg_bskt                0\n",
              "dtype: int64"
            ]
          },
          "metadata": {},
          "execution_count": 50
        }
      ],
      "source": [
        "orders_model.isna().sum()"
      ]
    },
    {
      "cell_type": "code",
      "execution_count": 51,
      "metadata": {
        "colab": {
          "base_uri": "https://localhost:8080/"
        },
        "id": "E-F7Gz8ckVhX",
        "outputId": "fc7a41d8-55dd-4672-9e29-3dd024b5689e"
      },
      "outputs": [
        {
          "output_type": "stream",
          "name": "stderr",
          "text": [
            "/usr/local/lib/python3.7/dist-packages/pandas/core/frame.py:5182: SettingWithCopyWarning: \n",
            "A value is trying to be set on a copy of a slice from a DataFrame\n",
            "\n",
            "See the caveats in the documentation: https://pandas.pydata.org/pandas-docs/stable/user_guide/indexing.html#returning-a-view-versus-a-copy\n",
            "  downcast=downcast,\n"
          ]
        }
      ],
      "source": [
        "# Fill null values from days_since_prior_order with 0 \n",
        "\n",
        "orders_model.fillna(0,inplace=True)"
      ]
    },
    {
      "cell_type": "markdown",
      "metadata": {
        "id": "wRNcmelRkVhX"
      },
      "source": [
        "## Modeling"
      ]
    },
    {
      "cell_type": "code",
      "source": [
        "# Logistic Regression"
      ],
      "metadata": {
        "id": "w6hagI9zo3nC"
      },
      "execution_count": 69,
      "outputs": []
    },
    {
      "cell_type": "code",
      "execution_count": 52,
      "metadata": {
        "id": "NEl25MnMkVhX"
      },
      "outputs": [],
      "source": [
        "# Setting up target and features \n",
        "\n",
        "X = orders_model.drop(columns='reordered')\n",
        "y = orders_model['reordered']"
      ]
    },
    {
      "cell_type": "code",
      "execution_count": 53,
      "metadata": {
        "id": "Y3vTy2djkVhX"
      },
      "outputs": [],
      "source": [
        "# Setting up train-test split\n",
        "\n",
        "X_train, X_test, y_train, y_test = train_test_split(X, y, test_size=.50,random_state=42)"
      ]
    },
    {
      "cell_type": "code",
      "execution_count": 54,
      "metadata": {
        "id": "fXCb1WjckVhY"
      },
      "outputs": [],
      "source": [
        "# Scaling data for logreg model\n",
        "\n",
        "log_scaler = StandardScaler()\n",
        "\n",
        "\n",
        "# Fit and transform train, transform test\n",
        "\n",
        "X_train_scaled = log_scaler.fit_transform(X_train)\n",
        "X_test_scaled = log_scaler.transform(X_test)"
      ]
    },
    {
      "cell_type": "code",
      "execution_count": 55,
      "metadata": {
        "id": "-LMMBUYYkVhY"
      },
      "outputs": [],
      "source": [
        "# Instantiating model \n",
        "\n",
        "log_model = LogisticRegression(penalty='l2', \n",
        "                               C=2, \n",
        "                               class_weight='balanced', \n",
        "                               solver='lbfgs',\n",
        "                               random_state=42) "
      ]
    },
    {
      "cell_type": "code",
      "execution_count": 56,
      "metadata": {
        "colab": {
          "base_uri": "https://localhost:8080/"
        },
        "id": "flQmSAe3kVhY",
        "outputId": "c372590f-f876-4a86-d4f9-8ef4c475f111"
      },
      "outputs": [
        {
          "output_type": "execute_result",
          "data": {
            "text/plain": [
              "LogisticRegression(C=2, class_weight='balanced', random_state=42)"
            ]
          },
          "metadata": {},
          "execution_count": 56
        }
      ],
      "source": [
        "# Fit model on train \n",
        "\n",
        "log_model.fit(X_train_scaled,y_train)"
      ]
    },
    {
      "cell_type": "code",
      "execution_count": 57,
      "metadata": {
        "colab": {
          "base_uri": "https://localhost:8080/"
        },
        "id": "GHosrJYRkVhY",
        "outputId": "e8027180-785b-4420-d568-42d09e6b3083"
      },
      "outputs": [
        {
          "output_type": "stream",
          "name": "stdout",
          "text": [
            "Accuracy:0.84, Precision:0.88,Recall:0.85,F1:0.86\n",
            "\n"
          ]
        }
      ],
      "source": [
        "# Printing train results \n",
        "\n",
        "y_pred_train = log_model.predict(X_train_scaled)\n",
        "\n",
        "\n",
        "train_accuracy = accuracy_score(y_train,y_pred_train)\n",
        "train_precision = precision_score(y_train,y_pred_train)\n",
        "train_recall = recall_score(y_train,y_pred_train)\n",
        "train_f1 = f1_score(y_train,y_pred_train)\n",
        "\n",
        "print(f\"\"\"\\\n",
        "Accuracy:{train_accuracy:1.2f}, Precision:{train_precision:1.2f},Recall:{train_recall:1.2f},F1:{train_f1:1.2f}\n",
        "\"\"\") "
      ]
    },
    {
      "cell_type": "code",
      "execution_count": 59,
      "metadata": {
        "colab": {
          "base_uri": "https://localhost:8080/"
        },
        "id": "KgpCYPmjkVhY",
        "outputId": "6bb67404-84c8-4a91-b1b8-e780e175d36b"
      },
      "outputs": [
        {
          "output_type": "stream",
          "name": "stdout",
          "text": [
            "Accuracy:0.84,Precision:0.87, Recall:0.85,F1:0.86\n",
            "\n"
          ]
        }
      ],
      "source": [
        "y_pred_test = log_model.predict(X_test_scaled)\n",
        "\n",
        "\n",
        "model_precision = precision_score(y_test,y_pred_test)\n",
        "model_accuracy = accuracy_score(y_test,y_pred_test)\n",
        "model_f1 = f1_score(y_test,y_pred_test)\n",
        "model_recall = recall_score(y_test,y_pred_test)\n",
        "\n",
        "\n",
        "\n",
        "\n",
        "print(f\"\"\"\\\n",
        "Accuracy:{model_accuracy:1.2f},Precision:{model_precision:1.2f}, Recall:{model_recall:1.2f},F1:{model_f1:1.2f}\n",
        "\"\"\") "
      ]
    },
    {
      "cell_type": "code",
      "execution_count": 61,
      "metadata": {
        "id": "nNWLpejDkVhY"
      },
      "outputs": [],
      "source": [
        "from sklearn.model_selection import GridSearchCV\n",
        "\n",
        "# Setting up paramaters for GridSearch\n",
        "\n",
        "params = {\n",
        "    'penalty': ['l1', 'l2', 'elasticnet']\n",
        "    ,'C': [100, 10, 1.0, 0.1, 0.01]\n",
        "    ,'solver': ['saga','sag','lbfgs'] \n",
        "    ,'max_iter': [100, 500, 1000]\n",
        "}"
      ]
    },
    {
      "cell_type": "code",
      "source": [
        "# # GridSearch\n",
        "\n",
        "# grid = GridSearchCV(log_model,\n",
        "#                    param_grid = params,\n",
        "#                    cv = 5,\n",
        "#                    n_jobs = -2)\n",
        "\n",
        "# grid.fit(X_train_scaled,y_train)"
      ],
      "metadata": {
        "id": "feVfl9LPlm0g"
      },
      "execution_count": null,
      "outputs": []
    },
    {
      "cell_type": "code",
      "source": [
        "# Grabbing best parameters for logreg model\n",
        "\n",
        "grid.best_params_"
      ],
      "metadata": {
        "colab": {
          "base_uri": "https://localhost:8080/"
        },
        "id": "zcuEhFIGmBFM",
        "outputId": "ffe18a83-cba1-4424-8d71-d4d38e3eac11"
      },
      "execution_count": 63,
      "outputs": [
        {
          "output_type": "execute_result",
          "data": {
            "text/plain": [
              "{'C': 0.1, 'max_iter': 100, 'penalty': 'l1', 'solver': 'saga'}"
            ]
          },
          "metadata": {},
          "execution_count": 63
        }
      ]
    },
    {
      "cell_type": "code",
      "source": [
        "# {'C': 0.1, 'max_iter': 100, 'penalty': 'l1', 'solver': 'saga'}"
      ],
      "metadata": {
        "id": "ojc8N9dNoLNd"
      },
      "execution_count": 64,
      "outputs": []
    },
    {
      "cell_type": "code",
      "source": [
        "# Instantiating second model with best parameters \n",
        "\n",
        "log_model_2 = LogisticRegression(C=.1,max_iter=100,penalty='l1',solver='saga',class_weight='balanced',\\\n",
        "                                 random_state=42)"
      ],
      "metadata": {
        "id": "u11nuXfIoUDw"
      },
      "execution_count": 65,
      "outputs": []
    },
    {
      "cell_type": "code",
      "source": [
        "log_model_2.fit(X_train_scaled,y_train)"
      ],
      "metadata": {
        "colab": {
          "base_uri": "https://localhost:8080/"
        },
        "id": "D1LwaUGmoa3h",
        "outputId": "1ee2b2da-2dbd-4dfa-d2c5-50894ebc3eda"
      },
      "execution_count": 66,
      "outputs": [
        {
          "output_type": "execute_result",
          "data": {
            "text/plain": [
              "LogisticRegression(C=0.1, class_weight='balanced', penalty='l1',\n",
              "                   random_state=42, solver='saga')"
            ]
          },
          "metadata": {},
          "execution_count": 66
        }
      ]
    },
    {
      "cell_type": "code",
      "source": [
        "# Printing train results \n",
        "\n",
        "y_pred_train = log_model.predict(X_train_scaled)\n",
        "\n",
        "\n",
        "train_accuracy = accuracy_score(y_train,y_pred_train)\n",
        "train_precision = precision_score(y_train,y_pred_train)\n",
        "train_recall = recall_score(y_train,y_pred_train)\n",
        "train_f1 = f1_score(y_train,y_pred_train)\n",
        "\n",
        "print(f\"\"\"\\\n",
        "Accuracy:{train_accuracy:1.2f}, Precision:{train_precision:1.2f},Recall:{train_recall:1.2f},F1:{train_f1:1.2f}\n",
        "\"\"\") "
      ],
      "metadata": {
        "colab": {
          "base_uri": "https://localhost:8080/"
        },
        "id": "2T7B5iUwofpi",
        "outputId": "a7317a5a-ea92-49bf-ba48-73e75e29444d"
      },
      "execution_count": 67,
      "outputs": [
        {
          "output_type": "stream",
          "name": "stdout",
          "text": [
            "Accuracy:0.84, Precision:0.88,Recall:0.85,F1:0.86\n",
            "\n"
          ]
        }
      ]
    },
    {
      "cell_type": "code",
      "source": [
        "y_pred_test = log_model.predict(X_test_scaled)\n",
        "\n",
        "\n",
        "model_precision = precision_score(y_test,y_pred_test)\n",
        "model_accuracy = accuracy_score(y_test,y_pred_test)\n",
        "model_f1 = f1_score(y_test,y_pred_test)\n",
        "model_recall = recall_score(y_test,y_pred_test)\n",
        "\n",
        "\n",
        "\n",
        "\n",
        "print(f\"\"\"\\\n",
        "Accuracy:{model_accuracy:1.2f},Precision:{model_precision:1.2f}, Recall:{model_recall:1.2f},F1:{model_f1:1.2f}\n",
        "\"\"\") "
      ],
      "metadata": {
        "colab": {
          "base_uri": "https://localhost:8080/"
        },
        "id": "B9ZyoVnXoiu7",
        "outputId": "9ce1fbc8-89e3-4346-879b-a5d4af526224"
      },
      "execution_count": 68,
      "outputs": [
        {
          "output_type": "stream",
          "name": "stdout",
          "text": [
            "Accuracy:0.84,Precision:0.87, Recall:0.85,F1:0.86\n",
            "\n"
          ]
        }
      ]
    },
    {
      "cell_type": "code",
      "source": [
        "# XGBoost \n",
        "import xgboost\n"
      ],
      "metadata": {
        "id": "_t99hXW6okn7"
      },
      "execution_count": 70,
      "outputs": []
    },
    {
      "cell_type": "code",
      "source": [
        "# Instantiate and train model\n",
        "\n",
        "d_train = xgboost.DMatrix(X_train, y_train)\n",
        "xgb_params = {\n",
        "    \"objective\"         : \"reg:logistic\"\n",
        "    ,\"eval_metric\"      : \"logloss\"\n",
        "    ,\"eta\"              : 0.1\n",
        "    ,\"max_depth\"        : 6\n",
        "    ,\"min_child_weight\" :10\n",
        "    ,\"gamma\"            :0.70\n",
        "    ,\"subsample\"        :0.76\n",
        "    ,\"colsample_bytree\" :0.95\n",
        "    ,\"alpha\"            :2e-05\n",
        "    ,\"lambda\"           :10\n",
        "}\n",
        "watchlist= [(d_train, \"train\")]\n",
        "bst = xgboost.train(params=xgb_params, dtrain=d_train, num_boost_round=80, evals=watchlist, verbose_eval=10)\n",
        "xgboost.plot_importance(bst);"
      ],
      "metadata": {
        "colab": {
          "base_uri": "https://localhost:8080/",
          "height": 465
        },
        "id": "LRQeAmsDpc25",
        "outputId": "a4c2285f-629d-414a-ed67-5591152a6149"
      },
      "execution_count": 71,
      "outputs": [
        {
          "output_type": "stream",
          "name": "stdout",
          "text": [
            "[0]\ttrain-logloss:0.643151\n",
            "[10]\ttrain-logloss:0.417536\n",
            "[20]\ttrain-logloss:0.352414\n",
            "[30]\ttrain-logloss:0.327452\n",
            "[40]\ttrain-logloss:0.315325\n",
            "[50]\ttrain-logloss:0.307837\n",
            "[60]\ttrain-logloss:0.302534\n",
            "[70]\ttrain-logloss:0.298418\n",
            "[79]\ttrain-logloss:0.296106\n"
          ]
        },
        {
          "output_type": "execute_result",
          "data": {
            "text/plain": [
              "<matplotlib.axes._subplots.AxesSubplot at 0x7f85ef5a0590>"
            ]
          },
          "metadata": {},
          "execution_count": 71
        },
        {
          "output_type": "display_data",
          "data": {
            "text/plain": [
              "<Figure size 432x288 with 1 Axes>"
            ],
            "image/png": "[encoded data removed]"
          },
          "metadata": {
            "needs_background": "light"
          }
        }
      ]
    },
    {
      "cell_type": "code",
      "source": [
        "#setting boosters parameters\n",
        "\n",
        "parameters = {\n",
        "    'eavl_metric' : 'logloss',\n",
        "    'max_depth' : 5,\n",
        "    'colsample_bytree' : 0.4,\n",
        "    'subsample' : 0.8\n",
        "}"
      ],
      "metadata": {
        "id": "MVMR1fofq1FQ"
      },
      "execution_count": 76,
      "outputs": []
    },
    {
      "cell_type": "code",
      "source": [
        "import xgboost as xgb\n",
        "\n",
        "# #Initializing the model\n",
        "xgb = xgb.XGBClassifier(objective='binary:logistic', parameters=parameters, num_boost_round=10)\n",
        "\n",
        "#fitting the model.\n",
        "xgb.fit(X_train, y_train)\n",
        "\n",
        "#prediction\n",
        "y_pred = (xgb.predict_proba(X_test)[:, 1] >= 0.21).astype('int') #setting a threshold.\n",
        "\n",
        "#Evaluation.\n",
        "print('F1 Score: {}'.format(f1_score(y_pred, y_test)))"
      ],
      "metadata": {
        "colab": {
          "base_uri": "https://localhost:8080/"
        },
        "id": "oUugZCGmplsh",
        "outputId": "87e3a8dd-ec49-4ae1-b690-b9aec1372909"
      },
      "execution_count": 79,
      "outputs": [
        {
          "output_type": "stream",
          "name": "stdout",
          "text": [
            "F1 Score: 0.8567781672305853\n"
          ]
        }
      ]
    },
    {
      "cell_type": "code",
      "source": [
        ""
      ],
      "metadata": {
        "id": "Y4fgBPieqXy_"
      },
      "execution_count": null,
      "outputs": []
    }
  ],
  "metadata": {
    "kernelspec": {
      "display_name": "Python (learn-env)",
      "language": "python",
      "name": "learn-env"
    },
    "language_info": {
      "codemirror_mode": {
        "name": "ipython",
        "version": 3
      },
      "file_extension": ".py",
      "mimetype": "text/x-python",
      "name": "python",
      "nbconvert_exporter": "python",
      "pygments_lexer": "ipython3",
      "version": "3.8.5"
    },
    "colab": {
      "name": "Instacart_EDA_Modeling_MBA.ipynb",
      "provenance": [],
      "collapsed_sections": [
        "szdGfrL2kVhC",
        "GOK3QVEukVhF",
        "I8eBWCHmkVhQ",
        "1DaX2gKbkVhR",
        "dN3PALlDkVhW",
        "wRNcmelRkVhX"
      ]
    }
  },
  "nbformat": 4,
  "nbformat_minor": 0
}