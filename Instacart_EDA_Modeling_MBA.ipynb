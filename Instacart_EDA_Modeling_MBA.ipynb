{
 "cells": [
  {
   "cell_type": "markdown",
   "metadata": {
    "id": "NHngFQZQhh16"
   },
   "source": [
    "!['instacart basket'](./images/ipad_grocery.png)"
   ]
  },
  {
   "cell_type": "markdown",
   "metadata": {
    "id": "HdHV1p0AkVg9"
   },
   "source": [
    "# Instacart Market Basket Analysis : Exploratory Data Analysis &  Modeling\n",
    "__________________________________________________________________________________________________________________\n",
    "**Author:** [Brandon Menendez](http://linkedin.com/in/brandon-menendez/)"
   ]
  },
  {
   "cell_type": "code",
   "execution_count": 77,
   "metadata": {
    "id": "Jxx0ODHvhh1-"
   },
   "outputs": [],
   "source": [
    "# Importing relevant libraries \n",
    "\n",
    "import numpy as np\n",
    "import scipy\n",
    "import pandas as pd \n",
    "import matplotlib.pyplot as plt\n",
    "import numpy as np\n",
    "import seaborn as sns\n",
    "\n",
    "from sklearn.linear_model import LogisticRegression\n",
    "from sklearn.metrics import log_loss\n",
    "from sklearn.model_selection import train_test_split, cross_validate\n",
    "from sklearn.preprocessing import StandardScaler, OneHotEncoder\n",
    "from sklearn.metrics import plot_confusion_matrix, confusion_matrix,precision_score, recall_score,\\\n",
    "accuracy_score, f1_score\n",
    "from sklearn.model_selection import GridSearchCV\n",
    "\n",
    "import xgboost as xgb\n",
    "\n",
    "from mlxtend.frequent_patterns import apriori\n",
    "from mlxtend.frequent_patterns import association_rules\n",
    "\n",
    "import warnings\n",
    "warnings.filterwarnings(\"ignore\", category=Warning)"
   ]
  },
  {
   "cell_type": "markdown",
   "metadata": {
    "id": "-vTvTKdWkVhB"
   },
   "source": [
    "## Business Problem\n",
    "__________________________________________________________________________________________________________________\n",
    "\n",
    ">\"*Online grocery shopping in the U.S. trails that of other e-commerce categories in large part because our grocery shopping habits are so deeply ingrained, and online grocery retailers haven't yet convinced customers that grocery shopping online can be a better experience*\" <br> <br>\n",
    "> -Stephen Caine, Bain & Company\n",
    "\n",
    "\n",
    "\n",
    "\n",
    "When the COVID-19 pandemic hit, many Americans opted to stay in their homes and order groceries online rather than go in person to their local grocery store. A [nationally representative survey](https://academic.oup.com/cdn/article/5/Supplement_2/231/6293076?login=false) found that **34%** of households reported grocery shopping online more since the beginning of the pandemic and **60%** of these households planned to continue shopping online after the pandemic ends. \n",
    "\n",
    "This sudden increase in customer's shopping online was a major tailwind for online grocers. But just as important as customer acquisition is for these companies, so is customer retention. Like the classic saying goes, \"Old habits die hard\" and online grocers need to ensure they are utilizing their technology to provide a more convenient shopping experience in order to hold on to those customers deciding to shop online rather than in-store. There are three major tools that all online grocers can utilize in an attempt to retain customers gained during the pandemic:\n",
    "\n",
    "1. Merchandising\n",
    "2. Recommendations\n",
    "3. Coupons & Promotions\n",
    "\n",
    "Instacart is a grocery ordering and delivery app, which has over 500 million products available across 40,000 grocery stores in the United States & Canada. Instacart provides a convenient customer experience, which is largely focused around product recommendations based on past purchases. In addition to recommendaiton widgets  (Add to Cart, Frequently bought together etc), Instacart also works with retailers to provide targeted promotions and coupons to its customers. \n",
    "\n",
    "**Objective:** <br>\n",
    "Using over 3M rows of customer order data provided by Instacart, I will be performing a market basket analysis and implement predictive modeling  to:\n",
    "\n",
    "1. Identify frequent items sets and association rules to better inform merchandising, customer recommendations and promotional stategies for Instacart <br>\n",
    "2. Predict ahead of time which items will be re-ordered by a particular customer\n",
    "\n",
    "Using the insights gained from this analysis, I will provide recommendations for how Instacart can improve their merchandising, recommendation and promotional strategy in an effort to maintain customers for the long-term."
   ]
  },
  {
   "cell_type": "markdown",
   "metadata": {
    "id": "NiTMTeAjhh2A"
   },
   "source": [
    "## Data Understanding\n",
    "__________________________________________________________________________________________________________________\n",
    "\n",
    "The data for this project was released by Instacart in 2017 as part of their [3 Million Instacart Order Competition](https://tech.instacart.com/3-million-instacart-orders-open-sourced-d40d29ead6f2).\n",
    "\n",
    "The provided anonymized dataset contains a sample of over 3 million customer orders, inclusive of over 49 thousand unique products and 200 thousand unique customers. For each user, Instacart provided between 4 and 100 of their orders, with the sequence of products purchased in each order. They also provide the week and hour of day the order was placed, a relative measure of time between orders and product attributes."
   ]
  },
  {
   "cell_type": "markdown",
   "metadata": {
    "id": "MaaAU9zkhh2B"
   },
   "source": [
    "For this analysis I will be utilizing the following tables:\n",
    "   - **orders** - Indicates which evaluation set an order belongs too  \n",
    "   - **orders_prior** - Contains previous order contents for all customers. 'reordered' indicates that the customer has a previous order that contains the product\n",
    "   - **products** - Provides additional information about the products ordered, including product name, department, and aisle\n",
    "   - **aisles** - Contains attributes about aisles\n",
    "   - **departments** - Contains attributes about departments "
   ]
  },
  {
   "cell_type": "code",
   "execution_count": 2,
   "metadata": {
    "id": "Lm1E4CrLkVhE"
   },
   "outputs": [],
   "source": [
    "# Reading  in  data\n",
    "\n",
    "orders = pd.read_csv('orders.csv') \n",
    "orders_train = pd.read_csv('order_products__train.csv')\n",
    "orders_prior = pd.read_csv('order_products__prior.csv')\n",
    "products = pd.read_csv('products.csv')\n",
    "aisles = pd.read_csv('aisles.csv')\n",
    "depts = pd.read_csv('departments.csv')"
   ]
  },
  {
   "cell_type": "markdown",
   "metadata": {
    "id": "Hdx2fEEahh2B"
   },
   "source": [
    "### Exploring 'orders.csv'"
   ]
  },
  {
   "cell_type": "code",
   "execution_count": 3,
   "metadata": {
    "colab": {
     "base_uri": "https://localhost:8080/"
    },
    "id": "h8psJZdSkVhF",
    "outputId": "ad8c1a2a-18d7-428c-8823-5bde5cb150c1"
   },
   "outputs": [
    {
     "data": {
      "text/plain": [
       "(206262, 7)"
      ]
     },
     "execution_count": 3,
     "metadata": {},
     "output_type": "execute_result"
    }
   ],
   "source": [
    "# orders shape \n",
    "\n",
    "orders.shape"
   ]
  },
  {
   "cell_type": "code",
   "execution_count": 4,
   "metadata": {
    "colab": {
     "base_uri": "https://localhost:8080/",
     "height": 268
    },
    "id": "fa5Gox6DkVhH",
    "outputId": "97c1d2cb-0b27-4ab7-a375-2bbd4e188bef"
   },
   "outputs": [
    {
     "data": {
      "text/html": [
       "\n",
       "  <div id=\"df-d169e8e5-a352-40e5-8296-0e6cbad994be\">\n",
       "    <div class=\"colab-df-container\">\n",
       "      <div>\n",
       "<style scoped>\n",
       "    .dataframe tbody tr th:only-of-type {\n",
       "        vertical-align: middle;\n",
       "    }\n",
       "\n",
       "    .dataframe tbody tr th {\n",
       "        vertical-align: top;\n",
       "    }\n",
       "\n",
       "    .dataframe thead th {\n",
       "        text-align: right;\n",
       "    }\n",
       "</style>\n",
       "<table border=\"1\" class=\"dataframe\">\n",
       "  <thead>\n",
       "    <tr style=\"text-align: right;\">\n",
       "      <th></th>\n",
       "      <th>order_id</th>\n",
       "      <th>user_id</th>\n",
       "      <th>eval_set</th>\n",
       "      <th>order_number</th>\n",
       "      <th>order_dow</th>\n",
       "      <th>order_hour_of_day</th>\n",
       "      <th>days_since_prior_order</th>\n",
       "    </tr>\n",
       "  </thead>\n",
       "  <tbody>\n",
       "    <tr>\n",
       "      <th>0</th>\n",
       "      <td>2539329</td>\n",
       "      <td>1.0</td>\n",
       "      <td>prior</td>\n",
       "      <td>1.0</td>\n",
       "      <td>2.0</td>\n",
       "      <td>8.0</td>\n",
       "      <td>NaN</td>\n",
       "    </tr>\n",
       "    <tr>\n",
       "      <th>1</th>\n",
       "      <td>2398795</td>\n",
       "      <td>1.0</td>\n",
       "      <td>prior</td>\n",
       "      <td>2.0</td>\n",
       "      <td>3.0</td>\n",
       "      <td>7.0</td>\n",
       "      <td>15.0</td>\n",
       "    </tr>\n",
       "    <tr>\n",
       "      <th>2</th>\n",
       "      <td>473747</td>\n",
       "      <td>1.0</td>\n",
       "      <td>prior</td>\n",
       "      <td>3.0</td>\n",
       "      <td>3.0</td>\n",
       "      <td>12.0</td>\n",
       "      <td>21.0</td>\n",
       "    </tr>\n",
       "    <tr>\n",
       "      <th>3</th>\n",
       "      <td>2254736</td>\n",
       "      <td>1.0</td>\n",
       "      <td>prior</td>\n",
       "      <td>4.0</td>\n",
       "      <td>4.0</td>\n",
       "      <td>7.0</td>\n",
       "      <td>29.0</td>\n",
       "    </tr>\n",
       "    <tr>\n",
       "      <th>4</th>\n",
       "      <td>431534</td>\n",
       "      <td>1.0</td>\n",
       "      <td>prior</td>\n",
       "      <td>5.0</td>\n",
       "      <td>4.0</td>\n",
       "      <td>15.0</td>\n",
       "      <td>28.0</td>\n",
       "    </tr>\n",
       "  </tbody>\n",
       "</table>\n",
       "</div>\n",
       "      <button class=\"colab-df-convert\" onclick=\"convertToInteractive('df-d169e8e5-a352-40e5-8296-0e6cbad994be')\"\n",
       "              title=\"Convert this dataframe to an interactive table.\"\n",
       "              style=\"display:none;\">\n",
       "        \n",
       "  <svg xmlns=\"http://www.w3.org/2000/svg\" height=\"24px\"viewBox=\"0 0 24 24\"\n",
       "       width=\"24px\">\n",
       "    <path d=\"M0 0h24v24H0V0z\" fill=\"none\"/>\n",
       "    <path d=\"M18.56 5.44l.94 2.06.94-2.06 2.06-.94-2.06-.94-.94-2.06-.94 2.06-2.06.94zm-11 1L8.5 8.5l.94-2.06 2.06-.94-2.06-.94L8.5 2.5l-.94 2.06-2.06.94zm10 10l.94 2.06.94-2.06 2.06-.94-2.06-.94-.94-2.06-.94 2.06-2.06.94z\"/><path d=\"M17.41 7.96l-1.37-1.37c-.4-.4-.92-.59-1.43-.59-.52 0-1.04.2-1.43.59L10.3 9.45l-7.72 7.72c-.78.78-.78 2.05 0 2.83L4 21.41c.39.39.9.59 1.41.59.51 0 1.02-.2 1.41-.59l7.78-7.78 2.81-2.81c.8-.78.8-2.07 0-2.86zM5.41 20L4 18.59l7.72-7.72 1.47 1.35L5.41 20z\"/>\n",
       "  </svg>\n",
       "      </button>\n",
       "      \n",
       "  <style>\n",
       "    .colab-df-container {\n",
       "      display:flex;\n",
       "      flex-wrap:wrap;\n",
       "      gap: 12px;\n",
       "    }\n",
       "\n",
       "    .colab-df-convert {\n",
       "      background-color: #E8F0FE;\n",
       "      border: none;\n",
       "      border-radius: 50%;\n",
       "      cursor: pointer;\n",
       "      display: none;\n",
       "      fill: #1967D2;\n",
       "      height: 32px;\n",
       "      padding: 0 0 0 0;\n",
       "      width: 32px;\n",
       "    }\n",
       "\n",
       "    .colab-df-convert:hover {\n",
       "      background-color: #E2EBFA;\n",
       "      box-shadow: 0px 1px 2px rgba(60, 64, 67, 0.3), 0px 1px 3px 1px rgba(60, 64, 67, 0.15);\n",
       "      fill: #174EA6;\n",
       "    }\n",
       "\n",
       "    [theme=dark] .colab-df-convert {\n",
       "      background-color: #3B4455;\n",
       "      fill: #D2E3FC;\n",
       "    }\n",
       "\n",
       "    [theme=dark] .colab-df-convert:hover {\n",
       "      background-color: #434B5C;\n",
       "      box-shadow: 0px 1px 3px 1px rgba(0, 0, 0, 0.15);\n",
       "      filter: drop-shadow(0px 1px 2px rgba(0, 0, 0, 0.3));\n",
       "      fill: #FFFFFF;\n",
       "    }\n",
       "  </style>\n",
       "\n",
       "      <script>\n",
       "        const buttonEl =\n",
       "          document.querySelector('#df-d169e8e5-a352-40e5-8296-0e6cbad994be button.colab-df-convert');\n",
       "        buttonEl.style.display =\n",
       "          google.colab.kernel.accessAllowed ? 'block' : 'none';\n",
       "\n",
       "        async function convertToInteractive(key) {\n",
       "          const element = document.querySelector('#df-d169e8e5-a352-40e5-8296-0e6cbad994be');\n",
       "          const dataTable =\n",
       "            await google.colab.kernel.invokeFunction('convertToInteractive',\n",
       "                                                     [key], {});\n",
       "          if (!dataTable) return;\n",
       "\n",
       "          const docLinkHtml = 'Like what you see? Visit the ' +\n",
       "            '<a target=\"_blank\" href=https://colab.research.google.com/notebooks/data_table.ipynb>data table notebook</a>'\n",
       "            + ' to learn more about interactive tables.';\n",
       "          element.innerHTML = '';\n",
       "          dataTable['output_type'] = 'display_data';\n",
       "          await google.colab.output.renderOutput(dataTable, element);\n",
       "          const docLink = document.createElement('div');\n",
       "          docLink.innerHTML = docLinkHtml;\n",
       "          element.appendChild(docLink);\n",
       "        }\n",
       "      </script>\n",
       "    </div>\n",
       "  </div>\n",
       "  "
      ],
      "text/plain": [
       "   order_id  user_id eval_set  order_number  order_dow  order_hour_of_day  \\\n",
       "0   2539329      1.0    prior           1.0        2.0                8.0   \n",
       "1   2398795      1.0    prior           2.0        3.0                7.0   \n",
       "2    473747      1.0    prior           3.0        3.0               12.0   \n",
       "3   2254736      1.0    prior           4.0        4.0                7.0   \n",
       "4    431534      1.0    prior           5.0        4.0               15.0   \n",
       "\n",
       "   days_since_prior_order  \n",
       "0                     NaN  \n",
       "1                    15.0  \n",
       "2                    21.0  \n",
       "3                    29.0  \n",
       "4                    28.0  "
      ]
     },
     "execution_count": 4,
     "metadata": {},
     "output_type": "execute_result"
    }
   ],
   "source": [
    "# visualizing orders  \n",
    "\n",
    "orders.head()"
   ]
  },
  {
   "cell_type": "code",
   "execution_count": 5,
   "metadata": {
    "colab": {
     "base_uri": "https://localhost:8080/"
    },
    "id": "STBO86BNkVhG",
    "outputId": "cf6aa90e-8078-4307-e339-6ae6f36c4e08",
    "scrolled": true
   },
   "outputs": [
    {
     "data": {
      "text/plain": [
       "order_id                      0\n",
       "user_id                       1\n",
       "eval_set                      1\n",
       "order_number                  1\n",
       "order_dow                     1\n",
       "order_hour_of_day             1\n",
       "days_since_prior_order    12468\n",
       "dtype: int64"
      ]
     },
     "execution_count": 5,
     "metadata": {},
     "output_type": "execute_result"
    }
   ],
   "source": [
    "# checking for nulls \n",
    "\n",
    "orders.isna().sum()"
   ]
  },
  {
   "cell_type": "code",
   "execution_count": 6,
   "metadata": {
    "colab": {
     "base_uri": "https://localhost:8080/"
    },
    "id": "1WniE0XEkVhH",
    "outputId": "3b314291-2ea3-4866-b408-3e2d45f141d4"
   },
   "outputs": [
    {
     "data": {
      "text/plain": [
       "prior    193795\n",
       "train      7951\n",
       "test       4515\n",
       "Name: eval_set, dtype: int64"
      ]
     },
     "execution_count": 6,
     "metadata": {},
     "output_type": "execute_result"
    }
   ],
   "source": [
    "# checking distribution between eval sets \n",
    "\n",
    "orders['eval_set'].value_counts()"
   ]
  },
  {
   "cell_type": "markdown",
   "metadata": {
    "id": "dzAk31jthh2E"
   },
   "source": [
    "### Exploring 'orders_prior.csv'"
   ]
  },
  {
   "cell_type": "code",
   "execution_count": 7,
   "metadata": {
    "colab": {
     "base_uri": "https://localhost:8080/"
    },
    "id": "byqnwnpWkVhH",
    "outputId": "209fe5fe-2a74-4bf3-a8de-9e314522e4b8"
   },
   "outputs": [
    {
     "data": {
      "text/plain": [
       "(396560, 4)"
      ]
     },
     "execution_count": 7,
     "metadata": {},
     "output_type": "execute_result"
    }
   ],
   "source": [
    "# orders_prior shape \n",
    "\n",
    "orders_prior.shape"
   ]
  },
  {
   "cell_type": "code",
   "execution_count": 8,
   "metadata": {
    "colab": {
     "base_uri": "https://localhost:8080/",
     "height": 268
    },
    "id": "WPi0_xi0kVhI",
    "outputId": "2dd52ccc-25fd-4dc0-d571-a69f989de901",
    "scrolled": false
   },
   "outputs": [
    {
     "data": {
      "text/html": [
       "\n",
       "  <div id=\"df-be62e903-893c-4b1d-bfad-acd94a972564\">\n",
       "    <div class=\"colab-df-container\">\n",
       "      <div>\n",
       "<style scoped>\n",
       "    .dataframe tbody tr th:only-of-type {\n",
       "        vertical-align: middle;\n",
       "    }\n",
       "\n",
       "    .dataframe tbody tr th {\n",
       "        vertical-align: top;\n",
       "    }\n",
       "\n",
       "    .dataframe thead th {\n",
       "        text-align: right;\n",
       "    }\n",
       "</style>\n",
       "<table border=\"1\" class=\"dataframe\">\n",
       "  <thead>\n",
       "    <tr style=\"text-align: right;\">\n",
       "      <th></th>\n",
       "      <th>order_id</th>\n",
       "      <th>product_id</th>\n",
       "      <th>add_to_cart_order</th>\n",
       "      <th>reordered</th>\n",
       "    </tr>\n",
       "  </thead>\n",
       "  <tbody>\n",
       "    <tr>\n",
       "      <th>0</th>\n",
       "      <td>2</td>\n",
       "      <td>33120.0</td>\n",
       "      <td>1.0</td>\n",
       "      <td>1.0</td>\n",
       "    </tr>\n",
       "    <tr>\n",
       "      <th>1</th>\n",
       "      <td>2</td>\n",
       "      <td>28985.0</td>\n",
       "      <td>2.0</td>\n",
       "      <td>1.0</td>\n",
       "    </tr>\n",
       "    <tr>\n",
       "      <th>2</th>\n",
       "      <td>2</td>\n",
       "      <td>9327.0</td>\n",
       "      <td>3.0</td>\n",
       "      <td>0.0</td>\n",
       "    </tr>\n",
       "    <tr>\n",
       "      <th>3</th>\n",
       "      <td>2</td>\n",
       "      <td>45918.0</td>\n",
       "      <td>4.0</td>\n",
       "      <td>1.0</td>\n",
       "    </tr>\n",
       "    <tr>\n",
       "      <th>4</th>\n",
       "      <td>2</td>\n",
       "      <td>30035.0</td>\n",
       "      <td>5.0</td>\n",
       "      <td>0.0</td>\n",
       "    </tr>\n",
       "  </tbody>\n",
       "</table>\n",
       "</div>\n",
       "      <button class=\"colab-df-convert\" onclick=\"convertToInteractive('df-be62e903-893c-4b1d-bfad-acd94a972564')\"\n",
       "              title=\"Convert this dataframe to an interactive table.\"\n",
       "              style=\"display:none;\">\n",
       "        \n",
       "  <svg xmlns=\"http://www.w3.org/2000/svg\" height=\"24px\"viewBox=\"0 0 24 24\"\n",
       "       width=\"24px\">\n",
       "    <path d=\"M0 0h24v24H0V0z\" fill=\"none\"/>\n",
       "    <path d=\"M18.56 5.44l.94 2.06.94-2.06 2.06-.94-2.06-.94-.94-2.06-.94 2.06-2.06.94zm-11 1L8.5 8.5l.94-2.06 2.06-.94-2.06-.94L8.5 2.5l-.94 2.06-2.06.94zm10 10l.94 2.06.94-2.06 2.06-.94-2.06-.94-.94-2.06-.94 2.06-2.06.94z\"/><path d=\"M17.41 7.96l-1.37-1.37c-.4-.4-.92-.59-1.43-.59-.52 0-1.04.2-1.43.59L10.3 9.45l-7.72 7.72c-.78.78-.78 2.05 0 2.83L4 21.41c.39.39.9.59 1.41.59.51 0 1.02-.2 1.41-.59l7.78-7.78 2.81-2.81c.8-.78.8-2.07 0-2.86zM5.41 20L4 18.59l7.72-7.72 1.47 1.35L5.41 20z\"/>\n",
       "  </svg>\n",
       "      </button>\n",
       "      \n",
       "  <style>\n",
       "    .colab-df-container {\n",
       "      display:flex;\n",
       "      flex-wrap:wrap;\n",
       "      gap: 12px;\n",
       "    }\n",
       "\n",
       "    .colab-df-convert {\n",
       "      background-color: #E8F0FE;\n",
       "      border: none;\n",
       "      border-radius: 50%;\n",
       "      cursor: pointer;\n",
       "      display: none;\n",
       "      fill: #1967D2;\n",
       "      height: 32px;\n",
       "      padding: 0 0 0 0;\n",
       "      width: 32px;\n",
       "    }\n",
       "\n",
       "    .colab-df-convert:hover {\n",
       "      background-color: #E2EBFA;\n",
       "      box-shadow: 0px 1px 2px rgba(60, 64, 67, 0.3), 0px 1px 3px 1px rgba(60, 64, 67, 0.15);\n",
       "      fill: #174EA6;\n",
       "    }\n",
       "\n",
       "    [theme=dark] .colab-df-convert {\n",
       "      background-color: #3B4455;\n",
       "      fill: #D2E3FC;\n",
       "    }\n",
       "\n",
       "    [theme=dark] .colab-df-convert:hover {\n",
       "      background-color: #434B5C;\n",
       "      box-shadow: 0px 1px 3px 1px rgba(0, 0, 0, 0.15);\n",
       "      filter: drop-shadow(0px 1px 2px rgba(0, 0, 0, 0.3));\n",
       "      fill: #FFFFFF;\n",
       "    }\n",
       "  </style>\n",
       "\n",
       "      <script>\n",
       "        const buttonEl =\n",
       "          document.querySelector('#df-be62e903-893c-4b1d-bfad-acd94a972564 button.colab-df-convert');\n",
       "        buttonEl.style.display =\n",
       "          google.colab.kernel.accessAllowed ? 'block' : 'none';\n",
       "\n",
       "        async function convertToInteractive(key) {\n",
       "          const element = document.querySelector('#df-be62e903-893c-4b1d-bfad-acd94a972564');\n",
       "          const dataTable =\n",
       "            await google.colab.kernel.invokeFunction('convertToInteractive',\n",
       "                                                     [key], {});\n",
       "          if (!dataTable) return;\n",
       "\n",
       "          const docLinkHtml = 'Like what you see? Visit the ' +\n",
       "            '<a target=\"_blank\" href=https://colab.research.google.com/notebooks/data_table.ipynb>data table notebook</a>'\n",
       "            + ' to learn more about interactive tables.';\n",
       "          element.innerHTML = '';\n",
       "          dataTable['output_type'] = 'display_data';\n",
       "          await google.colab.output.renderOutput(dataTable, element);\n",
       "          const docLink = document.createElement('div');\n",
       "          docLink.innerHTML = docLinkHtml;\n",
       "          element.appendChild(docLink);\n",
       "        }\n",
       "      </script>\n",
       "    </div>\n",
       "  </div>\n",
       "  "
      ],
      "text/plain": [
       "   order_id  product_id  add_to_cart_order  reordered\n",
       "0         2     33120.0                1.0        1.0\n",
       "1         2     28985.0                2.0        1.0\n",
       "2         2      9327.0                3.0        0.0\n",
       "3         2     45918.0                4.0        1.0\n",
       "4         2     30035.0                5.0        0.0"
      ]
     },
     "execution_count": 8,
     "metadata": {},
     "output_type": "execute_result"
    }
   ],
   "source": [
    "# visualizing orders_prior\n",
    "\n",
    "orders_prior.head()"
   ]
  },
  {
   "cell_type": "code",
   "execution_count": 9,
   "metadata": {
    "colab": {
     "base_uri": "https://localhost:8080/"
    },
    "id": "_o4H7GHLhh2F",
    "outputId": "c12a1641-27d4-49d2-b585-284ac83de7c6"
   },
   "outputs": [
    {
     "data": {
      "text/plain": [
       "order_id             0\n",
       "product_id           1\n",
       "add_to_cart_order    1\n",
       "reordered            1\n",
       "dtype: int64"
      ]
     },
     "execution_count": 9,
     "metadata": {},
     "output_type": "execute_result"
    }
   ],
   "source": [
    "# checking for nulls \n",
    "\n",
    "orders_prior.isna().sum()"
   ]
  },
  {
   "cell_type": "markdown",
   "metadata": {
    "id": "_lpKEPW7hh2G"
   },
   "source": [
    "### Exploring 'products.csv' "
   ]
  },
  {
   "cell_type": "code",
   "execution_count": 10,
   "metadata": {
    "colab": {
     "base_uri": "https://localhost:8080/"
    },
    "id": "X8Joa6EpkVhI",
    "outputId": "7696b5c3-ef6a-4458-be25-e5e22ee6446f"
   },
   "outputs": [
    {
     "data": {
      "text/plain": [
       "(49688, 4)"
      ]
     },
     "execution_count": 10,
     "metadata": {},
     "output_type": "execute_result"
    }
   ],
   "source": [
    "# products shape \n",
    "\n",
    "products.shape"
   ]
  },
  {
   "cell_type": "code",
   "execution_count": 11,
   "metadata": {
    "colab": {
     "base_uri": "https://localhost:8080/",
     "height": 421
    },
    "id": "p-uoeZBAkVhJ",
    "outputId": "ef2fc33d-deb4-4bc7-dd6c-c4bf78daaa2c",
    "scrolled": true
   },
   "outputs": [
    {
     "data": {
      "text/html": [
       "\n",
       "  <div id=\"df-c5e3a8a0-61e2-40f6-b225-034b6f118c0b\">\n",
       "    <div class=\"colab-df-container\">\n",
       "      <div>\n",
       "<style scoped>\n",
       "    .dataframe tbody tr th:only-of-type {\n",
       "        vertical-align: middle;\n",
       "    }\n",
       "\n",
       "    .dataframe tbody tr th {\n",
       "        vertical-align: top;\n",
       "    }\n",
       "\n",
       "    .dataframe thead th {\n",
       "        text-align: right;\n",
       "    }\n",
       "</style>\n",
       "<table border=\"1\" class=\"dataframe\">\n",
       "  <thead>\n",
       "    <tr style=\"text-align: right;\">\n",
       "      <th></th>\n",
       "      <th>product_id</th>\n",
       "      <th>product_name</th>\n",
       "      <th>aisle_id</th>\n",
       "      <th>department_id</th>\n",
       "    </tr>\n",
       "  </thead>\n",
       "  <tbody>\n",
       "    <tr>\n",
       "      <th>0</th>\n",
       "      <td>1</td>\n",
       "      <td>Chocolate Sandwich Cookies</td>\n",
       "      <td>61</td>\n",
       "      <td>19</td>\n",
       "    </tr>\n",
       "    <tr>\n",
       "      <th>1</th>\n",
       "      <td>2</td>\n",
       "      <td>All-Seasons Salt</td>\n",
       "      <td>104</td>\n",
       "      <td>13</td>\n",
       "    </tr>\n",
       "    <tr>\n",
       "      <th>2</th>\n",
       "      <td>3</td>\n",
       "      <td>Robust Golden Unsweetened Oolong Tea</td>\n",
       "      <td>94</td>\n",
       "      <td>7</td>\n",
       "    </tr>\n",
       "    <tr>\n",
       "      <th>3</th>\n",
       "      <td>4</td>\n",
       "      <td>Smart Ones Classic Favorites Mini Rigatoni Wit...</td>\n",
       "      <td>38</td>\n",
       "      <td>1</td>\n",
       "    </tr>\n",
       "    <tr>\n",
       "      <th>4</th>\n",
       "      <td>5</td>\n",
       "      <td>Green Chile Anytime Sauce</td>\n",
       "      <td>5</td>\n",
       "      <td>13</td>\n",
       "    </tr>\n",
       "  </tbody>\n",
       "</table>\n",
       "</div>\n",
       "      <button class=\"colab-df-convert\" onclick=\"convertToInteractive('df-c5e3a8a0-61e2-40f6-b225-034b6f118c0b')\"\n",
       "              title=\"Convert this dataframe to an interactive table.\"\n",
       "              style=\"display:none;\">\n",
       "        \n",
       "  <svg xmlns=\"http://www.w3.org/2000/svg\" height=\"24px\"viewBox=\"0 0 24 24\"\n",
       "       width=\"24px\">\n",
       "    <path d=\"M0 0h24v24H0V0z\" fill=\"none\"/>\n",
       "    <path d=\"M18.56 5.44l.94 2.06.94-2.06 2.06-.94-2.06-.94-.94-2.06-.94 2.06-2.06.94zm-11 1L8.5 8.5l.94-2.06 2.06-.94-2.06-.94L8.5 2.5l-.94 2.06-2.06.94zm10 10l.94 2.06.94-2.06 2.06-.94-2.06-.94-.94-2.06-.94 2.06-2.06.94z\"/><path d=\"M17.41 7.96l-1.37-1.37c-.4-.4-.92-.59-1.43-.59-.52 0-1.04.2-1.43.59L10.3 9.45l-7.72 7.72c-.78.78-.78 2.05 0 2.83L4 21.41c.39.39.9.59 1.41.59.51 0 1.02-.2 1.41-.59l7.78-7.78 2.81-2.81c.8-.78.8-2.07 0-2.86zM5.41 20L4 18.59l7.72-7.72 1.47 1.35L5.41 20z\"/>\n",
       "  </svg>\n",
       "      </button>\n",
       "      \n",
       "  <style>\n",
       "    .colab-df-container {\n",
       "      display:flex;\n",
       "      flex-wrap:wrap;\n",
       "      gap: 12px;\n",
       "    }\n",
       "\n",
       "    .colab-df-convert {\n",
       "      background-color: #E8F0FE;\n",
       "      border: none;\n",
       "      border-radius: 50%;\n",
       "      cursor: pointer;\n",
       "      display: none;\n",
       "      fill: #1967D2;\n",
       "      height: 32px;\n",
       "      padding: 0 0 0 0;\n",
       "      width: 32px;\n",
       "    }\n",
       "\n",
       "    .colab-df-convert:hover {\n",
       "      background-color: #E2EBFA;\n",
       "      box-shadow: 0px 1px 2px rgba(60, 64, 67, 0.3), 0px 1px 3px 1px rgba(60, 64, 67, 0.15);\n",
       "      fill: #174EA6;\n",
       "    }\n",
       "\n",
       "    [theme=dark] .colab-df-convert {\n",
       "      background-color: #3B4455;\n",
       "      fill: #D2E3FC;\n",
       "    }\n",
       "\n",
       "    [theme=dark] .colab-df-convert:hover {\n",
       "      background-color: #434B5C;\n",
       "      box-shadow: 0px 1px 3px 1px rgba(0, 0, 0, 0.15);\n",
       "      filter: drop-shadow(0px 1px 2px rgba(0, 0, 0, 0.3));\n",
       "      fill: #FFFFFF;\n",
       "    }\n",
       "  </style>\n",
       "\n",
       "      <script>\n",
       "        const buttonEl =\n",
       "          document.querySelector('#df-c5e3a8a0-61e2-40f6-b225-034b6f118c0b button.colab-df-convert');\n",
       "        buttonEl.style.display =\n",
       "          google.colab.kernel.accessAllowed ? 'block' : 'none';\n",
       "\n",
       "        async function convertToInteractive(key) {\n",
       "          const element = document.querySelector('#df-c5e3a8a0-61e2-40f6-b225-034b6f118c0b');\n",
       "          const dataTable =\n",
       "            await google.colab.kernel.invokeFunction('convertToInteractive',\n",
       "                                                     [key], {});\n",
       "          if (!dataTable) return;\n",
       "\n",
       "          const docLinkHtml = 'Like what you see? Visit the ' +\n",
       "            '<a target=\"_blank\" href=https://colab.research.google.com/notebooks/data_table.ipynb>data table notebook</a>'\n",
       "            + ' to learn more about interactive tables.';\n",
       "          element.innerHTML = '';\n",
       "          dataTable['output_type'] = 'display_data';\n",
       "          await google.colab.output.renderOutput(dataTable, element);\n",
       "          const docLink = document.createElement('div');\n",
       "          docLink.innerHTML = docLinkHtml;\n",
       "          element.appendChild(docLink);\n",
       "        }\n",
       "      </script>\n",
       "    </div>\n",
       "  </div>\n",
       "  "
      ],
      "text/plain": [
       "   product_id                                       product_name  aisle_id  \\\n",
       "0           1                         Chocolate Sandwich Cookies        61   \n",
       "1           2                                   All-Seasons Salt       104   \n",
       "2           3               Robust Golden Unsweetened Oolong Tea        94   \n",
       "3           4  Smart Ones Classic Favorites Mini Rigatoni Wit...        38   \n",
       "4           5                          Green Chile Anytime Sauce         5   \n",
       "\n",
       "   department_id  \n",
       "0             19  \n",
       "1             13  \n",
       "2              7  \n",
       "3              1  \n",
       "4             13  "
      ]
     },
     "execution_count": 11,
     "metadata": {},
     "output_type": "execute_result"
    }
   ],
   "source": [
    "# visualizing products\n",
    "\n",
    "products.head()"
   ]
  },
  {
   "cell_type": "markdown",
   "metadata": {
    "id": "UsAVewOjhh2H"
   },
   "source": [
    "### Exploring 'aisles.csv'"
   ]
  },
  {
   "cell_type": "code",
   "execution_count": 12,
   "metadata": {
    "colab": {
     "base_uri": "https://localhost:8080/"
    },
    "id": "QWZQve3fhh2H",
    "outputId": "2fca8822-4114-4015-9372-8d25fc49f310"
   },
   "outputs": [
    {
     "data": {
      "text/plain": [
       "(134, 2)"
      ]
     },
     "execution_count": 12,
     "metadata": {},
     "output_type": "execute_result"
    }
   ],
   "source": [
    "# aisles shape\n",
    "\n",
    "aisles.shape"
   ]
  },
  {
   "cell_type": "code",
   "execution_count": 13,
   "metadata": {
    "colab": {
     "base_uri": "https://localhost:8080/",
     "height": 404
    },
    "id": "Vbx3rRJyhh2H",
    "outputId": "e58da0bf-4f14-46d2-8ff5-2aef1fddbc34"
   },
   "outputs": [
    {
     "data": {
      "text/html": [
       "\n",
       "  <div id=\"df-292eff73-1ee6-4bf5-bdab-f83db1307c2b\">\n",
       "    <div class=\"colab-df-container\">\n",
       "      <div>\n",
       "<style scoped>\n",
       "    .dataframe tbody tr th:only-of-type {\n",
       "        vertical-align: middle;\n",
       "    }\n",
       "\n",
       "    .dataframe tbody tr th {\n",
       "        vertical-align: top;\n",
       "    }\n",
       "\n",
       "    .dataframe thead th {\n",
       "        text-align: right;\n",
       "    }\n",
       "</style>\n",
       "<table border=\"1\" class=\"dataframe\">\n",
       "  <thead>\n",
       "    <tr style=\"text-align: right;\">\n",
       "      <th></th>\n",
       "      <th>aisle_id</th>\n",
       "      <th>aisle</th>\n",
       "    </tr>\n",
       "  </thead>\n",
       "  <tbody>\n",
       "    <tr>\n",
       "      <th>0</th>\n",
       "      <td>1</td>\n",
       "      <td>prepared soups salads</td>\n",
       "    </tr>\n",
       "    <tr>\n",
       "      <th>1</th>\n",
       "      <td>2</td>\n",
       "      <td>specialty cheeses</td>\n",
       "    </tr>\n",
       "    <tr>\n",
       "      <th>2</th>\n",
       "      <td>3</td>\n",
       "      <td>energy granola bars</td>\n",
       "    </tr>\n",
       "    <tr>\n",
       "      <th>3</th>\n",
       "      <td>4</td>\n",
       "      <td>instant foods</td>\n",
       "    </tr>\n",
       "    <tr>\n",
       "      <th>4</th>\n",
       "      <td>5</td>\n",
       "      <td>marinades meat preparation</td>\n",
       "    </tr>\n",
       "  </tbody>\n",
       "</table>\n",
       "</div>\n",
       "      <button class=\"colab-df-convert\" onclick=\"convertToInteractive('df-292eff73-1ee6-4bf5-bdab-f83db1307c2b')\"\n",
       "              title=\"Convert this dataframe to an interactive table.\"\n",
       "              style=\"display:none;\">\n",
       "        \n",
       "  <svg xmlns=\"http://www.w3.org/2000/svg\" height=\"24px\"viewBox=\"0 0 24 24\"\n",
       "       width=\"24px\">\n",
       "    <path d=\"M0 0h24v24H0V0z\" fill=\"none\"/>\n",
       "    <path d=\"M18.56 5.44l.94 2.06.94-2.06 2.06-.94-2.06-.94-.94-2.06-.94 2.06-2.06.94zm-11 1L8.5 8.5l.94-2.06 2.06-.94-2.06-.94L8.5 2.5l-.94 2.06-2.06.94zm10 10l.94 2.06.94-2.06 2.06-.94-2.06-.94-.94-2.06-.94 2.06-2.06.94z\"/><path d=\"M17.41 7.96l-1.37-1.37c-.4-.4-.92-.59-1.43-.59-.52 0-1.04.2-1.43.59L10.3 9.45l-7.72 7.72c-.78.78-.78 2.05 0 2.83L4 21.41c.39.39.9.59 1.41.59.51 0 1.02-.2 1.41-.59l7.78-7.78 2.81-2.81c.8-.78.8-2.07 0-2.86zM5.41 20L4 18.59l7.72-7.72 1.47 1.35L5.41 20z\"/>\n",
       "  </svg>\n",
       "      </button>\n",
       "      \n",
       "  <style>\n",
       "    .colab-df-container {\n",
       "      display:flex;\n",
       "      flex-wrap:wrap;\n",
       "      gap: 12px;\n",
       "    }\n",
       "\n",
       "    .colab-df-convert {\n",
       "      background-color: #E8F0FE;\n",
       "      border: none;\n",
       "      border-radius: 50%;\n",
       "      cursor: pointer;\n",
       "      display: none;\n",
       "      fill: #1967D2;\n",
       "      height: 32px;\n",
       "      padding: 0 0 0 0;\n",
       "      width: 32px;\n",
       "    }\n",
       "\n",
       "    .colab-df-convert:hover {\n",
       "      background-color: #E2EBFA;\n",
       "      box-shadow: 0px 1px 2px rgba(60, 64, 67, 0.3), 0px 1px 3px 1px rgba(60, 64, 67, 0.15);\n",
       "      fill: #174EA6;\n",
       "    }\n",
       "\n",
       "    [theme=dark] .colab-df-convert {\n",
       "      background-color: #3B4455;\n",
       "      fill: #D2E3FC;\n",
       "    }\n",
       "\n",
       "    [theme=dark] .colab-df-convert:hover {\n",
       "      background-color: #434B5C;\n",
       "      box-shadow: 0px 1px 3px 1px rgba(0, 0, 0, 0.15);\n",
       "      filter: drop-shadow(0px 1px 2px rgba(0, 0, 0, 0.3));\n",
       "      fill: #FFFFFF;\n",
       "    }\n",
       "  </style>\n",
       "\n",
       "      <script>\n",
       "        const buttonEl =\n",
       "          document.querySelector('#df-292eff73-1ee6-4bf5-bdab-f83db1307c2b button.colab-df-convert');\n",
       "        buttonEl.style.display =\n",
       "          google.colab.kernel.accessAllowed ? 'block' : 'none';\n",
       "\n",
       "        async function convertToInteractive(key) {\n",
       "          const element = document.querySelector('#df-292eff73-1ee6-4bf5-bdab-f83db1307c2b');\n",
       "          const dataTable =\n",
       "            await google.colab.kernel.invokeFunction('convertToInteractive',\n",
       "                                                     [key], {});\n",
       "          if (!dataTable) return;\n",
       "\n",
       "          const docLinkHtml = 'Like what you see? Visit the ' +\n",
       "            '<a target=\"_blank\" href=https://colab.research.google.com/notebooks/data_table.ipynb>data table notebook</a>'\n",
       "            + ' to learn more about interactive tables.';\n",
       "          element.innerHTML = '';\n",
       "          dataTable['output_type'] = 'display_data';\n",
       "          await google.colab.output.renderOutput(dataTable, element);\n",
       "          const docLink = document.createElement('div');\n",
       "          docLink.innerHTML = docLinkHtml;\n",
       "          element.appendChild(docLink);\n",
       "        }\n",
       "      </script>\n",
       "    </div>\n",
       "  </div>\n",
       "  "
      ],
      "text/plain": [
       "   aisle_id                       aisle\n",
       "0         1       prepared soups salads\n",
       "1         2           specialty cheeses\n",
       "2         3         energy granola bars\n",
       "3         4               instant foods\n",
       "4         5  marinades meat preparation"
      ]
     },
     "execution_count": 13,
     "metadata": {},
     "output_type": "execute_result"
    }
   ],
   "source": [
    "# visualizing aisles\n",
    "\n",
    "aisles.head()"
   ]
  },
  {
   "cell_type": "markdown",
   "metadata": {
    "id": "Z4xxfWaBhh2I"
   },
   "source": [
    "### Exploring 'depts.csv'"
   ]
  },
  {
   "cell_type": "code",
   "execution_count": 14,
   "metadata": {
    "colab": {
     "base_uri": "https://localhost:8080/"
    },
    "id": "z8kTN1uphh2I",
    "outputId": "52282deb-3bf6-4c86-cb33-bab9cb5864d3"
   },
   "outputs": [
    {
     "data": {
      "text/plain": [
       "(21, 2)"
      ]
     },
     "execution_count": 14,
     "metadata": {},
     "output_type": "execute_result"
    }
   ],
   "source": [
    "# depts shape\n",
    "\n",
    "depts.shape"
   ]
  },
  {
   "cell_type": "code",
   "execution_count": 15,
   "metadata": {
    "colab": {
     "base_uri": "https://localhost:8080/",
     "height": 268
    },
    "id": "JvatvbePhh2I",
    "outputId": "27d1f003-bfb0-4efb-8e6c-39fb79070dc4"
   },
   "outputs": [
    {
     "data": {
      "text/html": [
       "\n",
       "  <div id=\"df-b0f1db9f-af99-4ab6-b8f0-2c785f4b54c2\">\n",
       "    <div class=\"colab-df-container\">\n",
       "      <div>\n",
       "<style scoped>\n",
       "    .dataframe tbody tr th:only-of-type {\n",
       "        vertical-align: middle;\n",
       "    }\n",
       "\n",
       "    .dataframe tbody tr th {\n",
       "        vertical-align: top;\n",
       "    }\n",
       "\n",
       "    .dataframe thead th {\n",
       "        text-align: right;\n",
       "    }\n",
       "</style>\n",
       "<table border=\"1\" class=\"dataframe\">\n",
       "  <thead>\n",
       "    <tr style=\"text-align: right;\">\n",
       "      <th></th>\n",
       "      <th>department_id</th>\n",
       "      <th>department</th>\n",
       "    </tr>\n",
       "  </thead>\n",
       "  <tbody>\n",
       "    <tr>\n",
       "      <th>0</th>\n",
       "      <td>1</td>\n",
       "      <td>frozen</td>\n",
       "    </tr>\n",
       "    <tr>\n",
       "      <th>1</th>\n",
       "      <td>2</td>\n",
       "      <td>other</td>\n",
       "    </tr>\n",
       "    <tr>\n",
       "      <th>2</th>\n",
       "      <td>3</td>\n",
       "      <td>bakery</td>\n",
       "    </tr>\n",
       "    <tr>\n",
       "      <th>3</th>\n",
       "      <td>4</td>\n",
       "      <td>produce</td>\n",
       "    </tr>\n",
       "    <tr>\n",
       "      <th>4</th>\n",
       "      <td>5</td>\n",
       "      <td>alcohol</td>\n",
       "    </tr>\n",
       "  </tbody>\n",
       "</table>\n",
       "</div>\n",
       "      <button class=\"colab-df-convert\" onclick=\"convertToInteractive('df-b0f1db9f-af99-4ab6-b8f0-2c785f4b54c2')\"\n",
       "              title=\"Convert this dataframe to an interactive table.\"\n",
       "              style=\"display:none;\">\n",
       "        \n",
       "  <svg xmlns=\"http://www.w3.org/2000/svg\" height=\"24px\"viewBox=\"0 0 24 24\"\n",
       "       width=\"24px\">\n",
       "    <path d=\"M0 0h24v24H0V0z\" fill=\"none\"/>\n",
       "    <path d=\"M18.56 5.44l.94 2.06.94-2.06 2.06-.94-2.06-.94-.94-2.06-.94 2.06-2.06.94zm-11 1L8.5 8.5l.94-2.06 2.06-.94-2.06-.94L8.5 2.5l-.94 2.06-2.06.94zm10 10l.94 2.06.94-2.06 2.06-.94-2.06-.94-.94-2.06-.94 2.06-2.06.94z\"/><path d=\"M17.41 7.96l-1.37-1.37c-.4-.4-.92-.59-1.43-.59-.52 0-1.04.2-1.43.59L10.3 9.45l-7.72 7.72c-.78.78-.78 2.05 0 2.83L4 21.41c.39.39.9.59 1.41.59.51 0 1.02-.2 1.41-.59l7.78-7.78 2.81-2.81c.8-.78.8-2.07 0-2.86zM5.41 20L4 18.59l7.72-7.72 1.47 1.35L5.41 20z\"/>\n",
       "  </svg>\n",
       "      </button>\n",
       "      \n",
       "  <style>\n",
       "    .colab-df-container {\n",
       "      display:flex;\n",
       "      flex-wrap:wrap;\n",
       "      gap: 12px;\n",
       "    }\n",
       "\n",
       "    .colab-df-convert {\n",
       "      background-color: #E8F0FE;\n",
       "      border: none;\n",
       "      border-radius: 50%;\n",
       "      cursor: pointer;\n",
       "      display: none;\n",
       "      fill: #1967D2;\n",
       "      height: 32px;\n",
       "      padding: 0 0 0 0;\n",
       "      width: 32px;\n",
       "    }\n",
       "\n",
       "    .colab-df-convert:hover {\n",
       "      background-color: #E2EBFA;\n",
       "      box-shadow: 0px 1px 2px rgba(60, 64, 67, 0.3), 0px 1px 3px 1px rgba(60, 64, 67, 0.15);\n",
       "      fill: #174EA6;\n",
       "    }\n",
       "\n",
       "    [theme=dark] .colab-df-convert {\n",
       "      background-color: #3B4455;\n",
       "      fill: #D2E3FC;\n",
       "    }\n",
       "\n",
       "    [theme=dark] .colab-df-convert:hover {\n",
       "      background-color: #434B5C;\n",
       "      box-shadow: 0px 1px 3px 1px rgba(0, 0, 0, 0.15);\n",
       "      filter: drop-shadow(0px 1px 2px rgba(0, 0, 0, 0.3));\n",
       "      fill: #FFFFFF;\n",
       "    }\n",
       "  </style>\n",
       "\n",
       "      <script>\n",
       "        const buttonEl =\n",
       "          document.querySelector('#df-b0f1db9f-af99-4ab6-b8f0-2c785f4b54c2 button.colab-df-convert');\n",
       "        buttonEl.style.display =\n",
       "          google.colab.kernel.accessAllowed ? 'block' : 'none';\n",
       "\n",
       "        async function convertToInteractive(key) {\n",
       "          const element = document.querySelector('#df-b0f1db9f-af99-4ab6-b8f0-2c785f4b54c2');\n",
       "          const dataTable =\n",
       "            await google.colab.kernel.invokeFunction('convertToInteractive',\n",
       "                                                     [key], {});\n",
       "          if (!dataTable) return;\n",
       "\n",
       "          const docLinkHtml = 'Like what you see? Visit the ' +\n",
       "            '<a target=\"_blank\" href=https://colab.research.google.com/notebooks/data_table.ipynb>data table notebook</a>'\n",
       "            + ' to learn more about interactive tables.';\n",
       "          element.innerHTML = '';\n",
       "          dataTable['output_type'] = 'display_data';\n",
       "          await google.colab.output.renderOutput(dataTable, element);\n",
       "          const docLink = document.createElement('div');\n",
       "          docLink.innerHTML = docLinkHtml;\n",
       "          element.appendChild(docLink);\n",
       "        }\n",
       "      </script>\n",
       "    </div>\n",
       "  </div>\n",
       "  "
      ],
      "text/plain": [
       "   department_id department\n",
       "0              1     frozen\n",
       "1              2      other\n",
       "2              3     bakery\n",
       "3              4    produce\n",
       "4              5    alcohol"
      ]
     },
     "execution_count": 15,
     "metadata": {},
     "output_type": "execute_result"
    }
   ],
   "source": [
    "# visualizing depts\n",
    "\n",
    "depts.head()"
   ]
  },
  {
   "cell_type": "markdown",
   "metadata": {
    "id": "btMfQA-Lhh2I"
   },
   "source": [
    "## Data Exploration\n",
    "__________________________________________________________________________________________________________________\n",
    "There are many features included in this data that will aid in the predictive models implemented later in the notebook. Additionally, these features can provide important insights for Instacart about customer order behavior. In this section, I will be analyzing product and user trends, as well as engineering additional features for modeling."
   ]
  },
  {
   "cell_type": "code",
   "execution_count": 16,
   "metadata": {
    "id": "aDaYsHbJkVhJ"
   },
   "outputs": [],
   "source": [
    "# Merging  products + aisles + department into one df \n",
    "\n",
    "product_df = products.merge(aisles, how='left', left_on = 'aisle_id', right_on = 'aisle_id')\n",
    "product_df = product_df.merge(depts, how='left', left_on='department_id', right_on='department_id')\n",
    "\n",
    "# Dropping duplicative columns \n",
    "\n",
    "product_df.drop(columns=['aisle_id','department_id'],inplace=True)"
   ]
  },
  {
   "cell_type": "code",
   "execution_count": 17,
   "metadata": {
    "id": "Xst2ssx7kVhK"
   },
   "outputs": [],
   "source": [
    "# Inner join orders and orders_prior to isolate only prior orders\n",
    "\n",
    "orders_products = orders.merge(orders_prior,on='order_id',how='inner')"
   ]
  },
  {
   "cell_type": "code",
   "execution_count": 18,
   "metadata": {
    "colab": {
     "base_uri": "https://localhost:8080/",
     "height": 361
    },
    "id": "NxcuS_x6kVhL",
    "outputId": "ee5c35df-967a-4688-94ca-0074f075b7e3"
   },
   "outputs": [
    {
     "data": {
      "text/html": [
       "\n",
       "  <div id=\"df-87de677e-c6fb-46a6-b9c9-d291b64656aa\">\n",
       "    <div class=\"colab-df-container\">\n",
       "      <div>\n",
       "<style scoped>\n",
       "    .dataframe tbody tr th:only-of-type {\n",
       "        vertical-align: middle;\n",
       "    }\n",
       "\n",
       "    .dataframe tbody tr th {\n",
       "        vertical-align: top;\n",
       "    }\n",
       "\n",
       "    .dataframe thead th {\n",
       "        text-align: right;\n",
       "    }\n",
       "</style>\n",
       "<table border=\"1\" class=\"dataframe\">\n",
       "  <thead>\n",
       "    <tr style=\"text-align: right;\">\n",
       "      <th></th>\n",
       "      <th>order_id</th>\n",
       "      <th>user_id</th>\n",
       "      <th>order_number</th>\n",
       "      <th>order_dow</th>\n",
       "      <th>order_hour_of_day</th>\n",
       "      <th>days_since_prior_order</th>\n",
       "      <th>product_id</th>\n",
       "      <th>add_to_cart_order</th>\n",
       "      <th>reordered</th>\n",
       "    </tr>\n",
       "  </thead>\n",
       "  <tbody>\n",
       "    <tr>\n",
       "      <th>count</th>\n",
       "      <td>23490.000000</td>\n",
       "      <td>23482.000000</td>\n",
       "      <td>23482.000000</td>\n",
       "      <td>23482.000000</td>\n",
       "      <td>23482.000000</td>\n",
       "      <td>21966.000000</td>\n",
       "      <td>23490.000000</td>\n",
       "      <td>23490.000000</td>\n",
       "      <td>23490.000000</td>\n",
       "    </tr>\n",
       "    <tr>\n",
       "      <th>mean</th>\n",
       "      <td>20650.324904</td>\n",
       "      <td>6386.120518</td>\n",
       "      <td>17.351887</td>\n",
       "      <td>2.704114</td>\n",
       "      <td>13.451282</td>\n",
       "      <td>11.246335</td>\n",
       "      <td>25552.266071</td>\n",
       "      <td>8.279693</td>\n",
       "      <td>0.601575</td>\n",
       "    </tr>\n",
       "    <tr>\n",
       "      <th>std</th>\n",
       "      <td>12258.006095</td>\n",
       "      <td>3578.092384</td>\n",
       "      <td>17.319659</td>\n",
       "      <td>2.064958</td>\n",
       "      <td>4.370139</td>\n",
       "      <td>8.773841</td>\n",
       "      <td>14093.845114</td>\n",
       "      <td>7.166314</td>\n",
       "      <td>0.489584</td>\n",
       "    </tr>\n",
       "    <tr>\n",
       "      <th>min</th>\n",
       "      <td>8.000000</td>\n",
       "      <td>7.000000</td>\n",
       "      <td>1.000000</td>\n",
       "      <td>0.000000</td>\n",
       "      <td>0.000000</td>\n",
       "      <td>0.000000</td>\n",
       "      <td>1.000000</td>\n",
       "      <td>1.000000</td>\n",
       "      <td>0.000000</td>\n",
       "    </tr>\n",
       "    <tr>\n",
       "      <th>25%</th>\n",
       "      <td>9921.000000</td>\n",
       "      <td>3417.000000</td>\n",
       "      <td>5.000000</td>\n",
       "      <td>1.000000</td>\n",
       "      <td>10.000000</td>\n",
       "      <td>5.000000</td>\n",
       "      <td>13380.000000</td>\n",
       "      <td>3.000000</td>\n",
       "      <td>0.000000</td>\n",
       "    </tr>\n",
       "    <tr>\n",
       "      <th>50%</th>\n",
       "      <td>20650.000000</td>\n",
       "      <td>6405.000000</td>\n",
       "      <td>11.000000</td>\n",
       "      <td>3.000000</td>\n",
       "      <td>13.000000</td>\n",
       "      <td>8.000000</td>\n",
       "      <td>25246.000000</td>\n",
       "      <td>6.000000</td>\n",
       "      <td>1.000000</td>\n",
       "    </tr>\n",
       "    <tr>\n",
       "      <th>75%</th>\n",
       "      <td>31414.000000</td>\n",
       "      <td>9372.000000</td>\n",
       "      <td>25.000000</td>\n",
       "      <td>5.000000</td>\n",
       "      <td>17.000000</td>\n",
       "      <td>15.000000</td>\n",
       "      <td>37690.000000</td>\n",
       "      <td>11.000000</td>\n",
       "      <td>1.000000</td>\n",
       "    </tr>\n",
       "    <tr>\n",
       "      <th>max</th>\n",
       "      <td>41904.000000</td>\n",
       "      <td>12461.000000</td>\n",
       "      <td>99.000000</td>\n",
       "      <td>6.000000</td>\n",
       "      <td>23.000000</td>\n",
       "      <td>30.000000</td>\n",
       "      <td>49683.000000</td>\n",
       "      <td>60.000000</td>\n",
       "      <td>1.000000</td>\n",
       "    </tr>\n",
       "  </tbody>\n",
       "</table>\n",
       "</div>\n",
       "      <button class=\"colab-df-convert\" onclick=\"convertToInteractive('df-87de677e-c6fb-46a6-b9c9-d291b64656aa')\"\n",
       "              title=\"Convert this dataframe to an interactive table.\"\n",
       "              style=\"display:none;\">\n",
       "        \n",
       "  <svg xmlns=\"http://www.w3.org/2000/svg\" height=\"24px\"viewBox=\"0 0 24 24\"\n",
       "       width=\"24px\">\n",
       "    <path d=\"M0 0h24v24H0V0z\" fill=\"none\"/>\n",
       "    <path d=\"M18.56 5.44l.94 2.06.94-2.06 2.06-.94-2.06-.94-.94-2.06-.94 2.06-2.06.94zm-11 1L8.5 8.5l.94-2.06 2.06-.94-2.06-.94L8.5 2.5l-.94 2.06-2.06.94zm10 10l.94 2.06.94-2.06 2.06-.94-2.06-.94-.94-2.06-.94 2.06-2.06.94z\"/><path d=\"M17.41 7.96l-1.37-1.37c-.4-.4-.92-.59-1.43-.59-.52 0-1.04.2-1.43.59L10.3 9.45l-7.72 7.72c-.78.78-.78 2.05 0 2.83L4 21.41c.39.39.9.59 1.41.59.51 0 1.02-.2 1.41-.59l7.78-7.78 2.81-2.81c.8-.78.8-2.07 0-2.86zM5.41 20L4 18.59l7.72-7.72 1.47 1.35L5.41 20z\"/>\n",
       "  </svg>\n",
       "      </button>\n",
       "      \n",
       "  <style>\n",
       "    .colab-df-container {\n",
       "      display:flex;\n",
       "      flex-wrap:wrap;\n",
       "      gap: 12px;\n",
       "    }\n",
       "\n",
       "    .colab-df-convert {\n",
       "      background-color: #E8F0FE;\n",
       "      border: none;\n",
       "      border-radius: 50%;\n",
       "      cursor: pointer;\n",
       "      display: none;\n",
       "      fill: #1967D2;\n",
       "      height: 32px;\n",
       "      padding: 0 0 0 0;\n",
       "      width: 32px;\n",
       "    }\n",
       "\n",
       "    .colab-df-convert:hover {\n",
       "      background-color: #E2EBFA;\n",
       "      box-shadow: 0px 1px 2px rgba(60, 64, 67, 0.3), 0px 1px 3px 1px rgba(60, 64, 67, 0.15);\n",
       "      fill: #174EA6;\n",
       "    }\n",
       "\n",
       "    [theme=dark] .colab-df-convert {\n",
       "      background-color: #3B4455;\n",
       "      fill: #D2E3FC;\n",
       "    }\n",
       "\n",
       "    [theme=dark] .colab-df-convert:hover {\n",
       "      background-color: #434B5C;\n",
       "      box-shadow: 0px 1px 3px 1px rgba(0, 0, 0, 0.15);\n",
       "      filter: drop-shadow(0px 1px 2px rgba(0, 0, 0, 0.3));\n",
       "      fill: #FFFFFF;\n",
       "    }\n",
       "  </style>\n",
       "\n",
       "      <script>\n",
       "        const buttonEl =\n",
       "          document.querySelector('#df-87de677e-c6fb-46a6-b9c9-d291b64656aa button.colab-df-convert');\n",
       "        buttonEl.style.display =\n",
       "          google.colab.kernel.accessAllowed ? 'block' : 'none';\n",
       "\n",
       "        async function convertToInteractive(key) {\n",
       "          const element = document.querySelector('#df-87de677e-c6fb-46a6-b9c9-d291b64656aa');\n",
       "          const dataTable =\n",
       "            await google.colab.kernel.invokeFunction('convertToInteractive',\n",
       "                                                     [key], {});\n",
       "          if (!dataTable) return;\n",
       "\n",
       "          const docLinkHtml = 'Like what you see? Visit the ' +\n",
       "            '<a target=\"_blank\" href=https://colab.research.google.com/notebooks/data_table.ipynb>data table notebook</a>'\n",
       "            + ' to learn more about interactive tables.';\n",
       "          element.innerHTML = '';\n",
       "          dataTable['output_type'] = 'display_data';\n",
       "          await google.colab.output.renderOutput(dataTable, element);\n",
       "          const docLink = document.createElement('div');\n",
       "          docLink.innerHTML = docLinkHtml;\n",
       "          element.appendChild(docLink);\n",
       "        }\n",
       "      </script>\n",
       "    </div>\n",
       "  </div>\n",
       "  "
      ],
      "text/plain": [
       "           order_id       user_id  order_number     order_dow  \\\n",
       "count  23490.000000  23482.000000  23482.000000  23482.000000   \n",
       "mean   20650.324904   6386.120518     17.351887      2.704114   \n",
       "std    12258.006095   3578.092384     17.319659      2.064958   \n",
       "min        8.000000      7.000000      1.000000      0.000000   \n",
       "25%     9921.000000   3417.000000      5.000000      1.000000   \n",
       "50%    20650.000000   6405.000000     11.000000      3.000000   \n",
       "75%    31414.000000   9372.000000     25.000000      5.000000   \n",
       "max    41904.000000  12461.000000     99.000000      6.000000   \n",
       "\n",
       "       order_hour_of_day  days_since_prior_order    product_id  \\\n",
       "count       23482.000000            21966.000000  23490.000000   \n",
       "mean           13.451282               11.246335  25552.266071   \n",
       "std             4.370139                8.773841  14093.845114   \n",
       "min             0.000000                0.000000      1.000000   \n",
       "25%            10.000000                5.000000  13380.000000   \n",
       "50%            13.000000                8.000000  25246.000000   \n",
       "75%            17.000000               15.000000  37690.000000   \n",
       "max            23.000000               30.000000  49683.000000   \n",
       "\n",
       "       add_to_cart_order     reordered  \n",
       "count       23490.000000  23490.000000  \n",
       "mean            8.279693      0.601575  \n",
       "std             7.166314      0.489584  \n",
       "min             1.000000      0.000000  \n",
       "25%             3.000000      0.000000  \n",
       "50%             6.000000      1.000000  \n",
       "75%            11.000000      1.000000  \n",
       "max            60.000000      1.000000  "
      ]
     },
     "execution_count": 18,
     "metadata": {},
     "output_type": "execute_result"
    }
   ],
   "source": [
    "# getting descriptive statistics for orders_products \n",
    "\n",
    "orders_products.describe()"
   ]
  },
  {
   "cell_type": "code",
   "execution_count": 19,
   "metadata": {
    "id": "Gwimloh6kVhM"
   },
   "outputs": [],
   "source": [
    "# merging orders_products with products\n",
    "\n",
    "orders_products =  orders_products.merge(product_df,how='left',left_on='product_id',right_on='product_id')"
   ]
  },
  {
   "cell_type": "code",
   "execution_count": 20,
   "metadata": {
    "colab": {
     "base_uri": "https://localhost:8080/"
    },
    "id": "mI7fx6yFkVhM",
    "outputId": "e66690d2-138a-40af-f872-b4c1f93a632c"
   },
   "outputs": [
    {
     "name": "stdout",
     "output_type": "stream",
     "text": [
      "<class 'pandas.core.frame.DataFrame'>\n",
      "Int64Index: 23490 entries, 0 to 23489\n",
      "Data columns (total 13 columns):\n",
      " #   Column                  Non-Null Count  Dtype  \n",
      "---  ------                  --------------  -----  \n",
      " 0   order_id                23490 non-null  int64  \n",
      " 1   user_id                 23482 non-null  float64\n",
      " 2   eval_set                23482 non-null  object \n",
      " 3   order_number            23482 non-null  float64\n",
      " 4   order_dow               23482 non-null  float64\n",
      " 5   order_hour_of_day       23482 non-null  float64\n",
      " 6   days_since_prior_order  21966 non-null  float64\n",
      " 7   product_id              23490 non-null  float64\n",
      " 8   add_to_cart_order       23490 non-null  float64\n",
      " 9   reordered               23490 non-null  float64\n",
      " 10  product_name            23490 non-null  object \n",
      " 11  aisle                   23490 non-null  object \n",
      " 12  department              23490 non-null  object \n",
      "dtypes: float64(8), int64(1), object(4)\n",
      "memory usage: 2.5+ MB\n"
     ]
    }
   ],
   "source": [
    "orders_products.info()"
   ]
  },
  {
   "cell_type": "code",
   "execution_count": 21,
   "metadata": {
    "colab": {
     "base_uri": "https://localhost:8080/"
    },
    "id": "tebH1s2TkVhM",
    "outputId": "2f073c85-a4cd-4271-8732-afdf9089e12b",
    "scrolled": true
   },
   "outputs": [
    {
     "data": {
      "text/plain": [
       "order_id                     0\n",
       "user_id                      8\n",
       "eval_set                     8\n",
       "order_number                 8\n",
       "order_dow                    8\n",
       "order_hour_of_day            8\n",
       "days_since_prior_order    1524\n",
       "product_id                   0\n",
       "add_to_cart_order            0\n",
       "reordered                    0\n",
       "product_name                 0\n",
       "aisle                        0\n",
       "department                   0\n",
       "dtype: int64"
      ]
     },
     "execution_count": 21,
     "metadata": {},
     "output_type": "execute_result"
    }
   ],
   "source": [
    "orders_products.isna().sum()"
   ]
  },
  {
   "cell_type": "code",
   "execution_count": 22,
   "metadata": {
    "colab": {
     "base_uri": "https://localhost:8080/"
    },
    "id": "dxUYLU2skVhO",
    "outputId": "3f401270-dfa1-48e2-b5be-9be355d5e3cb"
   },
   "outputs": [
    {
     "name": "stdout",
     "output_type": "stream",
     "text": [
      "Orders: 2374, Users: 2022\n"
     ]
    }
   ],
   "source": [
    "# Checking amount of unique order_ids and user_ids present in the prior df\n",
    "\n",
    "unique_orders = orders_products['order_id'].nunique()\n",
    "unique_users = orders_products['user_id'].nunique()\n",
    "\n",
    "print(f\"Orders: {unique_orders}, Users: {unique_users}\")"
   ]
  },
  {
   "cell_type": "code",
   "execution_count": 23,
   "metadata": {
    "colab": {
     "base_uri": "https://localhost:8080/",
     "height": 54
    },
    "id": "M1gS3QA3hh2K",
    "outputId": "31c0762f-6d30-4281-9c49-b94de36cf3e0"
   },
   "outputs": [
    {
     "data": {
      "image/png": "[encoded data removed]",
      "text/plain": [
       "<Figure size 648x432 with 1 Axes>"
      ]
     },
     "metadata": {
      "needs_background": "light"
     },
     "output_type": "display_data"
    }
   ],
   "source": [
    "# How many orders are placed by each user?\n",
    "fig, ax = plt.subplots(figsize=(9,6))\n",
    "\n",
    "x = orders.groupby('user_id')['order_id'].count()\n",
    "\n",
    "# sns.set_style('darkgrid')\n",
    "sns.histplot(x=x)\n",
    "\n",
    "ax.set_title('Orders per User Frequency');"
   ]
  },
  {
   "cell_type": "markdown",
   "metadata": {
    "id": "nMEvpafphh2L"
   },
   "source": [
    "**Observation:**\n",
    "- We already know that the dataset contains between 4 and 100 orders per user\n",
    "- The histogram shows that there are few customers who placed more than 60 orders, and the most any one customer has placed is 100.\n",
    "- Most users orders fall between 0 and 20"
   ]
  },
  {
   "cell_type": "code",
   "execution_count": 24,
   "metadata": {
    "colab": {
     "base_uri": "https://localhost:8080/"
    },
    "id": "i1PCB6cohh2L",
    "outputId": "d2a16c5a-9531-4b83-8fbe-b436bd87cc3c"
   },
   "outputs": [
    {
     "name": "stdout",
     "output_type": "stream",
     "text": [
      "Min items per order: 2\n",
      "Max items per order: 100\n"
     ]
    }
   ],
   "source": [
    "# What is the frequency distribution of basket sizes?\n",
    "\n",
    "print(\"Min items per order: \" + str(x.min()))\n",
    "print(\"Max items per order: \" + str(x.max()))"
   ]
  },
  {
   "cell_type": "code",
   "execution_count": 25,
   "metadata": {
    "colab": {
     "base_uri": "https://localhost:8080/",
     "height": 54
    },
    "id": "B03ifgSQhh2M",
    "outputId": "8114ca90-786a-4aec-a92f-9d41c05313cf"
   },
   "outputs": [
    {
     "data": {
      "image/png": "[encoded data removed]",
      "text/plain": [
       "<Figure size 648x432 with 1 Axes>"
      ]
     },
     "metadata": {
      "needs_background": "light"
     },
     "output_type": "display_data"
    }
   ],
   "source": [
    "# Visualizing basekt size distribution\n",
    "\n",
    "fig, ax = plt.subplots(figsize=(9,6))\n",
    "\n",
    "x = orders_products.groupby('order_id')['product_id'].count()\n",
    "\n",
    "sns.histplot(x=x)\n",
    "\n",
    "ax.set_title('Number of Products per Basket Distribution');"
   ]
  },
  {
   "cell_type": "code",
   "execution_count": 26,
   "metadata": {
    "colab": {
     "base_uri": "https://localhost:8080/"
    },
    "id": "zHAFYjWGhh2N",
    "outputId": "97a32215-dccc-4fcf-9608-676d5373568c"
   },
   "outputs": [
    {
     "data": {
      "text/plain": [
       "1.0    14131\n",
       "0.0     9359\n",
       "Name: reordered, dtype: int64"
      ]
     },
     "execution_count": 26,
     "metadata": {},
     "output_type": "execute_result"
    }
   ],
   "source": [
    "# What is the target distribution?\n",
    "\n",
    "orders_products['reordered'].value_counts()"
   ]
  },
  {
   "cell_type": "code",
   "execution_count": 27,
   "metadata": {
    "colab": {
     "base_uri": "https://localhost:8080/",
     "height": 54
    },
    "id": "7r1UzTK3kVhM",
    "outputId": "ef0082a1-6459-472c-e36d-6da71a2285b9"
   },
   "outputs": [
    {
     "data": {
      "image/png": "[encoded data removed]",
      "text/plain": [
       "<Figure size 648x432 with 1 Axes>"
      ]
     },
     "metadata": {
      "needs_background": "light"
     },
     "output_type": "display_data"
    }
   ],
   "source": [
    "# What products are most commonly included in customers baskets?\n",
    "\n",
    "fig, ax = plt.subplots(figsize=(9,6))\n",
    "\n",
    "x = orders_products['product_name'].value_counts().head(10)\n",
    "y = orders_products['product_name'].value_counts().head(10).index\n",
    "\n",
    "\n",
    "sns.barplot(x=x, y=y,orient='h',palette ='BuGn_r')\n",
    "\n",
    "ax.set_title('Top Products in Customer Orders (millions)');"
   ]
  },
  {
   "cell_type": "markdown",
   "metadata": {
    "id": "VcoKZfBJhh2N"
   },
   "source": [
    "**Observation:** \n",
    "- Banana's are the most frequently ordered product by Instacart users, taking up the top two spots\n",
    "- Produce (specifically organic) are the most commonly ordered products, with Organic Whole Milk being the 10th most common"
   ]
  },
  {
   "cell_type": "code",
   "execution_count": 28,
   "metadata": {
    "colab": {
     "base_uri": "https://localhost:8080/",
     "height": 54
    },
    "id": "iqLmAHX2kVhN",
    "outputId": "336e48dd-4534-4d36-b422-7ec3337583a0"
   },
   "outputs": [
    {
     "data": {
      "image/png": "[encoded data removed]",
      "text/plain": [
       "<Figure size 648x432 with 1 Axes>"
      ]
     },
     "metadata": {
      "needs_background": "light"
     },
     "output_type": "display_data"
    }
   ],
   "source": [
    "# Visualizing most ordered from aisles \n",
    "\n",
    "fig, ax = plt.subplots(figsize=(9,6))\n",
    "\n",
    "\n",
    "x = orders_products['aisle'].value_counts().head(10)\n",
    "y = orders_products['aisle'].value_counts().head(10).index\n",
    "\n",
    "sns.barplot(x=x, y=y,orient='h',palette ='BuGn_r')\n",
    "\n",
    "ax.set_title('Top Aisles in Customer Orders (millions)');"
   ]
  },
  {
   "cell_type": "markdown",
   "metadata": {
    "id": "BU4gFtZJhh2N"
   },
   "source": [
    "**Observation:** \n",
    "- Consistent with the top ordered products, the most ordered from departments are largely produce and dairy"
   ]
  },
  {
   "cell_type": "code",
   "execution_count": 29,
   "metadata": {
    "colab": {
     "base_uri": "https://localhost:8080/",
     "height": 54
    },
    "id": "R2QJCpaYkVhN",
    "outputId": "4d2b04a6-a1ce-4b83-ba91-083b51b7e032"
   },
   "outputs": [
    {
     "data": {
      "image/png": "[encoded data removed]",
      "text/plain": [
       "<Figure size 648x432 with 1 Axes>"
      ]
     },
     "metadata": {
      "needs_background": "light"
     },
     "output_type": "display_data"
    }
   ],
   "source": [
    "# Visualizing most ordered from departments \n",
    "\n",
    "fig, ax = plt.subplots(figsize=(9,6))\n",
    "\n",
    "x = orders_products['department'].value_counts().head(10)\n",
    "y = orders_products['department'].value_counts().head(10).index\n",
    "\n",
    "sns.barplot(x=x, y=y,orient='h',palette ='BuGn_r')\n",
    "\n",
    "ax.set_title('Top Departments in Customer Orders (millions)');"
   ]
  },
  {
   "cell_type": "markdown",
   "metadata": {
    "id": "aA3S9H6Nhh2O"
   },
   "source": [
    "**Observation:** \n",
    "- There is a clear trend here: customers are buying produce and dairy products most frequently. Instacart should keep this in mind when merchandising products and identifying basket-builders for promotions."
   ]
  },
  {
   "cell_type": "code",
   "execution_count": 30,
   "metadata": {
    "colab": {
     "base_uri": "https://localhost:8080/"
    },
    "id": "ztORWe-PkVhQ",
    "outputId": "55da4817-8e70-4fdf-9704-60d471eaed46"
   },
   "outputs": [
    {
     "data": {
      "text/plain": [
       "0.6015751383567476"
      ]
     },
     "execution_count": 30,
     "metadata": {},
     "output_type": "execute_result"
    }
   ],
   "source": [
    "# Percentage of reorders from priors df\n",
    "\n",
    "orders_products['reordered'].sum()/orders_products.shape[0]"
   ]
  },
  {
   "cell_type": "code",
   "execution_count": 31,
   "metadata": {
    "colab": {
     "base_uri": "https://localhost:8080/",
     "height": 54
    },
    "id": "npnBcxxPhh2P",
    "outputId": "80487b1f-3787-4b14-8002-29b121798e81"
   },
   "outputs": [
    {
     "data": {
      "image/png": "[encoded data removed]",
      "text/plain": [
       "<Figure size 648x432 with 1 Axes>"
      ]
     },
     "metadata": {
      "needs_background": "light"
     },
     "output_type": "display_data"
    }
   ],
   "source": [
    "# Visualizing reorders by product by aisle \n",
    "\n",
    "fig, ax = plt.subplots(figsize=(9,6))\n",
    "\n",
    "x = orders_products.groupby('aisle')['reordered'].sum().sort_values(ascending=False).head(10).index\n",
    "y = orders_products.groupby('aisle')['reordered'].sum().sort_values(ascending=False).head(10)\n",
    "\n",
    "ax.set_title('Top Reordered Products by Aisle')\n",
    "\n",
    "sns.barplot(x=y, y=x,orient='h',palette ='BuGn_r');\n"
   ]
  },
  {
   "cell_type": "markdown",
   "metadata": {
    "id": "_B2gBt0zhh2Q"
   },
   "source": [
    "**Obeservation:**\n",
    "- There appears to be no difference in re-order trends between products. Let's move on to understanding user trends throughout the day and week"
   ]
  },
  {
   "cell_type": "code",
   "execution_count": 32,
   "metadata": {
    "colab": {
     "base_uri": "https://localhost:8080/",
     "height": 54
    },
    "id": "GsrwmpBFkVhP",
    "outputId": "88117459-0ef1-4554-8444-1e15f4e76cf0"
   },
   "outputs": [
    {
     "data": {
      "image/png": "[encoded data removed]",
      "text/plain": [
       "<Figure size 648x432 with 1 Axes>"
      ]
     },
     "metadata": {
      "needs_background": "light"
     },
     "output_type": "display_data"
    }
   ],
   "source": [
    "# Visualizing orders by time of day \n",
    "\n",
    "fig, ax = plt.subplots(figsize=(9,6))\n",
    "\n",
    "x = orders_products['order_hour_of_day'].value_counts(sort=False).index\n",
    "y = orders_products['order_hour_of_day'].value_counts(sort=False)\n",
    "\n",
    "ax.set_title('Orders by Time of Day')\n",
    "\n",
    "sns.barplot(x=x, y=y,orient='v',palette ='BuGn_r');\n"
   ]
  },
  {
   "cell_type": "markdown",
   "metadata": {
    "id": "0OpZAyibhh2Q"
   },
   "source": [
    "**Observation:** \n",
    "- Customers tend to order most frequently in the morning and early afternoon. This makes sense since most customers would want their orders to be delivered ahead of dinner time"
   ]
  },
  {
   "cell_type": "code",
   "execution_count": 33,
   "metadata": {
    "colab": {
     "base_uri": "https://localhost:8080/",
     "height": 54
    },
    "id": "vlrffU31kVhP",
    "outputId": "0ab80aa4-8a2a-4aba-e46b-209e762cbd0f"
   },
   "outputs": [
    {
     "data": {
      "image/png": "[encoded data removed]",
      "text/plain": [
       "<Figure size 648x432 with 1 Axes>"
      ]
     },
     "metadata": {
      "needs_background": "light"
     },
     "output_type": "display_data"
    }
   ],
   "source": [
    "# Visualizing orders by day of the week \n",
    "\n",
    "fig, ax = plt.subplots(figsize=(9,6))\n",
    "\n",
    "x = orders_products['order_dow'].value_counts(sort=False).index\n",
    "y = orders_products['order_dow'].value_counts(sort=False)\n",
    "\n",
    "ax.set_title('Orders by Day of Week')\n",
    "\n",
    "sns.barplot(x=x, y=y,orient='v',palette ='BuGn_r');"
   ]
  },
  {
   "cell_type": "markdown",
   "metadata": {
    "id": "Bp-NAJ6-hh2Q"
   },
   "source": [
    "**Observation:** \n",
    "- Customers tend to order most frequently in the beginning of the week (Sun-Tues), with a slight uptick over the weekend. This likely reflects customers stocking up on the groceries they need for the rest of the week."
   ]
  },
  {
   "cell_type": "markdown",
   "metadata": {
    "id": "I8eBWCHmkVhQ"
   },
   "source": [
    "## Feature Engineering\n",
    "__________________________________________________________________________________________________________________\n",
    "In order to aid in the modeling process further below in the notebook, I will be engineering features that describe customer behavior as it relates to product preferences and ordering behavior. <br>\n",
    "\n",
    "**Product Features:**\n",
    "   - *prd_order_frequency:*  Total orders of a product per user  \n",
    "   - *prd_total_orders:*  Total orders of a product across all orders\n",
    "   - *prd_total_reorders:*  Total reorders of a product across all orders\n",
    "   - *prd_reorder_prob:*  Probability that a product will be re-ordered by a customer\n",
    "   - *prd_reorder_times:*  Number of times a product has been re-ordered after the first order \n",
    "   - *prd_reorder_ratio:*  Ratio of reordered to total orders of a product <br>\n",
    "   \n",
    "**User Features:**\n",
    "   - *total_user_orders:*  Total orders by user \n",
    "   - *user_reorders:*  Total reorders by user\n",
    "   - *user_avg_bskt:*  Average basket size by user\n",
    "   - *total_user_prod_orders* :  Total products ordered by a customer\n",
    "\n"
   ]
  },
  {
   "cell_type": "markdown",
   "metadata": {
    "id": "1DaX2gKbkVhR"
   },
   "source": [
    "### Product Features "
   ]
  },
  {
   "cell_type": "code",
   "execution_count": 34,
   "metadata": {
    "colab": {
     "base_uri": "https://localhost:8080/",
     "height": 370
    },
    "id": "Nk4FyAu1kVhS",
    "outputId": "0c633c74-7c0b-4286-901b-0f5823f922c0"
   },
   "outputs": [
    {
     "data": {
      "text/html": [
       "\n",
       "  <div id=\"df-5da78032-cb1c-4836-9fee-692128a76a7f\">\n",
       "    <div class=\"colab-df-container\">\n",
       "      <div>\n",
       "<style scoped>\n",
       "    .dataframe tbody tr th:only-of-type {\n",
       "        vertical-align: middle;\n",
       "    }\n",
       "\n",
       "    .dataframe tbody tr th {\n",
       "        vertical-align: top;\n",
       "    }\n",
       "\n",
       "    .dataframe thead th {\n",
       "        text-align: right;\n",
       "    }\n",
       "</style>\n",
       "<table border=\"1\" class=\"dataframe\">\n",
       "  <thead>\n",
       "    <tr style=\"text-align: right;\">\n",
       "      <th></th>\n",
       "      <th>order_id</th>\n",
       "      <th>user_id</th>\n",
       "      <th>eval_set</th>\n",
       "      <th>order_number</th>\n",
       "      <th>order_dow</th>\n",
       "      <th>order_hour_of_day</th>\n",
       "      <th>days_since_prior_order</th>\n",
       "      <th>product_id</th>\n",
       "      <th>add_to_cart_order</th>\n",
       "      <th>reordered</th>\n",
       "      <th>product_name</th>\n",
       "      <th>aisle</th>\n",
       "      <th>department</th>\n",
       "    </tr>\n",
       "  </thead>\n",
       "  <tbody>\n",
       "    <tr>\n",
       "      <th>0</th>\n",
       "      <td>23391</td>\n",
       "      <td>7.0</td>\n",
       "      <td>prior</td>\n",
       "      <td>17.0</td>\n",
       "      <td>0.0</td>\n",
       "      <td>10.0</td>\n",
       "      <td>28.0</td>\n",
       "      <td>13198.0</td>\n",
       "      <td>1.0</td>\n",
       "      <td>1.0</td>\n",
       "      <td>85% Lean Ground Beef</td>\n",
       "      <td>meat counter</td>\n",
       "      <td>meat seafood</td>\n",
       "    </tr>\n",
       "    <tr>\n",
       "      <th>1</th>\n",
       "      <td>23391</td>\n",
       "      <td>7.0</td>\n",
       "      <td>prior</td>\n",
       "      <td>17.0</td>\n",
       "      <td>0.0</td>\n",
       "      <td>10.0</td>\n",
       "      <td>28.0</td>\n",
       "      <td>42803.0</td>\n",
       "      <td>2.0</td>\n",
       "      <td>1.0</td>\n",
       "      <td>Organic Apple Slices</td>\n",
       "      <td>fruit vegetable snacks</td>\n",
       "      <td>snacks</td>\n",
       "    </tr>\n",
       "    <tr>\n",
       "      <th>2</th>\n",
       "      <td>23391</td>\n",
       "      <td>7.0</td>\n",
       "      <td>prior</td>\n",
       "      <td>17.0</td>\n",
       "      <td>0.0</td>\n",
       "      <td>10.0</td>\n",
       "      <td>28.0</td>\n",
       "      <td>8277.0</td>\n",
       "      <td>3.0</td>\n",
       "      <td>1.0</td>\n",
       "      <td>Apple Honeycrisp Organic</td>\n",
       "      <td>fresh fruits</td>\n",
       "      <td>produce</td>\n",
       "    </tr>\n",
       "    <tr>\n",
       "      <th>3</th>\n",
       "      <td>23391</td>\n",
       "      <td>7.0</td>\n",
       "      <td>prior</td>\n",
       "      <td>17.0</td>\n",
       "      <td>0.0</td>\n",
       "      <td>10.0</td>\n",
       "      <td>28.0</td>\n",
       "      <td>37602.0</td>\n",
       "      <td>4.0</td>\n",
       "      <td>1.0</td>\n",
       "      <td>Mexican Coffee</td>\n",
       "      <td>coffee</td>\n",
       "      <td>beverages</td>\n",
       "    </tr>\n",
       "    <tr>\n",
       "      <th>4</th>\n",
       "      <td>23391</td>\n",
       "      <td>7.0</td>\n",
       "      <td>prior</td>\n",
       "      <td>17.0</td>\n",
       "      <td>0.0</td>\n",
       "      <td>10.0</td>\n",
       "      <td>28.0</td>\n",
       "      <td>40852.0</td>\n",
       "      <td>5.0</td>\n",
       "      <td>1.0</td>\n",
       "      <td>Lactose Free Fat Free Milk</td>\n",
       "      <td>soy lactosefree</td>\n",
       "      <td>dairy eggs</td>\n",
       "    </tr>\n",
       "  </tbody>\n",
       "</table>\n",
       "</div>\n",
       "      <button class=\"colab-df-convert\" onclick=\"convertToInteractive('df-5da78032-cb1c-4836-9fee-692128a76a7f')\"\n",
       "              title=\"Convert this dataframe to an interactive table.\"\n",
       "              style=\"display:none;\">\n",
       "        \n",
       "  <svg xmlns=\"http://www.w3.org/2000/svg\" height=\"24px\"viewBox=\"0 0 24 24\"\n",
       "       width=\"24px\">\n",
       "    <path d=\"M0 0h24v24H0V0z\" fill=\"none\"/>\n",
       "    <path d=\"M18.56 5.44l.94 2.06.94-2.06 2.06-.94-2.06-.94-.94-2.06-.94 2.06-2.06.94zm-11 1L8.5 8.5l.94-2.06 2.06-.94-2.06-.94L8.5 2.5l-.94 2.06-2.06.94zm10 10l.94 2.06.94-2.06 2.06-.94-2.06-.94-.94-2.06-.94 2.06-2.06.94z\"/><path d=\"M17.41 7.96l-1.37-1.37c-.4-.4-.92-.59-1.43-.59-.52 0-1.04.2-1.43.59L10.3 9.45l-7.72 7.72c-.78.78-.78 2.05 0 2.83L4 21.41c.39.39.9.59 1.41.59.51 0 1.02-.2 1.41-.59l7.78-7.78 2.81-2.81c.8-.78.8-2.07 0-2.86zM5.41 20L4 18.59l7.72-7.72 1.47 1.35L5.41 20z\"/>\n",
       "  </svg>\n",
       "      </button>\n",
       "      \n",
       "  <style>\n",
       "    .colab-df-container {\n",
       "      display:flex;\n",
       "      flex-wrap:wrap;\n",
       "      gap: 12px;\n",
       "    }\n",
       "\n",
       "    .colab-df-convert {\n",
       "      background-color: #E8F0FE;\n",
       "      border: none;\n",
       "      border-radius: 50%;\n",
       "      cursor: pointer;\n",
       "      display: none;\n",
       "      fill: #1967D2;\n",
       "      height: 32px;\n",
       "      padding: 0 0 0 0;\n",
       "      width: 32px;\n",
       "    }\n",
       "\n",
       "    .colab-df-convert:hover {\n",
       "      background-color: #E2EBFA;\n",
       "      box-shadow: 0px 1px 2px rgba(60, 64, 67, 0.3), 0px 1px 3px 1px rgba(60, 64, 67, 0.15);\n",
       "      fill: #174EA6;\n",
       "    }\n",
       "\n",
       "    [theme=dark] .colab-df-convert {\n",
       "      background-color: #3B4455;\n",
       "      fill: #D2E3FC;\n",
       "    }\n",
       "\n",
       "    [theme=dark] .colab-df-convert:hover {\n",
       "      background-color: #434B5C;\n",
       "      box-shadow: 0px 1px 3px 1px rgba(0, 0, 0, 0.15);\n",
       "      filter: drop-shadow(0px 1px 2px rgba(0, 0, 0, 0.3));\n",
       "      fill: #FFFFFF;\n",
       "    }\n",
       "  </style>\n",
       "\n",
       "      <script>\n",
       "        const buttonEl =\n",
       "          document.querySelector('#df-5da78032-cb1c-4836-9fee-692128a76a7f button.colab-df-convert');\n",
       "        buttonEl.style.display =\n",
       "          google.colab.kernel.accessAllowed ? 'block' : 'none';\n",
       "\n",
       "        async function convertToInteractive(key) {\n",
       "          const element = document.querySelector('#df-5da78032-cb1c-4836-9fee-692128a76a7f');\n",
       "          const dataTable =\n",
       "            await google.colab.kernel.invokeFunction('convertToInteractive',\n",
       "                                                     [key], {});\n",
       "          if (!dataTable) return;\n",
       "\n",
       "          const docLinkHtml = 'Like what you see? Visit the ' +\n",
       "            '<a target=\"_blank\" href=https://colab.research.google.com/notebooks/data_table.ipynb>data table notebook</a>'\n",
       "            + ' to learn more about interactive tables.';\n",
       "          element.innerHTML = '';\n",
       "          dataTable['output_type'] = 'display_data';\n",
       "          await google.colab.output.renderOutput(dataTable, element);\n",
       "          const docLink = document.createElement('div');\n",
       "          docLink.innerHTML = docLinkHtml;\n",
       "          element.appendChild(docLink);\n",
       "        }\n",
       "      </script>\n",
       "    </div>\n",
       "  </div>\n",
       "  "
      ],
      "text/plain": [
       "   order_id  user_id eval_set  order_number  order_dow  order_hour_of_day  \\\n",
       "0     23391      7.0    prior          17.0        0.0               10.0   \n",
       "1     23391      7.0    prior          17.0        0.0               10.0   \n",
       "2     23391      7.0    prior          17.0        0.0               10.0   \n",
       "3     23391      7.0    prior          17.0        0.0               10.0   \n",
       "4     23391      7.0    prior          17.0        0.0               10.0   \n",
       "\n",
       "   days_since_prior_order  product_id  add_to_cart_order  reordered  \\\n",
       "0                    28.0     13198.0                1.0        1.0   \n",
       "1                    28.0     42803.0                2.0        1.0   \n",
       "2                    28.0      8277.0                3.0        1.0   \n",
       "3                    28.0     37602.0                4.0        1.0   \n",
       "4                    28.0     40852.0                5.0        1.0   \n",
       "\n",
       "                 product_name                   aisle    department  \n",
       "0        85% Lean Ground Beef            meat counter  meat seafood  \n",
       "1        Organic Apple Slices  fruit vegetable snacks        snacks  \n",
       "2    Apple Honeycrisp Organic            fresh fruits       produce  \n",
       "3              Mexican Coffee                  coffee     beverages  \n",
       "4  Lactose Free Fat Free Milk         soy lactosefree    dairy eggs  "
      ]
     },
     "execution_count": 34,
     "metadata": {},
     "output_type": "execute_result"
    }
   ],
   "source": [
    "orders_products.head()"
   ]
  },
  {
   "cell_type": "code",
   "execution_count": 35,
   "metadata": {
    "id": "oRFIaDQ8kVhT"
   },
   "outputs": [],
   "source": [
    "# Calculating product_order_frequency\n",
    "\n",
    "orders_products['product_order_freq'] = orders_products.groupby(['user_id','product_id']).cumcount() + 1"
   ]
  },
  {
   "cell_type": "code",
   "execution_count": 36,
   "metadata": {
    "id": "qHKcc3cdkVhT"
   },
   "outputs": [],
   "source": [
    "# Calculating total orders by product \n",
    "\n",
    "group = orders_products.groupby('product_id')['product_id'].transform('count')\n",
    "\n",
    "orders_products['prd_total_orders'] = group"
   ]
  },
  {
   "cell_type": "code",
   "execution_count": 37,
   "metadata": {
    "id": "fw_R3r7skVhT"
   },
   "outputs": [],
   "source": [
    "# Calculating first_orders by product\n",
    "\n",
    "orders_products['first_orders'] = (orders_products.assign(first = orders_products['product_order_freq']\n",
    "                          .where(orders_products['product_order_freq'] == 1))\n",
    "                          .groupby('product_id')['first']\n",
    "                          .transform('sum'))"
   ]
  },
  {
   "cell_type": "code",
   "execution_count": 38,
   "metadata": {
    "id": "X-B6BhNukVhT"
   },
   "outputs": [],
   "source": [
    "# Calculating second_orders by product\n",
    "\n",
    "orders_products['second_orders'] = (orders_products.assign(second = orders_products['product_order_freq']\n",
    "                          .where(orders_products['product_order_freq'] == 2))\n",
    "                          .groupby('product_id')['second']\n",
    "                          .transform('sum'))"
   ]
  },
  {
   "cell_type": "code",
   "execution_count": 39,
   "metadata": {
    "id": "OF263HfJkVhT"
   },
   "outputs": [],
   "source": [
    "# Calcuating total reorders by product \n",
    "\n",
    "group = orders_products.groupby('product_id')['reordered'].transform('sum')\n",
    "\n",
    "orders_products['prd_total_reorders'] = group"
   ]
  },
  {
   "cell_type": "code",
   "execution_count": 40,
   "metadata": {
    "id": "YSCm0jDXkVhU"
   },
   "outputs": [],
   "source": [
    "# Calculating final product features \n",
    "\n",
    "orders_products['prd_reorder_prob'] = orders_products['second_orders']/orders_products['first_orders']\n",
    "orders_products['prd_reorder_times'] = 1 + (orders_products['prd_total_reorders']/orders_products['first_orders'])\n",
    "orders_products['prd_reorder_ratio'] = orders_products['prd_total_reorders']/orders_products['prd_total_orders']\n",
    "orders_products.drop(columns=['first_orders','second_orders'],inplace=True)"
   ]
  },
  {
   "cell_type": "code",
   "execution_count": 41,
   "metadata": {
    "colab": {
     "base_uri": "https://localhost:8080/"
    },
    "id": "b8G2rTaYkVhV",
    "outputId": "08f71349-874e-4372-8f6f-becc6fc70bb1",
    "scrolled": false
   },
   "outputs": [
    {
     "name": "stdout",
     "output_type": "stream",
     "text": [
      "<class 'pandas.core.frame.DataFrame'>\n",
      "Int64Index: 23490 entries, 0 to 23489\n",
      "Data columns (total 19 columns):\n",
      " #   Column                  Non-Null Count  Dtype  \n",
      "---  ------                  --------------  -----  \n",
      " 0   order_id                23490 non-null  int64  \n",
      " 1   user_id                 23482 non-null  float64\n",
      " 2   eval_set                23482 non-null  object \n",
      " 3   order_number            23482 non-null  float64\n",
      " 4   order_dow               23482 non-null  float64\n",
      " 5   order_hour_of_day       23482 non-null  float64\n",
      " 6   days_since_prior_order  21966 non-null  float64\n",
      " 7   product_id              23490 non-null  float64\n",
      " 8   add_to_cart_order       23490 non-null  float64\n",
      " 9   reordered               23490 non-null  float64\n",
      " 10  product_name            23490 non-null  object \n",
      " 11  aisle                   23490 non-null  object \n",
      " 12  department              23490 non-null  object \n",
      " 13  product_order_freq      23490 non-null  int64  \n",
      " 14  prd_total_orders        23490 non-null  int64  \n",
      " 15  prd_total_reorders      23490 non-null  float64\n",
      " 16  prd_reorder_prob        23490 non-null  float64\n",
      " 17  prd_reorder_times       23490 non-null  float64\n",
      " 18  prd_reorder_ratio       23490 non-null  float64\n",
      "dtypes: float64(12), int64(3), object(4)\n",
      "memory usage: 3.6+ MB\n"
     ]
    }
   ],
   "source": [
    "# Updated table info with product features columns \n",
    "\n",
    "orders_products.info()"
   ]
  },
  {
   "cell_type": "markdown",
   "metadata": {
    "id": "dN3PALlDkVhW"
   },
   "source": [
    "### User Features"
   ]
  },
  {
   "cell_type": "code",
   "execution_count": 42,
   "metadata": {
    "id": "E1pbnE5pkVhW"
   },
   "outputs": [],
   "source": [
    "# Calculating total orders per user \n",
    "\n",
    "orders_products['total_user_orders'] = orders_products.groupby('user_id')['order_number'].transform('max')"
   ]
  },
  {
   "cell_type": "code",
   "execution_count": 43,
   "metadata": {
    "id": "dUNTtyIJkVhW"
   },
   "outputs": [],
   "source": [
    "# Calculating total reorders per user \n",
    "\n",
    "group = orders_products['reordered'].groupby(orders_products['user_id']).transform('sum')\n",
    "\n",
    "orders_products['user_reorders'] = group "
   ]
  },
  {
   "cell_type": "code",
   "execution_count": 44,
   "metadata": {
    "id": "_4qM8TUgkVhW"
   },
   "outputs": [],
   "source": [
    "# Calculating total products ordered by user \n",
    "\n",
    "group = orders_products['order_id'].groupby(orders_products['user_id']).transform('count')\n",
    "\n",
    "orders_products['total_user_prod_orders'] = group"
   ]
  },
  {
   "cell_type": "code",
   "execution_count": 45,
   "metadata": {
    "id": "7dSqcYWfkVhW"
   },
   "outputs": [],
   "source": [
    "# Calculating re-order ratio by product user \n",
    "\n",
    "orders_products['user_reorder_ratio'] = orders_products['user_reorders']/orders_products['total_user_prod_orders']"
   ]
  },
  {
   "cell_type": "code",
   "execution_count": 46,
   "metadata": {
    "id": "ZSpOS0S0kVhW"
   },
   "outputs": [],
   "source": [
    "# Calculating average basket size by user \n",
    "\n",
    "orders_products['user_avg_bskt'] = orders_products['total_user_prod_orders']/orders_products['total_user_orders']"
   ]
  },
  {
   "cell_type": "code",
   "execution_count": 47,
   "metadata": {
    "colab": {
     "base_uri": "https://localhost:8080/"
    },
    "id": "uV0km5XokVhX",
    "outputId": "e92330fb-8504-4108-b28f-c39cd2d0be4e"
   },
   "outputs": [
    {
     "name": "stdout",
     "output_type": "stream",
     "text": [
      "<class 'pandas.core.frame.DataFrame'>\n",
      "Int64Index: 23490 entries, 0 to 23489\n",
      "Data columns (total 24 columns):\n",
      " #   Column                  Non-Null Count  Dtype  \n",
      "---  ------                  --------------  -----  \n",
      " 0   order_id                23490 non-null  int64  \n",
      " 1   user_id                 23482 non-null  float64\n",
      " 2   eval_set                23482 non-null  object \n",
      " 3   order_number            23482 non-null  float64\n",
      " 4   order_dow               23482 non-null  float64\n",
      " 5   order_hour_of_day       23482 non-null  float64\n",
      " 6   days_since_prior_order  21966 non-null  float64\n",
      " 7   product_id              23490 non-null  float64\n",
      " 8   add_to_cart_order       23490 non-null  float64\n",
      " 9   reordered               23490 non-null  float64\n",
      " 10  product_name            23490 non-null  object \n",
      " 11  aisle                   23490 non-null  object \n",
      " 12  department              23490 non-null  object \n",
      " 13  product_order_freq      23490 non-null  int64  \n",
      " 14  prd_total_orders        23490 non-null  int64  \n",
      " 15  prd_total_reorders      23490 non-null  float64\n",
      " 16  prd_reorder_prob        23490 non-null  float64\n",
      " 17  prd_reorder_times       23490 non-null  float64\n",
      " 18  prd_reorder_ratio       23490 non-null  float64\n",
      " 19  total_user_orders       23482 non-null  float64\n",
      " 20  user_reorders           23482 non-null  float64\n",
      " 21  total_user_prod_orders  23482 non-null  float64\n",
      " 22  user_reorder_ratio      23482 non-null  float64\n",
      " 23  user_avg_bskt           23482 non-null  float64\n",
      "dtypes: float64(17), int64(3), object(4)\n",
      "memory usage: 5.0+ MB\n"
     ]
    }
   ],
   "source": [
    "# Updated table info with user features \n",
    "\n",
    "orders_products.info()"
   ]
  },
  {
   "cell_type": "markdown",
   "metadata": {
    "id": "wRNcmelRkVhX"
   },
   "source": [
    "## Modeling\n",
    "__________________________________________________________________________________________________________________\n",
    "In order to predict whether or not a customer will reorder a particular item, I will be using two classification models. The first model implemented is a binary LogisticRegression classification. This will be used to generate predictions for customer reorders. The second is an XGBoost model, which I will primarily use for Feature Importance understanding. Additionally, I implement a Grid Search for both models to optimize the hyperparameters used."
   ]
  },
  {
   "cell_type": "markdown",
   "metadata": {
    "id": "w6hagI9zo3nC"
   },
   "source": [
    "### Logistic Regression"
   ]
  },
  {
   "cell_type": "code",
   "execution_count": 48,
   "metadata": {
    "id": "nmyagbuakVhX"
   },
   "outputs": [],
   "source": [
    "# Dropping unnecessary columns ahead of modeling \n",
    "\n",
    "orders_model = orders_products.select_dtypes(exclude=['object'])"
   ]
  },
  {
   "cell_type": "code",
   "execution_count": 49,
   "metadata": {
    "id": "E-F7Gz8ckVhX"
   },
   "outputs": [],
   "source": [
    "# Fill null values from days_since_prior_order with 0 \n",
    "\n",
    "orders_model.fillna(0,inplace=True)"
   ]
  },
  {
   "cell_type": "code",
   "execution_count": 50,
   "metadata": {
    "id": "NEl25MnMkVhX"
   },
   "outputs": [],
   "source": [
    "# Setting up target and features \n",
    "\n",
    "X = orders_model.drop(columns='reordered')\n",
    "y = orders_model['reordered']"
   ]
  },
  {
   "cell_type": "code",
   "execution_count": 51,
   "metadata": {
    "id": "Y3vTy2djkVhX"
   },
   "outputs": [],
   "source": [
    "# Setting up train-test split\n",
    "\n",
    "X_train, X_test, y_train, y_test = train_test_split(X, y, test_size=.50,random_state=42)"
   ]
  },
  {
   "cell_type": "code",
   "execution_count": 52,
   "metadata": {
    "id": "fXCb1WjckVhY"
   },
   "outputs": [],
   "source": [
    "# Scaling data for logreg model\n",
    "\n",
    "log_scaler = StandardScaler()\n",
    "\n",
    "\n",
    "# Fit and transform train, transform test\n",
    "\n",
    "X_train_scaled = log_scaler.fit_transform(X_train)\n",
    "X_test_scaled = log_scaler.transform(X_test)"
   ]
  },
  {
   "cell_type": "code",
   "execution_count": 53,
   "metadata": {
    "id": "-LMMBUYYkVhY"
   },
   "outputs": [],
   "source": [
    "# Instantiating model \n",
    "\n",
    "log_model = LogisticRegression(penalty='l2', \n",
    "                               C=2, \n",
    "                               class_weight='balanced', \n",
    "                               solver='lbfgs',\n",
    "                               random_state=42) "
   ]
  },
  {
   "cell_type": "code",
   "execution_count": 54,
   "metadata": {
    "colab": {
     "base_uri": "https://localhost:8080/"
    },
    "id": "flQmSAe3kVhY",
    "outputId": "02a1fa7c-0a4c-49ae-ad28-2152cf58e9cb"
   },
   "outputs": [
    {
     "data": {
      "text/plain": [
       "LogisticRegression(C=2, class_weight='balanced', random_state=42)"
      ]
     },
     "execution_count": 54,
     "metadata": {},
     "output_type": "execute_result"
    }
   ],
   "source": [
    "# Fit model on train \n",
    "\n",
    "log_model.fit(X_train_scaled,y_train)"
   ]
  },
  {
   "cell_type": "code",
   "execution_count": 55,
   "metadata": {
    "colab": {
     "base_uri": "https://localhost:8080/"
    },
    "id": "GHosrJYRkVhY",
    "outputId": "c609ec40-4253-4c92-8ca2-fc394a3bff28"
   },
   "outputs": [
    {
     "name": "stdout",
     "output_type": "stream",
     "text": [
      "Accuracy:0.87, Precision:0.90,Recall:0.89,F1:0.89\n",
      "\n"
     ]
    }
   ],
   "source": [
    "# Printing train results \n",
    "\n",
    "y_pred_train = log_model.predict(X_train_scaled)\n",
    "\n",
    "\n",
    "train_accuracy = accuracy_score(y_train,y_pred_train)\n",
    "train_precision = precision_score(y_train,y_pred_train)\n",
    "train_recall = recall_score(y_train,y_pred_train)\n",
    "train_f1 = f1_score(y_train,y_pred_train)\n",
    "\n",
    "print(f\"\"\"\\\n",
    "Accuracy:{train_accuracy:1.2f}, Precision:{train_precision:1.2f},Recall:{train_recall:1.2f},F1:{train_f1:1.2f}\n",
    "\"\"\") "
   ]
  },
  {
   "cell_type": "code",
   "execution_count": 56,
   "metadata": {
    "colab": {
     "base_uri": "https://localhost:8080/"
    },
    "id": "KgpCYPmjkVhY",
    "outputId": "49ce6dea-8f28-4d12-cfa0-972976b17aab"
   },
   "outputs": [
    {
     "name": "stdout",
     "output_type": "stream",
     "text": [
      "Accuracy:0.87,Precision:0.90, Recall:0.88,F1:0.89\n",
      "\n"
     ]
    }
   ],
   "source": [
    "# Printing test results \n",
    "y_pred_test = log_model.predict(X_test_scaled)\n",
    "\n",
    "\n",
    "model_precision = precision_score(y_test,y_pred_test)\n",
    "model_accuracy = accuracy_score(y_test,y_pred_test)\n",
    "model_f1 = f1_score(y_test,y_pred_test)\n",
    "model_recall = recall_score(y_test,y_pred_test)\n",
    "\n",
    "\n",
    "\n",
    "\n",
    "print(f\"\"\"\\\n",
    "Accuracy:{model_accuracy:1.2f},Precision:{model_precision:1.2f}, Recall:{model_recall:1.2f},F1:{model_f1:1.2f}\n",
    "\"\"\") "
   ]
  },
  {
   "cell_type": "code",
   "execution_count": 57,
   "metadata": {
    "id": "nNWLpejDkVhY"
   },
   "outputs": [],
   "source": [
    "# Setting up paramaters for GridSearch\n",
    "\n",
    "params = {\n",
    "    'penalty': ['l1', 'l2', 'elasticnet']\n",
    "    ,'C': [100, 10, 1.0, 0.1, 0.01]\n",
    "    ,'solver': ['saga','sag','lbfgs'] \n",
    "    ,'max_iter': [100, 500, 1000]\n",
    "}"
   ]
  },
  {
   "cell_type": "code",
   "execution_count": 58,
   "metadata": {
    "id": "feVfl9LPlm0g"
   },
   "outputs": [],
   "source": [
    "# # GridSearch\n",
    "\n",
    "# grid = GridSearchCV(log_model,\n",
    "#                    param_grid = params,\n",
    "#                    cv = 5,\n",
    "#                    n_jobs = -2)\n",
    "\n",
    "# grid.fit(X_train_scaled,y_train)"
   ]
  },
  {
   "cell_type": "code",
   "execution_count": 59,
   "metadata": {
    "id": "zcuEhFIGmBFM"
   },
   "outputs": [],
   "source": [
    "# Grabbing best parameters for logreg model\n",
    "\n",
    "# grid.best_params_"
   ]
  },
  {
   "cell_type": "markdown",
   "metadata": {
    "id": "XpdSe-ZWhh2U"
   },
   "source": [
    "**Note:** GridSearch is commented out due to long runtime. Please see best parameters below:\n",
    "\n",
    "- **C:** 0.1\n",
    "- **max_iter:** 100\n",
    "- **penalty:** l1\n",
    "- **solver:** saga"
   ]
  },
  {
   "cell_type": "code",
   "execution_count": 60,
   "metadata": {
    "id": "u11nuXfIoUDw"
   },
   "outputs": [],
   "source": [
    "# Instantiating second model with best parameters \n",
    "\n",
    "log_model_2 = LogisticRegression(C=.1,max_iter=100,penalty='l1',solver='saga',class_weight='balanced',\\\n",
    "                                 random_state=42)"
   ]
  },
  {
   "cell_type": "code",
   "execution_count": 61,
   "metadata": {
    "colab": {
     "base_uri": "https://localhost:8080/"
    },
    "id": "D1LwaUGmoa3h",
    "outputId": "dffb7001-7135-4c1e-9649-aeb8be0ec195"
   },
   "outputs": [
    {
     "data": {
      "text/plain": [
       "LogisticRegression(C=0.1, class_weight='balanced', penalty='l1',\n",
       "                   random_state=42, solver='saga')"
      ]
     },
     "execution_count": 61,
     "metadata": {},
     "output_type": "execute_result"
    }
   ],
   "source": [
    "# Fit log_model_2 on train\n",
    "\n",
    "log_model_2.fit(X_train_scaled,y_train)"
   ]
  },
  {
   "cell_type": "code",
   "execution_count": 82,
   "metadata": {
    "colab": {
     "base_uri": "https://localhost:8080/"
    },
    "id": "2T7B5iUwofpi",
    "outputId": "7a05ae5d-7ed5-4fc2-b269-628f716d598f"
   },
   "outputs": [
    {
     "name": "stdout",
     "output_type": "stream",
     "text": [
      "Accuracy:0.87, Precision:0.90,Recall:0.89,F1:0.89\n",
      "\n"
     ]
    }
   ],
   "source": [
    "# Printing train results \n",
    "\n",
    "y_pred_train = log_model_2.predict(X_train_scaled)\n",
    "\n",
    "\n",
    "train_accuracy = accuracy_score(y_train,y_pred_train)\n",
    "train_precision = precision_score(y_train,y_pred_train)\n",
    "train_recall = recall_score(y_train,y_pred_train)\n",
    "train_f1 = f1_score(y_train,y_pred_train)\n",
    "\n",
    "print(f\"\"\"\\\n",
    "Accuracy:{train_accuracy:1.2f}, Precision:{train_precision:1.2f},Recall:{train_recall:1.2f},F1:{train_f1:1.2f}\n",
    "\"\"\") "
   ]
  },
  {
   "cell_type": "code",
   "execution_count": 83,
   "metadata": {
    "colab": {
     "base_uri": "https://localhost:8080/"
    },
    "id": "B9ZyoVnXoiu7",
    "outputId": "176a064e-60ef-4f2f-b28d-9421726327f6"
   },
   "outputs": [
    {
     "name": "stdout",
     "output_type": "stream",
     "text": [
      "Accuracy:0.87,Precision:0.90, Recall:0.88,F1:0.89\n",
      "\n"
     ]
    }
   ],
   "source": [
    "# Printing test results \n",
    "\n",
    "y_pred_test = log_model_2.predict(X_test_scaled)\n",
    "\n",
    "\n",
    "model_precision = precision_score(y_test,y_pred_test)\n",
    "model_accuracy = accuracy_score(y_test,y_pred_test)\n",
    "model_f1 = f1_score(y_test,y_pred_test)\n",
    "model_recall = recall_score(y_test,y_pred_test)\n",
    "\n",
    "\n",
    "\n",
    "\n",
    "print(f\"\"\"\\\n",
    "Accuracy:{model_accuracy:1.2f},Precision:{model_precision:1.2f}, Recall:{model_recall:1.2f},F1:{model_f1:1.2f}\n",
    "\"\"\") "
   ]
  },
  {
   "cell_type": "code",
   "execution_count": 85,
   "metadata": {
    "colab": {
     "base_uri": "https://localhost:8080/",
     "height": 279
    },
    "id": "bBbaMGRNsBBz",
    "outputId": "29a7407a-aae8-44af-ce89-82f4a41ed0c4"
   },
   "outputs": [
    {
     "data": {
      "image/png": "[encoded data removed]",
      "text/plain": [
       "<Figure size 432x288 with 2 Axes>"
      ]
     },
     "metadata": {
      "needs_background": "light"
     },
     "output_type": "display_data"
    }
   ],
   "source": [
    "plot_confusion_matrix(log_model_2,X_test_scaled,y_test);"
   ]
  },
  {
   "cell_type": "markdown",
   "metadata": {
    "id": "_t99hXW6okn7"
   },
   "source": [
    "### XGBoost "
   ]
  },
  {
   "cell_type": "code",
   "execution_count": 64,
   "metadata": {
    "colab": {
     "base_uri": "https://localhost:8080/",
     "height": 448
    },
    "id": "LRQeAmsDpc25",
    "outputId": "4897d4a7-84cc-41f5-e445-d01fd0d41513"
   },
   "outputs": [
    {
     "name": "stdout",
     "output_type": "stream",
     "text": [
      "[0]\ttrain-logloss:0.636735\n",
      "[10]\ttrain-logloss:0.375797\n",
      "[20]\ttrain-logloss:0.300048\n",
      "[30]\ttrain-logloss:0.27002\n",
      "[40]\ttrain-logloss:0.256032\n",
      "[50]\ttrain-logloss:0.247573\n",
      "[60]\ttrain-logloss:0.241036\n",
      "[70]\ttrain-logloss:0.235343\n",
      "[79]\ttrain-logloss:0.231159\n"
     ]
    },
    {
     "data": {
      "image/png": "[encoded data removed]",
      "text/plain": [
       "<Figure size 432x288 with 1 Axes>"
      ]
     },
     "metadata": {
      "needs_background": "light"
     },
     "output_type": "display_data"
    }
   ],
   "source": [
    "# Instantiate and train model to understand feature importance \n",
    "\n",
    "d_train = xgb.DMatrix(X_train, y_train)\n",
    "xgb_params = {\n",
    "    \"objective\"         : \"reg:logistic\"\n",
    "    ,\"eval_metric\"      : \"logloss\"\n",
    "    ,\"eta\"              : 0.1\n",
    "    ,\"max_depth\"        : 6\n",
    "    ,\"min_child_weight\" :10\n",
    "    ,\"gamma\"            :0.70\n",
    "    ,\"subsample\"        :0.76\n",
    "    ,\"colsample_bytree\" :0.95\n",
    "    ,\"alpha\"            :2e-05\n",
    "    ,\"lambda\"           :10\n",
    "}\n",
    "watchlist= [(d_train, \"train\")]\n",
    "bst = xgb.train(params=xgb_params, dtrain=d_train, num_boost_round=80, evals=watchlist, verbose_eval=10)\n",
    "xgb.plot_importance(bst);"
   ]
  },
  {
   "cell_type": "markdown",
   "metadata": {
    "id": "N9VumQ9sq5tv"
   },
   "source": [
    "## Market Basket Analysis - Apriori\n",
    "__________________________________________________________________________________________________________________\n",
    "\n",
    "### Advantages of Market Basket Analysis\n",
    "There are many advantages to implementing Market Basket Analysis in marketing. Market basket Analysis(MBA) can be applied to data of customers from the point of sale (PoS) systems.\n",
    "\n",
    "It helps retailers with:\n",
    "\n",
    "- Increases customer engagement\n",
    "- Boosting sales and increasing RoI\n",
    "- Improving customer experience\n",
    "- Optimize marketing strategies and campaigns\n",
    "- Help to understand customers better\n",
    "- Identifies customer behavior and pattern\n",
    "\n",
    "I will be using this analysis to identify frequent item sets using association rules. In doing so I will be able to identify commonly bought together products to help Instacart understand their key basket builders to influence merchandising and promotional strategies."
   ]
  },
  {
   "cell_type": "markdown",
   "metadata": {
    "id": "wAwgyoEiq5tv"
   },
   "source": [
    "### Step 1: Data Integration"
   ]
  },
  {
   "cell_type": "code",
   "execution_count": 65,
   "metadata": {
    "id": "1E5FUN-Rq5tv"
   },
   "outputs": [],
   "source": [
    "# Combining dataframes \n",
    "\n",
    "data = orders_prior.merge(products, on = 'product_id')"
   ]
  },
  {
   "cell_type": "code",
   "execution_count": 66,
   "metadata": {
    "colab": {
     "base_uri": "https://localhost:8080/"
    },
    "id": "LuERwazTq5tv",
    "outputId": "976800a7-ca0a-4fd3-bbd1-4062540c9c36"
   },
   "outputs": [
    {
     "name": "stdout",
     "output_type": "stream",
     "text": [
      "<class 'pandas.core.frame.DataFrame'>\n",
      "Int64Index: 396559 entries, 0 to 396558\n",
      "Data columns (total 7 columns):\n",
      " #   Column             Non-Null Count   Dtype  \n",
      "---  ------             --------------   -----  \n",
      " 0   order_id           396559 non-null  int64  \n",
      " 1   product_id         396559 non-null  float64\n",
      " 2   add_to_cart_order  396559 non-null  float64\n",
      " 3   reordered          396559 non-null  float64\n",
      " 4   product_name       396559 non-null  object \n",
      " 5   aisle_id           396559 non-null  int64  \n",
      " 6   department_id      396559 non-null  int64  \n",
      "dtypes: float64(3), int64(3), object(1)\n",
      "memory usage: 24.2+ MB\n"
     ]
    }
   ],
   "source": [
    "data.info()"
   ]
  },
  {
   "cell_type": "code",
   "execution_count": 67,
   "metadata": {
    "colab": {
     "base_uri": "https://localhost:8080/"
    },
    "id": "pNXKGj4xq5tv",
    "outputId": "d563936b-4b2f-4777-8bdc-08bb1faaf429"
   },
   "outputs": [
    {
     "data": {
      "text/plain": [
       "order_id             0\n",
       "product_id           0\n",
       "add_to_cart_order    0\n",
       "reordered            0\n",
       "product_name         0\n",
       "aisle_id             0\n",
       "department_id        0\n",
       "dtype: int64"
      ]
     },
     "execution_count": 67,
     "metadata": {},
     "output_type": "execute_result"
    }
   ],
   "source": [
    "# Checking for nulls \n",
    "\n",
    "data.isna().sum()"
   ]
  },
  {
   "cell_type": "markdown",
   "metadata": {
    "id": "cor1P5mPq5tv"
   },
   "source": [
    "### Step 2: Basket Creation"
   ]
  },
  {
   "cell_type": "code",
   "execution_count": 68,
   "metadata": {
    "colab": {
     "base_uri": "https://localhost:8080/",
     "height": 359
    },
    "id": "oLozANGMq5tv",
    "outputId": "519845c3-5e07-4df0-8c97-f82db3dc37ae"
   },
   "outputs": [
    {
     "data": {
      "text/html": [
       "\n",
       "  <div id=\"df-e4b5e8d5-8790-432b-9182-22a7bd0741bf\">\n",
       "    <div class=\"colab-df-container\">\n",
       "      <div>\n",
       "<style scoped>\n",
       "    .dataframe tbody tr th:only-of-type {\n",
       "        vertical-align: middle;\n",
       "    }\n",
       "\n",
       "    .dataframe tbody tr th {\n",
       "        vertical-align: top;\n",
       "    }\n",
       "\n",
       "    .dataframe thead th {\n",
       "        text-align: right;\n",
       "    }\n",
       "</style>\n",
       "<table border=\"1\" class=\"dataframe\">\n",
       "  <thead>\n",
       "    <tr style=\"text-align: right;\">\n",
       "      <th></th>\n",
       "      <th>product_id</th>\n",
       "      <th>frequency</th>\n",
       "    </tr>\n",
       "  </thead>\n",
       "  <tbody>\n",
       "    <tr>\n",
       "      <th>0</th>\n",
       "      <td>24852.0</td>\n",
       "      <td>5874</td>\n",
       "    </tr>\n",
       "    <tr>\n",
       "      <th>1</th>\n",
       "      <td>13176.0</td>\n",
       "      <td>4718</td>\n",
       "    </tr>\n",
       "    <tr>\n",
       "      <th>2</th>\n",
       "      <td>21137.0</td>\n",
       "      <td>3188</td>\n",
       "    </tr>\n",
       "    <tr>\n",
       "      <th>3</th>\n",
       "      <td>21903.0</td>\n",
       "      <td>2979</td>\n",
       "    </tr>\n",
       "    <tr>\n",
       "      <th>4</th>\n",
       "      <td>47209.0</td>\n",
       "      <td>2625</td>\n",
       "    </tr>\n",
       "    <tr>\n",
       "      <th>5</th>\n",
       "      <td>47766.0</td>\n",
       "      <td>2144</td>\n",
       "    </tr>\n",
       "    <tr>\n",
       "      <th>6</th>\n",
       "      <td>47626.0</td>\n",
       "      <td>1839</td>\n",
       "    </tr>\n",
       "    <tr>\n",
       "      <th>7</th>\n",
       "      <td>16797.0</td>\n",
       "      <td>1803</td>\n",
       "    </tr>\n",
       "    <tr>\n",
       "      <th>8</th>\n",
       "      <td>27966.0</td>\n",
       "      <td>1757</td>\n",
       "    </tr>\n",
       "    <tr>\n",
       "      <th>9</th>\n",
       "      <td>26209.0</td>\n",
       "      <td>1650</td>\n",
       "    </tr>\n",
       "  </tbody>\n",
       "</table>\n",
       "</div>\n",
       "      <button class=\"colab-df-convert\" onclick=\"convertToInteractive('df-e4b5e8d5-8790-432b-9182-22a7bd0741bf')\"\n",
       "              title=\"Convert this dataframe to an interactive table.\"\n",
       "              style=\"display:none;\">\n",
       "        \n",
       "  <svg xmlns=\"http://www.w3.org/2000/svg\" height=\"24px\"viewBox=\"0 0 24 24\"\n",
       "       width=\"24px\">\n",
       "    <path d=\"M0 0h24v24H0V0z\" fill=\"none\"/>\n",
       "    <path d=\"M18.56 5.44l.94 2.06.94-2.06 2.06-.94-2.06-.94-.94-2.06-.94 2.06-2.06.94zm-11 1L8.5 8.5l.94-2.06 2.06-.94-2.06-.94L8.5 2.5l-.94 2.06-2.06.94zm10 10l.94 2.06.94-2.06 2.06-.94-2.06-.94-.94-2.06-.94 2.06-2.06.94z\"/><path d=\"M17.41 7.96l-1.37-1.37c-.4-.4-.92-.59-1.43-.59-.52 0-1.04.2-1.43.59L10.3 9.45l-7.72 7.72c-.78.78-.78 2.05 0 2.83L4 21.41c.39.39.9.59 1.41.59.51 0 1.02-.2 1.41-.59l7.78-7.78 2.81-2.81c.8-.78.8-2.07 0-2.86zM5.41 20L4 18.59l7.72-7.72 1.47 1.35L5.41 20z\"/>\n",
       "  </svg>\n",
       "      </button>\n",
       "      \n",
       "  <style>\n",
       "    .colab-df-container {\n",
       "      display:flex;\n",
       "      flex-wrap:wrap;\n",
       "      gap: 12px;\n",
       "    }\n",
       "\n",
       "    .colab-df-convert {\n",
       "      background-color: #E8F0FE;\n",
       "      border: none;\n",
       "      border-radius: 50%;\n",
       "      cursor: pointer;\n",
       "      display: none;\n",
       "      fill: #1967D2;\n",
       "      height: 32px;\n",
       "      padding: 0 0 0 0;\n",
       "      width: 32px;\n",
       "    }\n",
       "\n",
       "    .colab-df-convert:hover {\n",
       "      background-color: #E2EBFA;\n",
       "      box-shadow: 0px 1px 2px rgba(60, 64, 67, 0.3), 0px 1px 3px 1px rgba(60, 64, 67, 0.15);\n",
       "      fill: #174EA6;\n",
       "    }\n",
       "\n",
       "    [theme=dark] .colab-df-convert {\n",
       "      background-color: #3B4455;\n",
       "      fill: #D2E3FC;\n",
       "    }\n",
       "\n",
       "    [theme=dark] .colab-df-convert:hover {\n",
       "      background-color: #434B5C;\n",
       "      box-shadow: 0px 1px 3px 1px rgba(0, 0, 0, 0.15);\n",
       "      filter: drop-shadow(0px 1px 2px rgba(0, 0, 0, 0.3));\n",
       "      fill: #FFFFFF;\n",
       "    }\n",
       "  </style>\n",
       "\n",
       "      <script>\n",
       "        const buttonEl =\n",
       "          document.querySelector('#df-e4b5e8d5-8790-432b-9182-22a7bd0741bf button.colab-df-convert');\n",
       "        buttonEl.style.display =\n",
       "          google.colab.kernel.accessAllowed ? 'block' : 'none';\n",
       "\n",
       "        async function convertToInteractive(key) {\n",
       "          const element = document.querySelector('#df-e4b5e8d5-8790-432b-9182-22a7bd0741bf');\n",
       "          const dataTable =\n",
       "            await google.colab.kernel.invokeFunction('convertToInteractive',\n",
       "                                                     [key], {});\n",
       "          if (!dataTable) return;\n",
       "\n",
       "          const docLinkHtml = 'Like what you see? Visit the ' +\n",
       "            '<a target=\"_blank\" href=https://colab.research.google.com/notebooks/data_table.ipynb>data table notebook</a>'\n",
       "            + ' to learn more about interactive tables.';\n",
       "          element.innerHTML = '';\n",
       "          dataTable['output_type'] = 'display_data';\n",
       "          await google.colab.output.renderOutput(dataTable, element);\n",
       "          const docLink = document.createElement('div');\n",
       "          docLink.innerHTML = docLinkHtml;\n",
       "          element.appendChild(docLink);\n",
       "        }\n",
       "      </script>\n",
       "    </div>\n",
       "  </div>\n",
       "  "
      ],
      "text/plain": [
       "   product_id  frequency\n",
       "0     24852.0       5874\n",
       "1     13176.0       4718\n",
       "2     21137.0       3188\n",
       "3     21903.0       2979\n",
       "4     47209.0       2625\n",
       "5     47766.0       2144\n",
       "6     47626.0       1839\n",
       "7     16797.0       1803\n",
       "8     27966.0       1757\n",
       "9     26209.0       1650"
      ]
     },
     "execution_count": 68,
     "metadata": {},
     "output_type": "execute_result"
    }
   ],
   "source": [
    "# Create a frequency table of product_ids\n",
    "\n",
    "product_counts = data.groupby('product_id')['order_id'].count().reset_index().rename(columns = {'order_id'\\\n",
    "                                                                                                    :'frequency'})\n",
    "\n",
    "product_counts = product_counts.sort_values('frequency', ascending=False)[0:100].reset_index(drop=True)\n",
    "\n",
    "product_counts.head(10)"
   ]
  },
  {
   "cell_type": "code",
   "execution_count": 69,
   "metadata": {
    "colab": {
     "base_uri": "https://localhost:8080/"
    },
    "id": "yuULhPUVq5tw",
    "outputId": "aa15c19e-e185-4102-bb14-c1f888b273bb"
   },
   "outputs": [
    {
     "data": {
      "text/plain": [
       "[13176.0,\n",
       " 21137.0,\n",
       " 21903.0,\n",
       " 47209.0,\n",
       " 47766.0,\n",
       " 47626.0,\n",
       " 16797.0,\n",
       " 27966.0,\n",
       " 26209.0]"
      ]
     },
     "execution_count": 69,
     "metadata": {},
     "output_type": "execute_result"
    }
   ],
   "source": [
    "freq_products = list(product_counts.product_id)\n",
    "freq_products[1:10]"
   ]
  },
  {
   "cell_type": "code",
   "execution_count": 70,
   "metadata": {
    "colab": {
     "base_uri": "https://localhost:8080/"
    },
    "id": "47b2pXw9q5tw",
    "outputId": "3851d11c-96bf-4dfe-a561-e305130c6846"
   },
   "outputs": [
    {
     "data": {
      "text/plain": [
       "(91592, 7)"
      ]
     },
     "execution_count": 70,
     "metadata": {},
     "output_type": "execute_result"
    }
   ],
   "source": [
    "order_products = data[data.product_id.isin(freq_products)]\n",
    "order_products.shape"
   ]
  },
  {
   "cell_type": "code",
   "execution_count": 71,
   "metadata": {
    "id": "zwzX9nPnq5tw"
   },
   "outputs": [],
   "source": [
    "basket = order_products.pivot_table(columns='product_name', values='reordered', \\\n",
    "                                    index='order_id').reset_index().fillna(0).set_index('order_id')"
   ]
  },
  {
   "cell_type": "code",
   "execution_count": 72,
   "metadata": {
    "colab": {
     "base_uri": "https://localhost:8080/",
     "height": 396
    },
    "id": "ssX0cDFTq5tw",
    "outputId": "f298c3e0-7043-4900-cad6-f6d3e604f305"
   },
   "outputs": [
    {
     "data": {
      "text/html": [
       "\n",
       "  <div id=\"df-747c515f-9a6e-4dc3-8db0-ec609753ce9c\">\n",
       "    <div class=\"colab-df-container\">\n",
       "      <div>\n",
       "<style scoped>\n",
       "    .dataframe tbody tr th:only-of-type {\n",
       "        vertical-align: middle;\n",
       "    }\n",
       "\n",
       "    .dataframe tbody tr th {\n",
       "        vertical-align: top;\n",
       "    }\n",
       "\n",
       "    .dataframe thead th {\n",
       "        text-align: right;\n",
       "    }\n",
       "</style>\n",
       "<table border=\"1\" class=\"dataframe\">\n",
       "  <thead>\n",
       "    <tr style=\"text-align: right;\">\n",
       "      <th>product_name</th>\n",
       "      <th>100% Raw Coconut Water</th>\n",
       "      <th>100% Whole Wheat Bread</th>\n",
       "      <th>2% Reduced Fat Milk</th>\n",
       "      <th>Apple Honeycrisp Organic</th>\n",
       "      <th>Asparagus</th>\n",
       "      <th>Bag of Organic Bananas</th>\n",
       "      <th>Banana</th>\n",
       "      <th>Bartlett Pears</th>\n",
       "      <th>Blueberries</th>\n",
       "      <th>Boneless Skinless Chicken Breasts</th>\n",
       "      <th>...</th>\n",
       "      <th>Sparkling Natural Mineral Water</th>\n",
       "      <th>Sparkling Water Grapefruit</th>\n",
       "      <th>Spring Water</th>\n",
       "      <th>Strawberries</th>\n",
       "      <th>Uncured Genoa Salami</th>\n",
       "      <th>Unsalted Butter</th>\n",
       "      <th>Unsweetened Almondmilk</th>\n",
       "      <th>Unsweetened Original Almond Breeze Almond Milk</th>\n",
       "      <th>Whole Milk</th>\n",
       "      <th>Yellow Onions</th>\n",
       "    </tr>\n",
       "    <tr>\n",
       "      <th>order_id</th>\n",
       "      <th></th>\n",
       "      <th></th>\n",
       "      <th></th>\n",
       "      <th></th>\n",
       "      <th></th>\n",
       "      <th></th>\n",
       "      <th></th>\n",
       "      <th></th>\n",
       "      <th></th>\n",
       "      <th></th>\n",
       "      <th></th>\n",
       "      <th></th>\n",
       "      <th></th>\n",
       "      <th></th>\n",
       "      <th></th>\n",
       "      <th></th>\n",
       "      <th></th>\n",
       "      <th></th>\n",
       "      <th></th>\n",
       "      <th></th>\n",
       "      <th></th>\n",
       "    </tr>\n",
       "  </thead>\n",
       "  <tbody>\n",
       "    <tr>\n",
       "      <th>2</th>\n",
       "      <td>0.0</td>\n",
       "      <td>0.0</td>\n",
       "      <td>0.0</td>\n",
       "      <td>0.0</td>\n",
       "      <td>0.0</td>\n",
       "      <td>0.0</td>\n",
       "      <td>0.0</td>\n",
       "      <td>0.0</td>\n",
       "      <td>0.0</td>\n",
       "      <td>0.0</td>\n",
       "      <td>...</td>\n",
       "      <td>0.0</td>\n",
       "      <td>0.0</td>\n",
       "      <td>0.0</td>\n",
       "      <td>0.0</td>\n",
       "      <td>0.0</td>\n",
       "      <td>0.0</td>\n",
       "      <td>0.0</td>\n",
       "      <td>0.0</td>\n",
       "      <td>0.0</td>\n",
       "      <td>0.0</td>\n",
       "    </tr>\n",
       "    <tr>\n",
       "      <th>3</th>\n",
       "      <td>0.0</td>\n",
       "      <td>0.0</td>\n",
       "      <td>0.0</td>\n",
       "      <td>0.0</td>\n",
       "      <td>0.0</td>\n",
       "      <td>0.0</td>\n",
       "      <td>0.0</td>\n",
       "      <td>0.0</td>\n",
       "      <td>0.0</td>\n",
       "      <td>0.0</td>\n",
       "      <td>...</td>\n",
       "      <td>0.0</td>\n",
       "      <td>0.0</td>\n",
       "      <td>0.0</td>\n",
       "      <td>0.0</td>\n",
       "      <td>0.0</td>\n",
       "      <td>0.0</td>\n",
       "      <td>1.0</td>\n",
       "      <td>0.0</td>\n",
       "      <td>0.0</td>\n",
       "      <td>0.0</td>\n",
       "    </tr>\n",
       "    <tr>\n",
       "      <th>5</th>\n",
       "      <td>0.0</td>\n",
       "      <td>0.0</td>\n",
       "      <td>1.0</td>\n",
       "      <td>0.0</td>\n",
       "      <td>0.0</td>\n",
       "      <td>1.0</td>\n",
       "      <td>0.0</td>\n",
       "      <td>0.0</td>\n",
       "      <td>0.0</td>\n",
       "      <td>0.0</td>\n",
       "      <td>...</td>\n",
       "      <td>0.0</td>\n",
       "      <td>0.0</td>\n",
       "      <td>0.0</td>\n",
       "      <td>0.0</td>\n",
       "      <td>0.0</td>\n",
       "      <td>0.0</td>\n",
       "      <td>0.0</td>\n",
       "      <td>0.0</td>\n",
       "      <td>0.0</td>\n",
       "      <td>0.0</td>\n",
       "    </tr>\n",
       "    <tr>\n",
       "      <th>9</th>\n",
       "      <td>0.0</td>\n",
       "      <td>0.0</td>\n",
       "      <td>0.0</td>\n",
       "      <td>0.0</td>\n",
       "      <td>0.0</td>\n",
       "      <td>0.0</td>\n",
       "      <td>0.0</td>\n",
       "      <td>0.0</td>\n",
       "      <td>0.0</td>\n",
       "      <td>0.0</td>\n",
       "      <td>...</td>\n",
       "      <td>0.0</td>\n",
       "      <td>0.0</td>\n",
       "      <td>0.0</td>\n",
       "      <td>0.0</td>\n",
       "      <td>0.0</td>\n",
       "      <td>0.0</td>\n",
       "      <td>0.0</td>\n",
       "      <td>0.0</td>\n",
       "      <td>0.0</td>\n",
       "      <td>0.0</td>\n",
       "    </tr>\n",
       "    <tr>\n",
       "      <th>10</th>\n",
       "      <td>0.0</td>\n",
       "      <td>0.0</td>\n",
       "      <td>0.0</td>\n",
       "      <td>0.0</td>\n",
       "      <td>0.0</td>\n",
       "      <td>0.0</td>\n",
       "      <td>1.0</td>\n",
       "      <td>0.0</td>\n",
       "      <td>0.0</td>\n",
       "      <td>0.0</td>\n",
       "      <td>...</td>\n",
       "      <td>0.0</td>\n",
       "      <td>0.0</td>\n",
       "      <td>0.0</td>\n",
       "      <td>0.0</td>\n",
       "      <td>0.0</td>\n",
       "      <td>0.0</td>\n",
       "      <td>0.0</td>\n",
       "      <td>0.0</td>\n",
       "      <td>0.0</td>\n",
       "      <td>1.0</td>\n",
       "    </tr>\n",
       "  </tbody>\n",
       "</table>\n",
       "<p>5 rows × 100 columns</p>\n",
       "</div>\n",
       "      <button class=\"colab-df-convert\" onclick=\"convertToInteractive('df-747c515f-9a6e-4dc3-8db0-ec609753ce9c')\"\n",
       "              title=\"Convert this dataframe to an interactive table.\"\n",
       "              style=\"display:none;\">\n",
       "        \n",
       "  <svg xmlns=\"http://www.w3.org/2000/svg\" height=\"24px\"viewBox=\"0 0 24 24\"\n",
       "       width=\"24px\">\n",
       "    <path d=\"M0 0h24v24H0V0z\" fill=\"none\"/>\n",
       "    <path d=\"M18.56 5.44l.94 2.06.94-2.06 2.06-.94-2.06-.94-.94-2.06-.94 2.06-2.06.94zm-11 1L8.5 8.5l.94-2.06 2.06-.94-2.06-.94L8.5 2.5l-.94 2.06-2.06.94zm10 10l.94 2.06.94-2.06 2.06-.94-2.06-.94-.94-2.06-.94 2.06-2.06.94z\"/><path d=\"M17.41 7.96l-1.37-1.37c-.4-.4-.92-.59-1.43-.59-.52 0-1.04.2-1.43.59L10.3 9.45l-7.72 7.72c-.78.78-.78 2.05 0 2.83L4 21.41c.39.39.9.59 1.41.59.51 0 1.02-.2 1.41-.59l7.78-7.78 2.81-2.81c.8-.78.8-2.07 0-2.86zM5.41 20L4 18.59l7.72-7.72 1.47 1.35L5.41 20z\"/>\n",
       "  </svg>\n",
       "      </button>\n",
       "      \n",
       "  <style>\n",
       "    .colab-df-container {\n",
       "      display:flex;\n",
       "      flex-wrap:wrap;\n",
       "      gap: 12px;\n",
       "    }\n",
       "\n",
       "    .colab-df-convert {\n",
       "      background-color: #E8F0FE;\n",
       "      border: none;\n",
       "      border-radius: 50%;\n",
       "      cursor: pointer;\n",
       "      display: none;\n",
       "      fill: #1967D2;\n",
       "      height: 32px;\n",
       "      padding: 0 0 0 0;\n",
       "      width: 32px;\n",
       "    }\n",
       "\n",
       "    .colab-df-convert:hover {\n",
       "      background-color: #E2EBFA;\n",
       "      box-shadow: 0px 1px 2px rgba(60, 64, 67, 0.3), 0px 1px 3px 1px rgba(60, 64, 67, 0.15);\n",
       "      fill: #174EA6;\n",
       "    }\n",
       "\n",
       "    [theme=dark] .colab-df-convert {\n",
       "      background-color: #3B4455;\n",
       "      fill: #D2E3FC;\n",
       "    }\n",
       "\n",
       "    [theme=dark] .colab-df-convert:hover {\n",
       "      background-color: #434B5C;\n",
       "      box-shadow: 0px 1px 3px 1px rgba(0, 0, 0, 0.15);\n",
       "      filter: drop-shadow(0px 1px 2px rgba(0, 0, 0, 0.3));\n",
       "      fill: #FFFFFF;\n",
       "    }\n",
       "  </style>\n",
       "\n",
       "      <script>\n",
       "        const buttonEl =\n",
       "          document.querySelector('#df-747c515f-9a6e-4dc3-8db0-ec609753ce9c button.colab-df-convert');\n",
       "        buttonEl.style.display =\n",
       "          google.colab.kernel.accessAllowed ? 'block' : 'none';\n",
       "\n",
       "        async function convertToInteractive(key) {\n",
       "          const element = document.querySelector('#df-747c515f-9a6e-4dc3-8db0-ec609753ce9c');\n",
       "          const dataTable =\n",
       "            await google.colab.kernel.invokeFunction('convertToInteractive',\n",
       "                                                     [key], {});\n",
       "          if (!dataTable) return;\n",
       "\n",
       "          const docLinkHtml = 'Like what you see? Visit the ' +\n",
       "            '<a target=\"_blank\" href=https://colab.research.google.com/notebooks/data_table.ipynb>data table notebook</a>'\n",
       "            + ' to learn more about interactive tables.';\n",
       "          element.innerHTML = '';\n",
       "          dataTable['output_type'] = 'display_data';\n",
       "          await google.colab.output.renderOutput(dataTable, element);\n",
       "          const docLink = document.createElement('div');\n",
       "          docLink.innerHTML = docLinkHtml;\n",
       "          element.appendChild(docLink);\n",
       "        }\n",
       "      </script>\n",
       "    </div>\n",
       "  </div>\n",
       "  "
      ],
      "text/plain": [
       "product_name  100% Raw Coconut Water  100% Whole Wheat Bread  \\\n",
       "order_id                                                       \n",
       "2                                0.0                     0.0   \n",
       "3                                0.0                     0.0   \n",
       "5                                0.0                     0.0   \n",
       "9                                0.0                     0.0   \n",
       "10                               0.0                     0.0   \n",
       "\n",
       "product_name  2% Reduced Fat Milk  Apple Honeycrisp Organic  Asparagus  \\\n",
       "order_id                                                                 \n",
       "2                             0.0                       0.0        0.0   \n",
       "3                             0.0                       0.0        0.0   \n",
       "5                             1.0                       0.0        0.0   \n",
       "9                             0.0                       0.0        0.0   \n",
       "10                            0.0                       0.0        0.0   \n",
       "\n",
       "product_name  Bag of Organic Bananas  Banana  Bartlett Pears  Blueberries  \\\n",
       "order_id                                                                    \n",
       "2                                0.0     0.0             0.0          0.0   \n",
       "3                                0.0     0.0             0.0          0.0   \n",
       "5                                1.0     0.0             0.0          0.0   \n",
       "9                                0.0     0.0             0.0          0.0   \n",
       "10                               0.0     1.0             0.0          0.0   \n",
       "\n",
       "product_name  Boneless Skinless Chicken Breasts  ...  \\\n",
       "order_id                                         ...   \n",
       "2                                           0.0  ...   \n",
       "3                                           0.0  ...   \n",
       "5                                           0.0  ...   \n",
       "9                                           0.0  ...   \n",
       "10                                          0.0  ...   \n",
       "\n",
       "product_name  Sparkling Natural Mineral Water  Sparkling Water Grapefruit  \\\n",
       "order_id                                                                    \n",
       "2                                         0.0                         0.0   \n",
       "3                                         0.0                         0.0   \n",
       "5                                         0.0                         0.0   \n",
       "9                                         0.0                         0.0   \n",
       "10                                        0.0                         0.0   \n",
       "\n",
       "product_name  Spring Water  Strawberries  Uncured Genoa Salami  \\\n",
       "order_id                                                         \n",
       "2                      0.0           0.0                   0.0   \n",
       "3                      0.0           0.0                   0.0   \n",
       "5                      0.0           0.0                   0.0   \n",
       "9                      0.0           0.0                   0.0   \n",
       "10                     0.0           0.0                   0.0   \n",
       "\n",
       "product_name  Unsalted Butter  Unsweetened Almondmilk  \\\n",
       "order_id                                                \n",
       "2                         0.0                     0.0   \n",
       "3                         0.0                     1.0   \n",
       "5                         0.0                     0.0   \n",
       "9                         0.0                     0.0   \n",
       "10                        0.0                     0.0   \n",
       "\n",
       "product_name  Unsweetened Original Almond Breeze Almond Milk  Whole Milk  \\\n",
       "order_id                                                                   \n",
       "2                                                        0.0         0.0   \n",
       "3                                                        0.0         0.0   \n",
       "5                                                        0.0         0.0   \n",
       "9                                                        0.0         0.0   \n",
       "10                                                       0.0         0.0   \n",
       "\n",
       "product_name  Yellow Onions  \n",
       "order_id                     \n",
       "2                       0.0  \n",
       "3                       0.0  \n",
       "5                       0.0  \n",
       "9                       0.0  \n",
       "10                      1.0  \n",
       "\n",
       "[5 rows x 100 columns]"
      ]
     },
     "execution_count": 72,
     "metadata": {},
     "output_type": "execute_result"
    }
   ],
   "source": [
    "basket.head()"
   ]
  },
  {
   "cell_type": "code",
   "execution_count": 73,
   "metadata": {
    "colab": {
     "base_uri": "https://localhost:8080/",
     "height": 396
    },
    "id": "LFwpEKM9q5tw",
    "outputId": "162ae087-f3ca-472c-be05-535d6e916ae1"
   },
   "outputs": [
    {
     "data": {
      "text/html": [
       "\n",
       "  <div id=\"df-77d53fc0-90bf-44bc-b4cd-a4279031791f\">\n",
       "    <div class=\"colab-df-container\">\n",
       "      <div>\n",
       "<style scoped>\n",
       "    .dataframe tbody tr th:only-of-type {\n",
       "        vertical-align: middle;\n",
       "    }\n",
       "\n",
       "    .dataframe tbody tr th {\n",
       "        vertical-align: top;\n",
       "    }\n",
       "\n",
       "    .dataframe thead th {\n",
       "        text-align: right;\n",
       "    }\n",
       "</style>\n",
       "<table border=\"1\" class=\"dataframe\">\n",
       "  <thead>\n",
       "    <tr style=\"text-align: right;\">\n",
       "      <th>product_name</th>\n",
       "      <th>100% Raw Coconut Water</th>\n",
       "      <th>100% Whole Wheat Bread</th>\n",
       "      <th>2% Reduced Fat Milk</th>\n",
       "      <th>Apple Honeycrisp Organic</th>\n",
       "      <th>Asparagus</th>\n",
       "      <th>Bag of Organic Bananas</th>\n",
       "      <th>Banana</th>\n",
       "      <th>Bartlett Pears</th>\n",
       "      <th>Blueberries</th>\n",
       "      <th>Boneless Skinless Chicken Breasts</th>\n",
       "      <th>...</th>\n",
       "      <th>Sparkling Natural Mineral Water</th>\n",
       "      <th>Sparkling Water Grapefruit</th>\n",
       "      <th>Spring Water</th>\n",
       "      <th>Strawberries</th>\n",
       "      <th>Uncured Genoa Salami</th>\n",
       "      <th>Unsalted Butter</th>\n",
       "      <th>Unsweetened Almondmilk</th>\n",
       "      <th>Unsweetened Original Almond Breeze Almond Milk</th>\n",
       "      <th>Whole Milk</th>\n",
       "      <th>Yellow Onions</th>\n",
       "    </tr>\n",
       "    <tr>\n",
       "      <th>order_id</th>\n",
       "      <th></th>\n",
       "      <th></th>\n",
       "      <th></th>\n",
       "      <th></th>\n",
       "      <th></th>\n",
       "      <th></th>\n",
       "      <th></th>\n",
       "      <th></th>\n",
       "      <th></th>\n",
       "      <th></th>\n",
       "      <th></th>\n",
       "      <th></th>\n",
       "      <th></th>\n",
       "      <th></th>\n",
       "      <th></th>\n",
       "      <th></th>\n",
       "      <th></th>\n",
       "      <th></th>\n",
       "      <th></th>\n",
       "      <th></th>\n",
       "      <th></th>\n",
       "    </tr>\n",
       "  </thead>\n",
       "  <tbody>\n",
       "    <tr>\n",
       "      <th>2</th>\n",
       "      <td>0</td>\n",
       "      <td>0</td>\n",
       "      <td>0</td>\n",
       "      <td>0</td>\n",
       "      <td>0</td>\n",
       "      <td>0</td>\n",
       "      <td>0</td>\n",
       "      <td>0</td>\n",
       "      <td>0</td>\n",
       "      <td>0</td>\n",
       "      <td>...</td>\n",
       "      <td>0</td>\n",
       "      <td>0</td>\n",
       "      <td>0</td>\n",
       "      <td>0</td>\n",
       "      <td>0</td>\n",
       "      <td>0</td>\n",
       "      <td>0</td>\n",
       "      <td>0</td>\n",
       "      <td>0</td>\n",
       "      <td>0</td>\n",
       "    </tr>\n",
       "    <tr>\n",
       "      <th>3</th>\n",
       "      <td>0</td>\n",
       "      <td>0</td>\n",
       "      <td>0</td>\n",
       "      <td>0</td>\n",
       "      <td>0</td>\n",
       "      <td>0</td>\n",
       "      <td>0</td>\n",
       "      <td>0</td>\n",
       "      <td>0</td>\n",
       "      <td>0</td>\n",
       "      <td>...</td>\n",
       "      <td>0</td>\n",
       "      <td>0</td>\n",
       "      <td>0</td>\n",
       "      <td>0</td>\n",
       "      <td>0</td>\n",
       "      <td>0</td>\n",
       "      <td>1</td>\n",
       "      <td>0</td>\n",
       "      <td>0</td>\n",
       "      <td>0</td>\n",
       "    </tr>\n",
       "    <tr>\n",
       "      <th>5</th>\n",
       "      <td>0</td>\n",
       "      <td>0</td>\n",
       "      <td>1</td>\n",
       "      <td>0</td>\n",
       "      <td>0</td>\n",
       "      <td>1</td>\n",
       "      <td>0</td>\n",
       "      <td>0</td>\n",
       "      <td>0</td>\n",
       "      <td>0</td>\n",
       "      <td>...</td>\n",
       "      <td>0</td>\n",
       "      <td>0</td>\n",
       "      <td>0</td>\n",
       "      <td>0</td>\n",
       "      <td>0</td>\n",
       "      <td>0</td>\n",
       "      <td>0</td>\n",
       "      <td>0</td>\n",
       "      <td>0</td>\n",
       "      <td>0</td>\n",
       "    </tr>\n",
       "    <tr>\n",
       "      <th>9</th>\n",
       "      <td>0</td>\n",
       "      <td>0</td>\n",
       "      <td>0</td>\n",
       "      <td>0</td>\n",
       "      <td>0</td>\n",
       "      <td>0</td>\n",
       "      <td>0</td>\n",
       "      <td>0</td>\n",
       "      <td>0</td>\n",
       "      <td>0</td>\n",
       "      <td>...</td>\n",
       "      <td>0</td>\n",
       "      <td>0</td>\n",
       "      <td>0</td>\n",
       "      <td>0</td>\n",
       "      <td>0</td>\n",
       "      <td>0</td>\n",
       "      <td>0</td>\n",
       "      <td>0</td>\n",
       "      <td>0</td>\n",
       "      <td>0</td>\n",
       "    </tr>\n",
       "    <tr>\n",
       "      <th>10</th>\n",
       "      <td>0</td>\n",
       "      <td>0</td>\n",
       "      <td>0</td>\n",
       "      <td>0</td>\n",
       "      <td>0</td>\n",
       "      <td>0</td>\n",
       "      <td>1</td>\n",
       "      <td>0</td>\n",
       "      <td>0</td>\n",
       "      <td>0</td>\n",
       "      <td>...</td>\n",
       "      <td>0</td>\n",
       "      <td>0</td>\n",
       "      <td>0</td>\n",
       "      <td>0</td>\n",
       "      <td>0</td>\n",
       "      <td>0</td>\n",
       "      <td>0</td>\n",
       "      <td>0</td>\n",
       "      <td>0</td>\n",
       "      <td>1</td>\n",
       "    </tr>\n",
       "  </tbody>\n",
       "</table>\n",
       "<p>5 rows × 100 columns</p>\n",
       "</div>\n",
       "      <button class=\"colab-df-convert\" onclick=\"convertToInteractive('df-77d53fc0-90bf-44bc-b4cd-a4279031791f')\"\n",
       "              title=\"Convert this dataframe to an interactive table.\"\n",
       "              style=\"display:none;\">\n",
       "        \n",
       "  <svg xmlns=\"http://www.w3.org/2000/svg\" height=\"24px\"viewBox=\"0 0 24 24\"\n",
       "       width=\"24px\">\n",
       "    <path d=\"M0 0h24v24H0V0z\" fill=\"none\"/>\n",
       "    <path d=\"M18.56 5.44l.94 2.06.94-2.06 2.06-.94-2.06-.94-.94-2.06-.94 2.06-2.06.94zm-11 1L8.5 8.5l.94-2.06 2.06-.94-2.06-.94L8.5 2.5l-.94 2.06-2.06.94zm10 10l.94 2.06.94-2.06 2.06-.94-2.06-.94-.94-2.06-.94 2.06-2.06.94z\"/><path d=\"M17.41 7.96l-1.37-1.37c-.4-.4-.92-.59-1.43-.59-.52 0-1.04.2-1.43.59L10.3 9.45l-7.72 7.72c-.78.78-.78 2.05 0 2.83L4 21.41c.39.39.9.59 1.41.59.51 0 1.02-.2 1.41-.59l7.78-7.78 2.81-2.81c.8-.78.8-2.07 0-2.86zM5.41 20L4 18.59l7.72-7.72 1.47 1.35L5.41 20z\"/>\n",
       "  </svg>\n",
       "      </button>\n",
       "      \n",
       "  <style>\n",
       "    .colab-df-container {\n",
       "      display:flex;\n",
       "      flex-wrap:wrap;\n",
       "      gap: 12px;\n",
       "    }\n",
       "\n",
       "    .colab-df-convert {\n",
       "      background-color: #E8F0FE;\n",
       "      border: none;\n",
       "      border-radius: 50%;\n",
       "      cursor: pointer;\n",
       "      display: none;\n",
       "      fill: #1967D2;\n",
       "      height: 32px;\n",
       "      padding: 0 0 0 0;\n",
       "      width: 32px;\n",
       "    }\n",
       "\n",
       "    .colab-df-convert:hover {\n",
       "      background-color: #E2EBFA;\n",
       "      box-shadow: 0px 1px 2px rgba(60, 64, 67, 0.3), 0px 1px 3px 1px rgba(60, 64, 67, 0.15);\n",
       "      fill: #174EA6;\n",
       "    }\n",
       "\n",
       "    [theme=dark] .colab-df-convert {\n",
       "      background-color: #3B4455;\n",
       "      fill: #D2E3FC;\n",
       "    }\n",
       "\n",
       "    [theme=dark] .colab-df-convert:hover {\n",
       "      background-color: #434B5C;\n",
       "      box-shadow: 0px 1px 3px 1px rgba(0, 0, 0, 0.15);\n",
       "      filter: drop-shadow(0px 1px 2px rgba(0, 0, 0, 0.3));\n",
       "      fill: #FFFFFF;\n",
       "    }\n",
       "  </style>\n",
       "\n",
       "      <script>\n",
       "        const buttonEl =\n",
       "          document.querySelector('#df-77d53fc0-90bf-44bc-b4cd-a4279031791f button.colab-df-convert');\n",
       "        buttonEl.style.display =\n",
       "          google.colab.kernel.accessAllowed ? 'block' : 'none';\n",
       "\n",
       "        async function convertToInteractive(key) {\n",
       "          const element = document.querySelector('#df-77d53fc0-90bf-44bc-b4cd-a4279031791f');\n",
       "          const dataTable =\n",
       "            await google.colab.kernel.invokeFunction('convertToInteractive',\n",
       "                                                     [key], {});\n",
       "          if (!dataTable) return;\n",
       "\n",
       "          const docLinkHtml = 'Like what you see? Visit the ' +\n",
       "            '<a target=\"_blank\" href=https://colab.research.google.com/notebooks/data_table.ipynb>data table notebook</a>'\n",
       "            + ' to learn more about interactive tables.';\n",
       "          element.innerHTML = '';\n",
       "          dataTable['output_type'] = 'display_data';\n",
       "          await google.colab.output.renderOutput(dataTable, element);\n",
       "          const docLink = document.createElement('div');\n",
       "          docLink.innerHTML = docLinkHtml;\n",
       "          element.appendChild(docLink);\n",
       "        }\n",
       "      </script>\n",
       "    </div>\n",
       "  </div>\n",
       "  "
      ],
      "text/plain": [
       "product_name  100% Raw Coconut Water  100% Whole Wheat Bread  \\\n",
       "order_id                                                       \n",
       "2                                  0                       0   \n",
       "3                                  0                       0   \n",
       "5                                  0                       0   \n",
       "9                                  0                       0   \n",
       "10                                 0                       0   \n",
       "\n",
       "product_name  2% Reduced Fat Milk  Apple Honeycrisp Organic  Asparagus  \\\n",
       "order_id                                                                 \n",
       "2                               0                         0          0   \n",
       "3                               0                         0          0   \n",
       "5                               1                         0          0   \n",
       "9                               0                         0          0   \n",
       "10                              0                         0          0   \n",
       "\n",
       "product_name  Bag of Organic Bananas  Banana  Bartlett Pears  Blueberries  \\\n",
       "order_id                                                                    \n",
       "2                                  0       0               0            0   \n",
       "3                                  0       0               0            0   \n",
       "5                                  1       0               0            0   \n",
       "9                                  0       0               0            0   \n",
       "10                                 0       1               0            0   \n",
       "\n",
       "product_name  Boneless Skinless Chicken Breasts  ...  \\\n",
       "order_id                                         ...   \n",
       "2                                             0  ...   \n",
       "3                                             0  ...   \n",
       "5                                             0  ...   \n",
       "9                                             0  ...   \n",
       "10                                            0  ...   \n",
       "\n",
       "product_name  Sparkling Natural Mineral Water  Sparkling Water Grapefruit  \\\n",
       "order_id                                                                    \n",
       "2                                           0                           0   \n",
       "3                                           0                           0   \n",
       "5                                           0                           0   \n",
       "9                                           0                           0   \n",
       "10                                          0                           0   \n",
       "\n",
       "product_name  Spring Water  Strawberries  Uncured Genoa Salami  \\\n",
       "order_id                                                         \n",
       "2                        0             0                     0   \n",
       "3                        0             0                     0   \n",
       "5                        0             0                     0   \n",
       "9                        0             0                     0   \n",
       "10                       0             0                     0   \n",
       "\n",
       "product_name  Unsalted Butter  Unsweetened Almondmilk  \\\n",
       "order_id                                                \n",
       "2                           0                       0   \n",
       "3                           0                       1   \n",
       "5                           0                       0   \n",
       "9                           0                       0   \n",
       "10                          0                       0   \n",
       "\n",
       "product_name  Unsweetened Original Almond Breeze Almond Milk  Whole Milk  \\\n",
       "order_id                                                                   \n",
       "2                                                          0           0   \n",
       "3                                                          0           0   \n",
       "5                                                          0           0   \n",
       "9                                                          0           0   \n",
       "10                                                         0           0   \n",
       "\n",
       "product_name  Yellow Onions  \n",
       "order_id                     \n",
       "2                         0  \n",
       "3                         0  \n",
       "5                         0  \n",
       "9                         0  \n",
       "10                        1  \n",
       "\n",
       "[5 rows x 100 columns]"
      ]
     },
     "execution_count": 73,
     "metadata": {},
     "output_type": "execute_result"
    }
   ],
   "source": [
    "# Creating encoder \n",
    "\n",
    "def encode_units(x):\n",
    "    if x <= 0:\n",
    "        return 0\n",
    "    if x >= 1:\n",
    "        return 1\n",
    "    \n",
    "basket = basket.applymap(encode_units)\n",
    "basket.head()"
   ]
  },
  {
   "cell_type": "markdown",
   "metadata": {
    "id": "2Pebf9y7q5tw"
   },
   "source": [
    "### Step 3: Apply Apriori Algorithm"
   ]
  },
  {
   "cell_type": "code",
   "execution_count": 74,
   "metadata": {
    "id": "XuMysJ0Vq5tw"
   },
   "outputs": [],
   "source": [
    "# Only looking at first 100K due to memory constraints\n",
    "\n",
    "basket_subset = basket[:100000]"
   ]
  },
  {
   "cell_type": "code",
   "execution_count": 78,
   "metadata": {
    "colab": {
     "base_uri": "https://localhost:8080/",
     "height": 204
    },
    "id": "2Oe0iH_hq5tw",
    "outputId": "98cb5032-ddd0-4069-8b7d-f16145b9f459"
   },
   "outputs": [
    {
     "data": {
      "text/html": [
       "\n",
       "  <div id=\"df-77a2a1ff-e087-4494-a6c6-b8b2a5e46719\">\n",
       "    <div class=\"colab-df-container\">\n",
       "      <div>\n",
       "<style scoped>\n",
       "    .dataframe tbody tr th:only-of-type {\n",
       "        vertical-align: middle;\n",
       "    }\n",
       "\n",
       "    .dataframe tbody tr th {\n",
       "        vertical-align: top;\n",
       "    }\n",
       "\n",
       "    .dataframe thead th {\n",
       "        text-align: right;\n",
       "    }\n",
       "</style>\n",
       "<table border=\"1\" class=\"dataframe\">\n",
       "  <thead>\n",
       "    <tr style=\"text-align: right;\">\n",
       "      <th></th>\n",
       "      <th>support</th>\n",
       "      <th>itemsets</th>\n",
       "    </tr>\n",
       "  </thead>\n",
       "  <tbody>\n",
       "    <tr>\n",
       "      <th>0</th>\n",
       "      <td>0.012287</td>\n",
       "      <td>(100% Raw Coconut Water)</td>\n",
       "    </tr>\n",
       "    <tr>\n",
       "      <th>1</th>\n",
       "      <td>0.019444</td>\n",
       "      <td>(100% Whole Wheat Bread)</td>\n",
       "    </tr>\n",
       "    <tr>\n",
       "      <th>2</th>\n",
       "      <td>0.012427</td>\n",
       "      <td>(2% Reduced Fat Milk)</td>\n",
       "    </tr>\n",
       "    <tr>\n",
       "      <th>3</th>\n",
       "      <td>0.028485</td>\n",
       "      <td>(Apple Honeycrisp Organic)</td>\n",
       "    </tr>\n",
       "    <tr>\n",
       "      <th>4</th>\n",
       "      <td>0.016686</td>\n",
       "      <td>(Asparagus)</td>\n",
       "    </tr>\n",
       "  </tbody>\n",
       "</table>\n",
       "</div>\n",
       "      <button class=\"colab-df-convert\" onclick=\"convertToInteractive('df-77a2a1ff-e087-4494-a6c6-b8b2a5e46719')\"\n",
       "              title=\"Convert this dataframe to an interactive table.\"\n",
       "              style=\"display:none;\">\n",
       "        \n",
       "  <svg xmlns=\"http://www.w3.org/2000/svg\" height=\"24px\"viewBox=\"0 0 24 24\"\n",
       "       width=\"24px\">\n",
       "    <path d=\"M0 0h24v24H0V0z\" fill=\"none\"/>\n",
       "    <path d=\"M18.56 5.44l.94 2.06.94-2.06 2.06-.94-2.06-.94-.94-2.06-.94 2.06-2.06.94zm-11 1L8.5 8.5l.94-2.06 2.06-.94-2.06-.94L8.5 2.5l-.94 2.06-2.06.94zm10 10l.94 2.06.94-2.06 2.06-.94-2.06-.94-.94-2.06-.94 2.06-2.06.94z\"/><path d=\"M17.41 7.96l-1.37-1.37c-.4-.4-.92-.59-1.43-.59-.52 0-1.04.2-1.43.59L10.3 9.45l-7.72 7.72c-.78.78-.78 2.05 0 2.83L4 21.41c.39.39.9.59 1.41.59.51 0 1.02-.2 1.41-.59l7.78-7.78 2.81-2.81c.8-.78.8-2.07 0-2.86zM5.41 20L4 18.59l7.72-7.72 1.47 1.35L5.41 20z\"/>\n",
       "  </svg>\n",
       "      </button>\n",
       "      \n",
       "  <style>\n",
       "    .colab-df-container {\n",
       "      display:flex;\n",
       "      flex-wrap:wrap;\n",
       "      gap: 12px;\n",
       "    }\n",
       "\n",
       "    .colab-df-convert {\n",
       "      background-color: #E8F0FE;\n",
       "      border: none;\n",
       "      border-radius: 50%;\n",
       "      cursor: pointer;\n",
       "      display: none;\n",
       "      fill: #1967D2;\n",
       "      height: 32px;\n",
       "      padding: 0 0 0 0;\n",
       "      width: 32px;\n",
       "    }\n",
       "\n",
       "    .colab-df-convert:hover {\n",
       "      background-color: #E2EBFA;\n",
       "      box-shadow: 0px 1px 2px rgba(60, 64, 67, 0.3), 0px 1px 3px 1px rgba(60, 64, 67, 0.15);\n",
       "      fill: #174EA6;\n",
       "    }\n",
       "\n",
       "    [theme=dark] .colab-df-convert {\n",
       "      background-color: #3B4455;\n",
       "      fill: #D2E3FC;\n",
       "    }\n",
       "\n",
       "    [theme=dark] .colab-df-convert:hover {\n",
       "      background-color: #434B5C;\n",
       "      box-shadow: 0px 1px 3px 1px rgba(0, 0, 0, 0.15);\n",
       "      filter: drop-shadow(0px 1px 2px rgba(0, 0, 0, 0.3));\n",
       "      fill: #FFFFFF;\n",
       "    }\n",
       "  </style>\n",
       "\n",
       "      <script>\n",
       "        const buttonEl =\n",
       "          document.querySelector('#df-77a2a1ff-e087-4494-a6c6-b8b2a5e46719 button.colab-df-convert');\n",
       "        buttonEl.style.display =\n",
       "          google.colab.kernel.accessAllowed ? 'block' : 'none';\n",
       "\n",
       "        async function convertToInteractive(key) {\n",
       "          const element = document.querySelector('#df-77a2a1ff-e087-4494-a6c6-b8b2a5e46719');\n",
       "          const dataTable =\n",
       "            await google.colab.kernel.invokeFunction('convertToInteractive',\n",
       "                                                     [key], {});\n",
       "          if (!dataTable) return;\n",
       "\n",
       "          const docLinkHtml = 'Like what you see? Visit the ' +\n",
       "            '<a target=\"_blank\" href=https://colab.research.google.com/notebooks/data_table.ipynb>data table notebook</a>'\n",
       "            + ' to learn more about interactive tables.';\n",
       "          element.innerHTML = '';\n",
       "          dataTable['output_type'] = 'display_data';\n",
       "          await google.colab.output.renderOutput(dataTable, element);\n",
       "          const docLink = document.createElement('div');\n",
       "          docLink.innerHTML = docLinkHtml;\n",
       "          element.appendChild(docLink);\n",
       "        }\n",
       "      </script>\n",
       "    </div>\n",
       "  </div>\n",
       "  "
      ],
      "text/plain": [
       "    support                    itemsets\n",
       "0  0.012287    (100% Raw Coconut Water)\n",
       "1  0.019444    (100% Whole Wheat Bread)\n",
       "2  0.012427       (2% Reduced Fat Milk)\n",
       "3  0.028485  (Apple Honeycrisp Organic)\n",
       "4  0.016686                 (Asparagus)"
      ]
     },
     "execution_count": 78,
     "metadata": {},
     "output_type": "execute_result"
    }
   ],
   "source": [
    "# Frequency with support \n",
    "\n",
    "frequent_items = apriori(basket_subset, min_support=0.01, use_colnames=True)\n",
    "\n",
    "frequent_items.head()"
   ]
  },
  {
   "cell_type": "code",
   "execution_count": 79,
   "metadata": {
    "colab": {
     "base_uri": "https://localhost:8080/",
     "height": 979
    },
    "id": "84aszPrXq5tw",
    "outputId": "d8853586-a839-4d94-e99b-c2f5a7fde2a2"
   },
   "outputs": [
    {
     "data": {
      "text/html": [
       "\n",
       "  <div id=\"df-64cbd032-87ab-474c-a494-df53923d1eae\">\n",
       "    <div class=\"colab-df-container\">\n",
       "      <div>\n",
       "<style scoped>\n",
       "    .dataframe tbody tr th:only-of-type {\n",
       "        vertical-align: middle;\n",
       "    }\n",
       "\n",
       "    .dataframe tbody tr th {\n",
       "        vertical-align: top;\n",
       "    }\n",
       "\n",
       "    .dataframe thead th {\n",
       "        text-align: right;\n",
       "    }\n",
       "</style>\n",
       "<table border=\"1\" class=\"dataframe\">\n",
       "  <thead>\n",
       "    <tr style=\"text-align: right;\">\n",
       "      <th></th>\n",
       "      <th>antecedents</th>\n",
       "      <th>consequents</th>\n",
       "      <th>antecedent support</th>\n",
       "      <th>consequent support</th>\n",
       "      <th>support</th>\n",
       "      <th>confidence</th>\n",
       "      <th>lift</th>\n",
       "      <th>leverage</th>\n",
       "      <th>conviction</th>\n",
       "    </tr>\n",
       "  </thead>\n",
       "  <tbody>\n",
       "    <tr>\n",
       "      <th>29</th>\n",
       "      <td>(Organic Raspberries)</td>\n",
       "      <td>(Organic Strawberries)</td>\n",
       "      <td>0.046288</td>\n",
       "      <td>0.085663</td>\n",
       "      <td>0.010542</td>\n",
       "      <td>0.227753</td>\n",
       "      <td>2.658692</td>\n",
       "      <td>0.006577</td>\n",
       "      <td>1.183994</td>\n",
       "    </tr>\n",
       "    <tr>\n",
       "      <th>28</th>\n",
       "      <td>(Organic Strawberries)</td>\n",
       "      <td>(Organic Raspberries)</td>\n",
       "      <td>0.085663</td>\n",
       "      <td>0.046288</td>\n",
       "      <td>0.010542</td>\n",
       "      <td>0.123064</td>\n",
       "      <td>2.658692</td>\n",
       "      <td>0.006577</td>\n",
       "      <td>1.087551</td>\n",
       "    </tr>\n",
       "    <tr>\n",
       "      <th>5</th>\n",
       "      <td>(Organic Raspberries)</td>\n",
       "      <td>(Bag of Organic Bananas)</td>\n",
       "      <td>0.046288</td>\n",
       "      <td>0.137048</td>\n",
       "      <td>0.014522</td>\n",
       "      <td>0.313725</td>\n",
       "      <td>2.289173</td>\n",
       "      <td>0.008178</td>\n",
       "      <td>1.257445</td>\n",
       "    </tr>\n",
       "    <tr>\n",
       "      <th>4</th>\n",
       "      <td>(Bag of Organic Bananas)</td>\n",
       "      <td>(Organic Raspberries)</td>\n",
       "      <td>0.137048</td>\n",
       "      <td>0.046288</td>\n",
       "      <td>0.014522</td>\n",
       "      <td>0.105960</td>\n",
       "      <td>2.289173</td>\n",
       "      <td>0.008178</td>\n",
       "      <td>1.066745</td>\n",
       "    </tr>\n",
       "    <tr>\n",
       "      <th>14</th>\n",
       "      <td>(Banana)</td>\n",
       "      <td>(Organic Fuji Apple)</td>\n",
       "      <td>0.172339</td>\n",
       "      <td>0.027856</td>\n",
       "      <td>0.010402</td>\n",
       "      <td>0.060361</td>\n",
       "      <td>2.166853</td>\n",
       "      <td>0.005602</td>\n",
       "      <td>1.034592</td>\n",
       "    </tr>\n",
       "    <tr>\n",
       "      <th>15</th>\n",
       "      <td>(Organic Fuji Apple)</td>\n",
       "      <td>(Banana)</td>\n",
       "      <td>0.027856</td>\n",
       "      <td>0.172339</td>\n",
       "      <td>0.010402</td>\n",
       "      <td>0.373434</td>\n",
       "      <td>2.166853</td>\n",
       "      <td>0.005602</td>\n",
       "      <td>1.320947</td>\n",
       "    </tr>\n",
       "    <tr>\n",
       "      <th>2</th>\n",
       "      <td>(Bag of Organic Bananas)</td>\n",
       "      <td>(Organic Hass Avocado)</td>\n",
       "      <td>0.137048</td>\n",
       "      <td>0.072503</td>\n",
       "      <td>0.021189</td>\n",
       "      <td>0.154610</td>\n",
       "      <td>2.132461</td>\n",
       "      <td>0.011253</td>\n",
       "      <td>1.097123</td>\n",
       "    </tr>\n",
       "    <tr>\n",
       "      <th>3</th>\n",
       "      <td>(Organic Hass Avocado)</td>\n",
       "      <td>(Bag of Organic Bananas)</td>\n",
       "      <td>0.072503</td>\n",
       "      <td>0.137048</td>\n",
       "      <td>0.021189</td>\n",
       "      <td>0.292248</td>\n",
       "      <td>2.132461</td>\n",
       "      <td>0.011253</td>\n",
       "      <td>1.219287</td>\n",
       "    </tr>\n",
       "    <tr>\n",
       "      <th>26</th>\n",
       "      <td>(Organic Strawberries)</td>\n",
       "      <td>(Organic Hass Avocado)</td>\n",
       "      <td>0.085663</td>\n",
       "      <td>0.072503</td>\n",
       "      <td>0.013160</td>\n",
       "      <td>0.153627</td>\n",
       "      <td>2.118895</td>\n",
       "      <td>0.006949</td>\n",
       "      <td>1.095848</td>\n",
       "    </tr>\n",
       "    <tr>\n",
       "      <th>27</th>\n",
       "      <td>(Organic Hass Avocado)</td>\n",
       "      <td>(Organic Strawberries)</td>\n",
       "      <td>0.072503</td>\n",
       "      <td>0.085663</td>\n",
       "      <td>0.013160</td>\n",
       "      <td>0.181512</td>\n",
       "      <td>2.118895</td>\n",
       "      <td>0.006949</td>\n",
       "      <td>1.117104</td>\n",
       "    </tr>\n",
       "    <tr>\n",
       "      <th>10</th>\n",
       "      <td>(Organic Avocado)</td>\n",
       "      <td>(Banana)</td>\n",
       "      <td>0.057737</td>\n",
       "      <td>0.172339</td>\n",
       "      <td>0.017559</td>\n",
       "      <td>0.304111</td>\n",
       "      <td>1.764609</td>\n",
       "      <td>0.007608</td>\n",
       "      <td>1.189358</td>\n",
       "    </tr>\n",
       "    <tr>\n",
       "      <th>11</th>\n",
       "      <td>(Banana)</td>\n",
       "      <td>(Organic Avocado)</td>\n",
       "      <td>0.172339</td>\n",
       "      <td>0.057737</td>\n",
       "      <td>0.017559</td>\n",
       "      <td>0.101884</td>\n",
       "      <td>1.764609</td>\n",
       "      <td>0.007608</td>\n",
       "      <td>1.049154</td>\n",
       "    </tr>\n",
       "    <tr>\n",
       "      <th>23</th>\n",
       "      <td>(Organic Hass Avocado)</td>\n",
       "      <td>(Organic Baby Spinach)</td>\n",
       "      <td>0.072503</td>\n",
       "      <td>0.080916</td>\n",
       "      <td>0.010193</td>\n",
       "      <td>0.140587</td>\n",
       "      <td>1.737449</td>\n",
       "      <td>0.004326</td>\n",
       "      <td>1.069433</td>\n",
       "    </tr>\n",
       "    <tr>\n",
       "      <th>22</th>\n",
       "      <td>(Organic Baby Spinach)</td>\n",
       "      <td>(Organic Hass Avocado)</td>\n",
       "      <td>0.080916</td>\n",
       "      <td>0.072503</td>\n",
       "      <td>0.010193</td>\n",
       "      <td>0.125971</td>\n",
       "      <td>1.737449</td>\n",
       "      <td>0.004326</td>\n",
       "      <td>1.061174</td>\n",
       "    </tr>\n",
       "    <tr>\n",
       "      <th>20</th>\n",
       "      <td>(Strawberries)</td>\n",
       "      <td>(Banana)</td>\n",
       "      <td>0.044123</td>\n",
       "      <td>0.172339</td>\n",
       "      <td>0.012881</td>\n",
       "      <td>0.291930</td>\n",
       "      <td>1.693929</td>\n",
       "      <td>0.005277</td>\n",
       "      <td>1.168898</td>\n",
       "    </tr>\n",
       "    <tr>\n",
       "      <th>21</th>\n",
       "      <td>(Banana)</td>\n",
       "      <td>(Strawberries)</td>\n",
       "      <td>0.172339</td>\n",
       "      <td>0.044123</td>\n",
       "      <td>0.012881</td>\n",
       "      <td>0.074742</td>\n",
       "      <td>1.693929</td>\n",
       "      <td>0.005277</td>\n",
       "      <td>1.033092</td>\n",
       "    </tr>\n",
       "    <tr>\n",
       "      <th>6</th>\n",
       "      <td>(Organic Strawberries)</td>\n",
       "      <td>(Bag of Organic Bananas)</td>\n",
       "      <td>0.085663</td>\n",
       "      <td>0.137048</td>\n",
       "      <td>0.019793</td>\n",
       "      <td>0.231051</td>\n",
       "      <td>1.685922</td>\n",
       "      <td>0.008053</td>\n",
       "      <td>1.122250</td>\n",
       "    </tr>\n",
       "    <tr>\n",
       "      <th>7</th>\n",
       "      <td>(Bag of Organic Bananas)</td>\n",
       "      <td>(Organic Strawberries)</td>\n",
       "      <td>0.137048</td>\n",
       "      <td>0.085663</td>\n",
       "      <td>0.019793</td>\n",
       "      <td>0.144422</td>\n",
       "      <td>1.685922</td>\n",
       "      <td>0.008053</td>\n",
       "      <td>1.068677</td>\n",
       "    </tr>\n",
       "    <tr>\n",
       "      <th>25</th>\n",
       "      <td>(Organic Baby Spinach)</td>\n",
       "      <td>(Organic Strawberries)</td>\n",
       "      <td>0.080916</td>\n",
       "      <td>0.085663</td>\n",
       "      <td>0.011310</td>\n",
       "      <td>0.139776</td>\n",
       "      <td>1.631684</td>\n",
       "      <td>0.004379</td>\n",
       "      <td>1.062905</td>\n",
       "    </tr>\n",
       "    <tr>\n",
       "      <th>24</th>\n",
       "      <td>(Organic Strawberries)</td>\n",
       "      <td>(Organic Baby Spinach)</td>\n",
       "      <td>0.085663</td>\n",
       "      <td>0.080916</td>\n",
       "      <td>0.011310</td>\n",
       "      <td>0.132029</td>\n",
       "      <td>1.631684</td>\n",
       "      <td>0.004379</td>\n",
       "      <td>1.058888</td>\n",
       "    </tr>\n",
       "    <tr>\n",
       "      <th>0</th>\n",
       "      <td>(Organic Baby Spinach)</td>\n",
       "      <td>(Bag of Organic Bananas)</td>\n",
       "      <td>0.080916</td>\n",
       "      <td>0.137048</td>\n",
       "      <td>0.016686</td>\n",
       "      <td>0.206212</td>\n",
       "      <td>1.504677</td>\n",
       "      <td>0.005597</td>\n",
       "      <td>1.087133</td>\n",
       "    </tr>\n",
       "    <tr>\n",
       "      <th>1</th>\n",
       "      <td>(Bag of Organic Bananas)</td>\n",
       "      <td>(Organic Baby Spinach)</td>\n",
       "      <td>0.137048</td>\n",
       "      <td>0.080916</td>\n",
       "      <td>0.016686</td>\n",
       "      <td>0.121752</td>\n",
       "      <td>1.504677</td>\n",
       "      <td>0.005597</td>\n",
       "      <td>1.046498</td>\n",
       "    </tr>\n",
       "    <tr>\n",
       "      <th>9</th>\n",
       "      <td>(Large Lemon)</td>\n",
       "      <td>(Banana)</td>\n",
       "      <td>0.043809</td>\n",
       "      <td>0.172339</td>\n",
       "      <td>0.011310</td>\n",
       "      <td>0.258167</td>\n",
       "      <td>1.498019</td>\n",
       "      <td>0.003760</td>\n",
       "      <td>1.115697</td>\n",
       "    </tr>\n",
       "    <tr>\n",
       "      <th>8</th>\n",
       "      <td>(Banana)</td>\n",
       "      <td>(Large Lemon)</td>\n",
       "      <td>0.172339</td>\n",
       "      <td>0.043809</td>\n",
       "      <td>0.011310</td>\n",
       "      <td>0.065627</td>\n",
       "      <td>1.498019</td>\n",
       "      <td>0.003760</td>\n",
       "      <td>1.023350</td>\n",
       "    </tr>\n",
       "    <tr>\n",
       "      <th>19</th>\n",
       "      <td>(Organic Whole Milk)</td>\n",
       "      <td>(Banana)</td>\n",
       "      <td>0.048207</td>\n",
       "      <td>0.172339</td>\n",
       "      <td>0.010682</td>\n",
       "      <td>0.221579</td>\n",
       "      <td>1.285712</td>\n",
       "      <td>0.002374</td>\n",
       "      <td>1.063255</td>\n",
       "    </tr>\n",
       "    <tr>\n",
       "      <th>18</th>\n",
       "      <td>(Banana)</td>\n",
       "      <td>(Organic Whole Milk)</td>\n",
       "      <td>0.172339</td>\n",
       "      <td>0.048207</td>\n",
       "      <td>0.010682</td>\n",
       "      <td>0.061981</td>\n",
       "      <td>1.285712</td>\n",
       "      <td>0.002374</td>\n",
       "      <td>1.014684</td>\n",
       "    </tr>\n",
       "    <tr>\n",
       "      <th>16</th>\n",
       "      <td>(Organic Strawberries)</td>\n",
       "      <td>(Banana)</td>\n",
       "      <td>0.085663</td>\n",
       "      <td>0.172339</td>\n",
       "      <td>0.018641</td>\n",
       "      <td>0.217604</td>\n",
       "      <td>1.262649</td>\n",
       "      <td>0.003878</td>\n",
       "      <td>1.057854</td>\n",
       "    </tr>\n",
       "    <tr>\n",
       "      <th>17</th>\n",
       "      <td>(Banana)</td>\n",
       "      <td>(Organic Strawberries)</td>\n",
       "      <td>0.172339</td>\n",
       "      <td>0.085663</td>\n",
       "      <td>0.018641</td>\n",
       "      <td>0.108163</td>\n",
       "      <td>1.262649</td>\n",
       "      <td>0.003878</td>\n",
       "      <td>1.025228</td>\n",
       "    </tr>\n",
       "    <tr>\n",
       "      <th>13</th>\n",
       "      <td>(Banana)</td>\n",
       "      <td>(Organic Baby Spinach)</td>\n",
       "      <td>0.172339</td>\n",
       "      <td>0.080916</td>\n",
       "      <td>0.017489</td>\n",
       "      <td>0.101479</td>\n",
       "      <td>1.254124</td>\n",
       "      <td>0.003544</td>\n",
       "      <td>1.022885</td>\n",
       "    </tr>\n",
       "    <tr>\n",
       "      <th>12</th>\n",
       "      <td>(Organic Baby Spinach)</td>\n",
       "      <td>(Banana)</td>\n",
       "      <td>0.080916</td>\n",
       "      <td>0.172339</td>\n",
       "      <td>0.017489</td>\n",
       "      <td>0.216135</td>\n",
       "      <td>1.254124</td>\n",
       "      <td>0.003544</td>\n",
       "      <td>1.055871</td>\n",
       "    </tr>\n",
       "  </tbody>\n",
       "</table>\n",
       "</div>\n",
       "      <button class=\"colab-df-convert\" onclick=\"convertToInteractive('df-64cbd032-87ab-474c-a494-df53923d1eae')\"\n",
       "              title=\"Convert this dataframe to an interactive table.\"\n",
       "              style=\"display:none;\">\n",
       "        \n",
       "  <svg xmlns=\"http://www.w3.org/2000/svg\" height=\"24px\"viewBox=\"0 0 24 24\"\n",
       "       width=\"24px\">\n",
       "    <path d=\"M0 0h24v24H0V0z\" fill=\"none\"/>\n",
       "    <path d=\"M18.56 5.44l.94 2.06.94-2.06 2.06-.94-2.06-.94-.94-2.06-.94 2.06-2.06.94zm-11 1L8.5 8.5l.94-2.06 2.06-.94-2.06-.94L8.5 2.5l-.94 2.06-2.06.94zm10 10l.94 2.06.94-2.06 2.06-.94-2.06-.94-.94-2.06-.94 2.06-2.06.94z\"/><path d=\"M17.41 7.96l-1.37-1.37c-.4-.4-.92-.59-1.43-.59-.52 0-1.04.2-1.43.59L10.3 9.45l-7.72 7.72c-.78.78-.78 2.05 0 2.83L4 21.41c.39.39.9.59 1.41.59.51 0 1.02-.2 1.41-.59l7.78-7.78 2.81-2.81c.8-.78.8-2.07 0-2.86zM5.41 20L4 18.59l7.72-7.72 1.47 1.35L5.41 20z\"/>\n",
       "  </svg>\n",
       "      </button>\n",
       "      \n",
       "  <style>\n",
       "    .colab-df-container {\n",
       "      display:flex;\n",
       "      flex-wrap:wrap;\n",
       "      gap: 12px;\n",
       "    }\n",
       "\n",
       "    .colab-df-convert {\n",
       "      background-color: #E8F0FE;\n",
       "      border: none;\n",
       "      border-radius: 50%;\n",
       "      cursor: pointer;\n",
       "      display: none;\n",
       "      fill: #1967D2;\n",
       "      height: 32px;\n",
       "      padding: 0 0 0 0;\n",
       "      width: 32px;\n",
       "    }\n",
       "\n",
       "    .colab-df-convert:hover {\n",
       "      background-color: #E2EBFA;\n",
       "      box-shadow: 0px 1px 2px rgba(60, 64, 67, 0.3), 0px 1px 3px 1px rgba(60, 64, 67, 0.15);\n",
       "      fill: #174EA6;\n",
       "    }\n",
       "\n",
       "    [theme=dark] .colab-df-convert {\n",
       "      background-color: #3B4455;\n",
       "      fill: #D2E3FC;\n",
       "    }\n",
       "\n",
       "    [theme=dark] .colab-df-convert:hover {\n",
       "      background-color: #434B5C;\n",
       "      box-shadow: 0px 1px 3px 1px rgba(0, 0, 0, 0.15);\n",
       "      filter: drop-shadow(0px 1px 2px rgba(0, 0, 0, 0.3));\n",
       "      fill: #FFFFFF;\n",
       "    }\n",
       "  </style>\n",
       "\n",
       "      <script>\n",
       "        const buttonEl =\n",
       "          document.querySelector('#df-64cbd032-87ab-474c-a494-df53923d1eae button.colab-df-convert');\n",
       "        buttonEl.style.display =\n",
       "          google.colab.kernel.accessAllowed ? 'block' : 'none';\n",
       "\n",
       "        async function convertToInteractive(key) {\n",
       "          const element = document.querySelector('#df-64cbd032-87ab-474c-a494-df53923d1eae');\n",
       "          const dataTable =\n",
       "            await google.colab.kernel.invokeFunction('convertToInteractive',\n",
       "                                                     [key], {});\n",
       "          if (!dataTable) return;\n",
       "\n",
       "          const docLinkHtml = 'Like what you see? Visit the ' +\n",
       "            '<a target=\"_blank\" href=https://colab.research.google.com/notebooks/data_table.ipynb>data table notebook</a>'\n",
       "            + ' to learn more about interactive tables.';\n",
       "          element.innerHTML = '';\n",
       "          dataTable['output_type'] = 'display_data';\n",
       "          await google.colab.output.renderOutput(dataTable, element);\n",
       "          const docLink = document.createElement('div');\n",
       "          docLink.innerHTML = docLinkHtml;\n",
       "          element.appendChild(docLink);\n",
       "        }\n",
       "      </script>\n",
       "    </div>\n",
       "  </div>\n",
       "  "
      ],
      "text/plain": [
       "                 antecedents               consequents  antecedent support  \\\n",
       "29     (Organic Raspberries)    (Organic Strawberries)            0.046288   \n",
       "28    (Organic Strawberries)     (Organic Raspberries)            0.085663   \n",
       "5      (Organic Raspberries)  (Bag of Organic Bananas)            0.046288   \n",
       "4   (Bag of Organic Bananas)     (Organic Raspberries)            0.137048   \n",
       "14                  (Banana)      (Organic Fuji Apple)            0.172339   \n",
       "15      (Organic Fuji Apple)                  (Banana)            0.027856   \n",
       "2   (Bag of Organic Bananas)    (Organic Hass Avocado)            0.137048   \n",
       "3     (Organic Hass Avocado)  (Bag of Organic Bananas)            0.072503   \n",
       "26    (Organic Strawberries)    (Organic Hass Avocado)            0.085663   \n",
       "27    (Organic Hass Avocado)    (Organic Strawberries)            0.072503   \n",
       "10         (Organic Avocado)                  (Banana)            0.057737   \n",
       "11                  (Banana)         (Organic Avocado)            0.172339   \n",
       "23    (Organic Hass Avocado)    (Organic Baby Spinach)            0.072503   \n",
       "22    (Organic Baby Spinach)    (Organic Hass Avocado)            0.080916   \n",
       "20            (Strawberries)                  (Banana)            0.044123   \n",
       "21                  (Banana)            (Strawberries)            0.172339   \n",
       "6     (Organic Strawberries)  (Bag of Organic Bananas)            0.085663   \n",
       "7   (Bag of Organic Bananas)    (Organic Strawberries)            0.137048   \n",
       "25    (Organic Baby Spinach)    (Organic Strawberries)            0.080916   \n",
       "24    (Organic Strawberries)    (Organic Baby Spinach)            0.085663   \n",
       "0     (Organic Baby Spinach)  (Bag of Organic Bananas)            0.080916   \n",
       "1   (Bag of Organic Bananas)    (Organic Baby Spinach)            0.137048   \n",
       "9              (Large Lemon)                  (Banana)            0.043809   \n",
       "8                   (Banana)             (Large Lemon)            0.172339   \n",
       "19      (Organic Whole Milk)                  (Banana)            0.048207   \n",
       "18                  (Banana)      (Organic Whole Milk)            0.172339   \n",
       "16    (Organic Strawberries)                  (Banana)            0.085663   \n",
       "17                  (Banana)    (Organic Strawberries)            0.172339   \n",
       "13                  (Banana)    (Organic Baby Spinach)            0.172339   \n",
       "12    (Organic Baby Spinach)                  (Banana)            0.080916   \n",
       "\n",
       "    consequent support   support  confidence      lift  leverage  conviction  \n",
       "29            0.085663  0.010542    0.227753  2.658692  0.006577    1.183994  \n",
       "28            0.046288  0.010542    0.123064  2.658692  0.006577    1.087551  \n",
       "5             0.137048  0.014522    0.313725  2.289173  0.008178    1.257445  \n",
       "4             0.046288  0.014522    0.105960  2.289173  0.008178    1.066745  \n",
       "14            0.027856  0.010402    0.060361  2.166853  0.005602    1.034592  \n",
       "15            0.172339  0.010402    0.373434  2.166853  0.005602    1.320947  \n",
       "2             0.072503  0.021189    0.154610  2.132461  0.011253    1.097123  \n",
       "3             0.137048  0.021189    0.292248  2.132461  0.011253    1.219287  \n",
       "26            0.072503  0.013160    0.153627  2.118895  0.006949    1.095848  \n",
       "27            0.085663  0.013160    0.181512  2.118895  0.006949    1.117104  \n",
       "10            0.172339  0.017559    0.304111  1.764609  0.007608    1.189358  \n",
       "11            0.057737  0.017559    0.101884  1.764609  0.007608    1.049154  \n",
       "23            0.080916  0.010193    0.140587  1.737449  0.004326    1.069433  \n",
       "22            0.072503  0.010193    0.125971  1.737449  0.004326    1.061174  \n",
       "20            0.172339  0.012881    0.291930  1.693929  0.005277    1.168898  \n",
       "21            0.044123  0.012881    0.074742  1.693929  0.005277    1.033092  \n",
       "6             0.137048  0.019793    0.231051  1.685922  0.008053    1.122250  \n",
       "7             0.085663  0.019793    0.144422  1.685922  0.008053    1.068677  \n",
       "25            0.085663  0.011310    0.139776  1.631684  0.004379    1.062905  \n",
       "24            0.080916  0.011310    0.132029  1.631684  0.004379    1.058888  \n",
       "0             0.137048  0.016686    0.206212  1.504677  0.005597    1.087133  \n",
       "1             0.080916  0.016686    0.121752  1.504677  0.005597    1.046498  \n",
       "9             0.172339  0.011310    0.258167  1.498019  0.003760    1.115697  \n",
       "8             0.043809  0.011310    0.065627  1.498019  0.003760    1.023350  \n",
       "19            0.172339  0.010682    0.221579  1.285712  0.002374    1.063255  \n",
       "18            0.048207  0.010682    0.061981  1.285712  0.002374    1.014684  \n",
       "16            0.172339  0.018641    0.217604  1.262649  0.003878    1.057854  \n",
       "17            0.085663  0.018641    0.108163  1.262649  0.003878    1.025228  \n",
       "13            0.080916  0.017489    0.101479  1.254124  0.003544    1.022885  \n",
       "12            0.172339  0.017489    0.216135  1.254124  0.003544    1.055871  "
      ]
     },
     "execution_count": 79,
     "metadata": {},
     "output_type": "execute_result"
    }
   ],
   "source": [
    "# Getting Association rules - Lift\n",
    "\n",
    "rules = association_rules(frequent_items, metric='lift', min_threshold=1)\n",
    "\n",
    "rules.sort_values('lift', ascending=False)"
   ]
  },
  {
   "cell_type": "code",
   "execution_count": 80,
   "metadata": {
    "colab": {
     "base_uri": "https://localhost:8080/",
     "height": 421
    },
    "id": "jqfosd5Fq5tw",
    "outputId": "b075c9b8-59a8-4f20-847a-a3c05da6a04f"
   },
   "outputs": [
    {
     "data": {
      "text/html": [
       "\n",
       "  <div id=\"df-4ff90e45-40a8-47e9-a899-d6c206913d5d\">\n",
       "    <div class=\"colab-df-container\">\n",
       "      <div>\n",
       "<style scoped>\n",
       "    .dataframe tbody tr th:only-of-type {\n",
       "        vertical-align: middle;\n",
       "    }\n",
       "\n",
       "    .dataframe tbody tr th {\n",
       "        vertical-align: top;\n",
       "    }\n",
       "\n",
       "    .dataframe thead th {\n",
       "        text-align: right;\n",
       "    }\n",
       "</style>\n",
       "<table border=\"1\" class=\"dataframe\">\n",
       "  <thead>\n",
       "    <tr style=\"text-align: right;\">\n",
       "      <th></th>\n",
       "      <th>antecedents</th>\n",
       "      <th>consequents</th>\n",
       "      <th>antecedent support</th>\n",
       "      <th>consequent support</th>\n",
       "      <th>support</th>\n",
       "      <th>confidence</th>\n",
       "      <th>lift</th>\n",
       "      <th>leverage</th>\n",
       "      <th>conviction</th>\n",
       "    </tr>\n",
       "  </thead>\n",
       "  <tbody>\n",
       "    <tr>\n",
       "      <th>2</th>\n",
       "      <td>(Bag of Organic Bananas)</td>\n",
       "      <td>(Organic Hass Avocado)</td>\n",
       "      <td>0.137048</td>\n",
       "      <td>0.072503</td>\n",
       "      <td>0.021189</td>\n",
       "      <td>0.154610</td>\n",
       "      <td>2.132461</td>\n",
       "      <td>0.011253</td>\n",
       "      <td>1.097123</td>\n",
       "    </tr>\n",
       "    <tr>\n",
       "      <th>3</th>\n",
       "      <td>(Organic Hass Avocado)</td>\n",
       "      <td>(Bag of Organic Bananas)</td>\n",
       "      <td>0.072503</td>\n",
       "      <td>0.137048</td>\n",
       "      <td>0.021189</td>\n",
       "      <td>0.292248</td>\n",
       "      <td>2.132461</td>\n",
       "      <td>0.011253</td>\n",
       "      <td>1.219287</td>\n",
       "    </tr>\n",
       "    <tr>\n",
       "      <th>4</th>\n",
       "      <td>(Organic Strawberries)</td>\n",
       "      <td>(Bag of Organic Bananas)</td>\n",
       "      <td>0.085663</td>\n",
       "      <td>0.137048</td>\n",
       "      <td>0.019793</td>\n",
       "      <td>0.231051</td>\n",
       "      <td>1.685922</td>\n",
       "      <td>0.008053</td>\n",
       "      <td>1.122250</td>\n",
       "    </tr>\n",
       "    <tr>\n",
       "      <th>5</th>\n",
       "      <td>(Bag of Organic Bananas)</td>\n",
       "      <td>(Organic Strawberries)</td>\n",
       "      <td>0.137048</td>\n",
       "      <td>0.085663</td>\n",
       "      <td>0.019793</td>\n",
       "      <td>0.144422</td>\n",
       "      <td>1.685922</td>\n",
       "      <td>0.008053</td>\n",
       "      <td>1.068677</td>\n",
       "    </tr>\n",
       "    <tr>\n",
       "      <th>10</th>\n",
       "      <td>(Organic Strawberries)</td>\n",
       "      <td>(Banana)</td>\n",
       "      <td>0.085663</td>\n",
       "      <td>0.172339</td>\n",
       "      <td>0.018641</td>\n",
       "      <td>0.217604</td>\n",
       "      <td>1.262649</td>\n",
       "      <td>0.003878</td>\n",
       "      <td>1.057854</td>\n",
       "    </tr>\n",
       "    <tr>\n",
       "      <th>11</th>\n",
       "      <td>(Banana)</td>\n",
       "      <td>(Organic Strawberries)</td>\n",
       "      <td>0.172339</td>\n",
       "      <td>0.085663</td>\n",
       "      <td>0.018641</td>\n",
       "      <td>0.108163</td>\n",
       "      <td>1.262649</td>\n",
       "      <td>0.003878</td>\n",
       "      <td>1.025228</td>\n",
       "    </tr>\n",
       "    <tr>\n",
       "      <th>6</th>\n",
       "      <td>(Organic Avocado)</td>\n",
       "      <td>(Banana)</td>\n",
       "      <td>0.057737</td>\n",
       "      <td>0.172339</td>\n",
       "      <td>0.017559</td>\n",
       "      <td>0.304111</td>\n",
       "      <td>1.764609</td>\n",
       "      <td>0.007608</td>\n",
       "      <td>1.189358</td>\n",
       "    </tr>\n",
       "    <tr>\n",
       "      <th>7</th>\n",
       "      <td>(Banana)</td>\n",
       "      <td>(Organic Avocado)</td>\n",
       "      <td>0.172339</td>\n",
       "      <td>0.057737</td>\n",
       "      <td>0.017559</td>\n",
       "      <td>0.101884</td>\n",
       "      <td>1.764609</td>\n",
       "      <td>0.007608</td>\n",
       "      <td>1.049154</td>\n",
       "    </tr>\n",
       "    <tr>\n",
       "      <th>8</th>\n",
       "      <td>(Organic Baby Spinach)</td>\n",
       "      <td>(Banana)</td>\n",
       "      <td>0.080916</td>\n",
       "      <td>0.172339</td>\n",
       "      <td>0.017489</td>\n",
       "      <td>0.216135</td>\n",
       "      <td>1.254124</td>\n",
       "      <td>0.003544</td>\n",
       "      <td>1.055871</td>\n",
       "    </tr>\n",
       "    <tr>\n",
       "      <th>9</th>\n",
       "      <td>(Banana)</td>\n",
       "      <td>(Organic Baby Spinach)</td>\n",
       "      <td>0.172339</td>\n",
       "      <td>0.080916</td>\n",
       "      <td>0.017489</td>\n",
       "      <td>0.101479</td>\n",
       "      <td>1.254124</td>\n",
       "      <td>0.003544</td>\n",
       "      <td>1.022885</td>\n",
       "    </tr>\n",
       "    <tr>\n",
       "      <th>0</th>\n",
       "      <td>(Organic Baby Spinach)</td>\n",
       "      <td>(Bag of Organic Bananas)</td>\n",
       "      <td>0.080916</td>\n",
       "      <td>0.137048</td>\n",
       "      <td>0.016686</td>\n",
       "      <td>0.206212</td>\n",
       "      <td>1.504677</td>\n",
       "      <td>0.005597</td>\n",
       "      <td>1.087133</td>\n",
       "    </tr>\n",
       "    <tr>\n",
       "      <th>1</th>\n",
       "      <td>(Bag of Organic Bananas)</td>\n",
       "      <td>(Organic Baby Spinach)</td>\n",
       "      <td>0.137048</td>\n",
       "      <td>0.080916</td>\n",
       "      <td>0.016686</td>\n",
       "      <td>0.121752</td>\n",
       "      <td>1.504677</td>\n",
       "      <td>0.005597</td>\n",
       "      <td>1.046498</td>\n",
       "    </tr>\n",
       "  </tbody>\n",
       "</table>\n",
       "</div>\n",
       "      <button class=\"colab-df-convert\" onclick=\"convertToInteractive('df-4ff90e45-40a8-47e9-a899-d6c206913d5d')\"\n",
       "              title=\"Convert this dataframe to an interactive table.\"\n",
       "              style=\"display:none;\">\n",
       "        \n",
       "  <svg xmlns=\"http://www.w3.org/2000/svg\" height=\"24px\"viewBox=\"0 0 24 24\"\n",
       "       width=\"24px\">\n",
       "    <path d=\"M0 0h24v24H0V0z\" fill=\"none\"/>\n",
       "    <path d=\"M18.56 5.44l.94 2.06.94-2.06 2.06-.94-2.06-.94-.94-2.06-.94 2.06-2.06.94zm-11 1L8.5 8.5l.94-2.06 2.06-.94-2.06-.94L8.5 2.5l-.94 2.06-2.06.94zm10 10l.94 2.06.94-2.06 2.06-.94-2.06-.94-.94-2.06-.94 2.06-2.06.94z\"/><path d=\"M17.41 7.96l-1.37-1.37c-.4-.4-.92-.59-1.43-.59-.52 0-1.04.2-1.43.59L10.3 9.45l-7.72 7.72c-.78.78-.78 2.05 0 2.83L4 21.41c.39.39.9.59 1.41.59.51 0 1.02-.2 1.41-.59l7.78-7.78 2.81-2.81c.8-.78.8-2.07 0-2.86zM5.41 20L4 18.59l7.72-7.72 1.47 1.35L5.41 20z\"/>\n",
       "  </svg>\n",
       "      </button>\n",
       "      \n",
       "  <style>\n",
       "    .colab-df-container {\n",
       "      display:flex;\n",
       "      flex-wrap:wrap;\n",
       "      gap: 12px;\n",
       "    }\n",
       "\n",
       "    .colab-df-convert {\n",
       "      background-color: #E8F0FE;\n",
       "      border: none;\n",
       "      border-radius: 50%;\n",
       "      cursor: pointer;\n",
       "      display: none;\n",
       "      fill: #1967D2;\n",
       "      height: 32px;\n",
       "      padding: 0 0 0 0;\n",
       "      width: 32px;\n",
       "    }\n",
       "\n",
       "    .colab-df-convert:hover {\n",
       "      background-color: #E2EBFA;\n",
       "      box-shadow: 0px 1px 2px rgba(60, 64, 67, 0.3), 0px 1px 3px 1px rgba(60, 64, 67, 0.15);\n",
       "      fill: #174EA6;\n",
       "    }\n",
       "\n",
       "    [theme=dark] .colab-df-convert {\n",
       "      background-color: #3B4455;\n",
       "      fill: #D2E3FC;\n",
       "    }\n",
       "\n",
       "    [theme=dark] .colab-df-convert:hover {\n",
       "      background-color: #434B5C;\n",
       "      box-shadow: 0px 1px 3px 1px rgba(0, 0, 0, 0.15);\n",
       "      filter: drop-shadow(0px 1px 2px rgba(0, 0, 0, 0.3));\n",
       "      fill: #FFFFFF;\n",
       "    }\n",
       "  </style>\n",
       "\n",
       "      <script>\n",
       "        const buttonEl =\n",
       "          document.querySelector('#df-4ff90e45-40a8-47e9-a899-d6c206913d5d button.colab-df-convert');\n",
       "        buttonEl.style.display =\n",
       "          google.colab.kernel.accessAllowed ? 'block' : 'none';\n",
       "\n",
       "        async function convertToInteractive(key) {\n",
       "          const element = document.querySelector('#df-4ff90e45-40a8-47e9-a899-d6c206913d5d');\n",
       "          const dataTable =\n",
       "            await google.colab.kernel.invokeFunction('convertToInteractive',\n",
       "                                                     [key], {});\n",
       "          if (!dataTable) return;\n",
       "\n",
       "          const docLinkHtml = 'Like what you see? Visit the ' +\n",
       "            '<a target=\"_blank\" href=https://colab.research.google.com/notebooks/data_table.ipynb>data table notebook</a>'\n",
       "            + ' to learn more about interactive tables.';\n",
       "          element.innerHTML = '';\n",
       "          dataTable['output_type'] = 'display_data';\n",
       "          await google.colab.output.renderOutput(dataTable, element);\n",
       "          const docLink = document.createElement('div');\n",
       "          docLink.innerHTML = docLinkHtml;\n",
       "          element.appendChild(docLink);\n",
       "        }\n",
       "      </script>\n",
       "    </div>\n",
       "  </div>\n",
       "  "
      ],
      "text/plain": [
       "                 antecedents               consequents  antecedent support  \\\n",
       "2   (Bag of Organic Bananas)    (Organic Hass Avocado)            0.137048   \n",
       "3     (Organic Hass Avocado)  (Bag of Organic Bananas)            0.072503   \n",
       "4     (Organic Strawberries)  (Bag of Organic Bananas)            0.085663   \n",
       "5   (Bag of Organic Bananas)    (Organic Strawberries)            0.137048   \n",
       "10    (Organic Strawberries)                  (Banana)            0.085663   \n",
       "11                  (Banana)    (Organic Strawberries)            0.172339   \n",
       "6          (Organic Avocado)                  (Banana)            0.057737   \n",
       "7                   (Banana)         (Organic Avocado)            0.172339   \n",
       "8     (Organic Baby Spinach)                  (Banana)            0.080916   \n",
       "9                   (Banana)    (Organic Baby Spinach)            0.172339   \n",
       "0     (Organic Baby Spinach)  (Bag of Organic Bananas)            0.080916   \n",
       "1   (Bag of Organic Bananas)    (Organic Baby Spinach)            0.137048   \n",
       "\n",
       "    consequent support   support  confidence      lift  leverage  conviction  \n",
       "2             0.072503  0.021189    0.154610  2.132461  0.011253    1.097123  \n",
       "3             0.137048  0.021189    0.292248  2.132461  0.011253    1.219287  \n",
       "4             0.137048  0.019793    0.231051  1.685922  0.008053    1.122250  \n",
       "5             0.085663  0.019793    0.144422  1.685922  0.008053    1.068677  \n",
       "10            0.172339  0.018641    0.217604  1.262649  0.003878    1.057854  \n",
       "11            0.085663  0.018641    0.108163  1.262649  0.003878    1.025228  \n",
       "6             0.172339  0.017559    0.304111  1.764609  0.007608    1.189358  \n",
       "7             0.057737  0.017559    0.101884  1.764609  0.007608    1.049154  \n",
       "8             0.172339  0.017489    0.216135  1.254124  0.003544    1.055871  \n",
       "9             0.080916  0.017489    0.101479  1.254124  0.003544    1.022885  \n",
       "0             0.137048  0.016686    0.206212  1.504677  0.005597    1.087133  \n",
       "1             0.080916  0.016686    0.121752  1.504677  0.005597    1.046498  "
      ]
     },
     "execution_count": 80,
     "metadata": {},
     "output_type": "execute_result"
    }
   ],
   "source": [
    "# Getting Association rules - Support\n",
    "\n",
    "rules = association_rules(frequent_items, metric='support', min_threshold=.015)\n",
    "\n",
    "rules.sort_values('support', ascending=False)"
   ]
  },
  {
   "cell_type": "code",
   "execution_count": 81,
   "metadata": {
    "colab": {
     "base_uri": "https://localhost:8080/",
     "height": 421
    },
    "id": "i-gp_91qq5tw",
    "outputId": "5aed3fd0-671d-4d06-e23c-c620fcadc064",
    "scrolled": true
   },
   "outputs": [
    {
     "data": {
      "text/html": [
       "\n",
       "  <div id=\"df-9da8f9b2-9f30-487c-a656-58191a8a7b44\">\n",
       "    <div class=\"colab-df-container\">\n",
       "      <div>\n",
       "<style scoped>\n",
       "    .dataframe tbody tr th:only-of-type {\n",
       "        vertical-align: middle;\n",
       "    }\n",
       "\n",
       "    .dataframe tbody tr th {\n",
       "        vertical-align: top;\n",
       "    }\n",
       "\n",
       "    .dataframe thead th {\n",
       "        text-align: right;\n",
       "    }\n",
       "</style>\n",
       "<table border=\"1\" class=\"dataframe\">\n",
       "  <thead>\n",
       "    <tr style=\"text-align: right;\">\n",
       "      <th></th>\n",
       "      <th>antecedents</th>\n",
       "      <th>consequents</th>\n",
       "      <th>antecedent support</th>\n",
       "      <th>consequent support</th>\n",
       "      <th>support</th>\n",
       "      <th>confidence</th>\n",
       "      <th>lift</th>\n",
       "      <th>leverage</th>\n",
       "      <th>conviction</th>\n",
       "    </tr>\n",
       "  </thead>\n",
       "  <tbody>\n",
       "    <tr>\n",
       "      <th>7</th>\n",
       "      <td>(Organic Fuji Apple)</td>\n",
       "      <td>(Banana)</td>\n",
       "      <td>0.027856</td>\n",
       "      <td>0.172339</td>\n",
       "      <td>0.010402</td>\n",
       "      <td>0.373434</td>\n",
       "      <td>2.166853</td>\n",
       "      <td>0.005602</td>\n",
       "      <td>1.320947</td>\n",
       "    </tr>\n",
       "    <tr>\n",
       "      <th>2</th>\n",
       "      <td>(Organic Raspberries)</td>\n",
       "      <td>(Bag of Organic Bananas)</td>\n",
       "      <td>0.046288</td>\n",
       "      <td>0.137048</td>\n",
       "      <td>0.014522</td>\n",
       "      <td>0.313725</td>\n",
       "      <td>2.289173</td>\n",
       "      <td>0.008178</td>\n",
       "      <td>1.257445</td>\n",
       "    </tr>\n",
       "    <tr>\n",
       "      <th>5</th>\n",
       "      <td>(Organic Avocado)</td>\n",
       "      <td>(Banana)</td>\n",
       "      <td>0.057737</td>\n",
       "      <td>0.172339</td>\n",
       "      <td>0.017559</td>\n",
       "      <td>0.304111</td>\n",
       "      <td>1.764609</td>\n",
       "      <td>0.007608</td>\n",
       "      <td>1.189358</td>\n",
       "    </tr>\n",
       "    <tr>\n",
       "      <th>1</th>\n",
       "      <td>(Organic Hass Avocado)</td>\n",
       "      <td>(Bag of Organic Bananas)</td>\n",
       "      <td>0.072503</td>\n",
       "      <td>0.137048</td>\n",
       "      <td>0.021189</td>\n",
       "      <td>0.292248</td>\n",
       "      <td>2.132461</td>\n",
       "      <td>0.011253</td>\n",
       "      <td>1.219287</td>\n",
       "    </tr>\n",
       "    <tr>\n",
       "      <th>10</th>\n",
       "      <td>(Strawberries)</td>\n",
       "      <td>(Banana)</td>\n",
       "      <td>0.044123</td>\n",
       "      <td>0.172339</td>\n",
       "      <td>0.012881</td>\n",
       "      <td>0.291930</td>\n",
       "      <td>1.693929</td>\n",
       "      <td>0.005277</td>\n",
       "      <td>1.168898</td>\n",
       "    </tr>\n",
       "    <tr>\n",
       "      <th>4</th>\n",
       "      <td>(Large Lemon)</td>\n",
       "      <td>(Banana)</td>\n",
       "      <td>0.043809</td>\n",
       "      <td>0.172339</td>\n",
       "      <td>0.011310</td>\n",
       "      <td>0.258167</td>\n",
       "      <td>1.498019</td>\n",
       "      <td>0.003760</td>\n",
       "      <td>1.115697</td>\n",
       "    </tr>\n",
       "    <tr>\n",
       "      <th>3</th>\n",
       "      <td>(Organic Strawberries)</td>\n",
       "      <td>(Bag of Organic Bananas)</td>\n",
       "      <td>0.085663</td>\n",
       "      <td>0.137048</td>\n",
       "      <td>0.019793</td>\n",
       "      <td>0.231051</td>\n",
       "      <td>1.685922</td>\n",
       "      <td>0.008053</td>\n",
       "      <td>1.122250</td>\n",
       "    </tr>\n",
       "    <tr>\n",
       "      <th>11</th>\n",
       "      <td>(Organic Raspberries)</td>\n",
       "      <td>(Organic Strawberries)</td>\n",
       "      <td>0.046288</td>\n",
       "      <td>0.085663</td>\n",
       "      <td>0.010542</td>\n",
       "      <td>0.227753</td>\n",
       "      <td>2.658692</td>\n",
       "      <td>0.006577</td>\n",
       "      <td>1.183994</td>\n",
       "    </tr>\n",
       "    <tr>\n",
       "      <th>9</th>\n",
       "      <td>(Organic Whole Milk)</td>\n",
       "      <td>(Banana)</td>\n",
       "      <td>0.048207</td>\n",
       "      <td>0.172339</td>\n",
       "      <td>0.010682</td>\n",
       "      <td>0.221579</td>\n",
       "      <td>1.285712</td>\n",
       "      <td>0.002374</td>\n",
       "      <td>1.063255</td>\n",
       "    </tr>\n",
       "    <tr>\n",
       "      <th>8</th>\n",
       "      <td>(Organic Strawberries)</td>\n",
       "      <td>(Banana)</td>\n",
       "      <td>0.085663</td>\n",
       "      <td>0.172339</td>\n",
       "      <td>0.018641</td>\n",
       "      <td>0.217604</td>\n",
       "      <td>1.262649</td>\n",
       "      <td>0.003878</td>\n",
       "      <td>1.057854</td>\n",
       "    </tr>\n",
       "    <tr>\n",
       "      <th>6</th>\n",
       "      <td>(Organic Baby Spinach)</td>\n",
       "      <td>(Banana)</td>\n",
       "      <td>0.080916</td>\n",
       "      <td>0.172339</td>\n",
       "      <td>0.017489</td>\n",
       "      <td>0.216135</td>\n",
       "      <td>1.254124</td>\n",
       "      <td>0.003544</td>\n",
       "      <td>1.055871</td>\n",
       "    </tr>\n",
       "    <tr>\n",
       "      <th>0</th>\n",
       "      <td>(Organic Baby Spinach)</td>\n",
       "      <td>(Bag of Organic Bananas)</td>\n",
       "      <td>0.080916</td>\n",
       "      <td>0.137048</td>\n",
       "      <td>0.016686</td>\n",
       "      <td>0.206212</td>\n",
       "      <td>1.504677</td>\n",
       "      <td>0.005597</td>\n",
       "      <td>1.087133</td>\n",
       "    </tr>\n",
       "  </tbody>\n",
       "</table>\n",
       "</div>\n",
       "      <button class=\"colab-df-convert\" onclick=\"convertToInteractive('df-9da8f9b2-9f30-487c-a656-58191a8a7b44')\"\n",
       "              title=\"Convert this dataframe to an interactive table.\"\n",
       "              style=\"display:none;\">\n",
       "        \n",
       "  <svg xmlns=\"http://www.w3.org/2000/svg\" height=\"24px\"viewBox=\"0 0 24 24\"\n",
       "       width=\"24px\">\n",
       "    <path d=\"M0 0h24v24H0V0z\" fill=\"none\"/>\n",
       "    <path d=\"M18.56 5.44l.94 2.06.94-2.06 2.06-.94-2.06-.94-.94-2.06-.94 2.06-2.06.94zm-11 1L8.5 8.5l.94-2.06 2.06-.94-2.06-.94L8.5 2.5l-.94 2.06-2.06.94zm10 10l.94 2.06.94-2.06 2.06-.94-2.06-.94-.94-2.06-.94 2.06-2.06.94z\"/><path d=\"M17.41 7.96l-1.37-1.37c-.4-.4-.92-.59-1.43-.59-.52 0-1.04.2-1.43.59L10.3 9.45l-7.72 7.72c-.78.78-.78 2.05 0 2.83L4 21.41c.39.39.9.59 1.41.59.51 0 1.02-.2 1.41-.59l7.78-7.78 2.81-2.81c.8-.78.8-2.07 0-2.86zM5.41 20L4 18.59l7.72-7.72 1.47 1.35L5.41 20z\"/>\n",
       "  </svg>\n",
       "      </button>\n",
       "      \n",
       "  <style>\n",
       "    .colab-df-container {\n",
       "      display:flex;\n",
       "      flex-wrap:wrap;\n",
       "      gap: 12px;\n",
       "    }\n",
       "\n",
       "    .colab-df-convert {\n",
       "      background-color: #E8F0FE;\n",
       "      border: none;\n",
       "      border-radius: 50%;\n",
       "      cursor: pointer;\n",
       "      display: none;\n",
       "      fill: #1967D2;\n",
       "      height: 32px;\n",
       "      padding: 0 0 0 0;\n",
       "      width: 32px;\n",
       "    }\n",
       "\n",
       "    .colab-df-convert:hover {\n",
       "      background-color: #E2EBFA;\n",
       "      box-shadow: 0px 1px 2px rgba(60, 64, 67, 0.3), 0px 1px 3px 1px rgba(60, 64, 67, 0.15);\n",
       "      fill: #174EA6;\n",
       "    }\n",
       "\n",
       "    [theme=dark] .colab-df-convert {\n",
       "      background-color: #3B4455;\n",
       "      fill: #D2E3FC;\n",
       "    }\n",
       "\n",
       "    [theme=dark] .colab-df-convert:hover {\n",
       "      background-color: #434B5C;\n",
       "      box-shadow: 0px 1px 3px 1px rgba(0, 0, 0, 0.15);\n",
       "      filter: drop-shadow(0px 1px 2px rgba(0, 0, 0, 0.3));\n",
       "      fill: #FFFFFF;\n",
       "    }\n",
       "  </style>\n",
       "\n",
       "      <script>\n",
       "        const buttonEl =\n",
       "          document.querySelector('#df-9da8f9b2-9f30-487c-a656-58191a8a7b44 button.colab-df-convert');\n",
       "        buttonEl.style.display =\n",
       "          google.colab.kernel.accessAllowed ? 'block' : 'none';\n",
       "\n",
       "        async function convertToInteractive(key) {\n",
       "          const element = document.querySelector('#df-9da8f9b2-9f30-487c-a656-58191a8a7b44');\n",
       "          const dataTable =\n",
       "            await google.colab.kernel.invokeFunction('convertToInteractive',\n",
       "                                                     [key], {});\n",
       "          if (!dataTable) return;\n",
       "\n",
       "          const docLinkHtml = 'Like what you see? Visit the ' +\n",
       "            '<a target=\"_blank\" href=https://colab.research.google.com/notebooks/data_table.ipynb>data table notebook</a>'\n",
       "            + ' to learn more about interactive tables.';\n",
       "          element.innerHTML = '';\n",
       "          dataTable['output_type'] = 'display_data';\n",
       "          await google.colab.output.renderOutput(dataTable, element);\n",
       "          const docLink = document.createElement('div');\n",
       "          docLink.innerHTML = docLinkHtml;\n",
       "          element.appendChild(docLink);\n",
       "        }\n",
       "      </script>\n",
       "    </div>\n",
       "  </div>\n",
       "  "
      ],
      "text/plain": [
       "               antecedents               consequents  antecedent support  \\\n",
       "7     (Organic Fuji Apple)                  (Banana)            0.027856   \n",
       "2    (Organic Raspberries)  (Bag of Organic Bananas)            0.046288   \n",
       "5        (Organic Avocado)                  (Banana)            0.057737   \n",
       "1   (Organic Hass Avocado)  (Bag of Organic Bananas)            0.072503   \n",
       "10          (Strawberries)                  (Banana)            0.044123   \n",
       "4            (Large Lemon)                  (Banana)            0.043809   \n",
       "3   (Organic Strawberries)  (Bag of Organic Bananas)            0.085663   \n",
       "11   (Organic Raspberries)    (Organic Strawberries)            0.046288   \n",
       "9     (Organic Whole Milk)                  (Banana)            0.048207   \n",
       "8   (Organic Strawberries)                  (Banana)            0.085663   \n",
       "6   (Organic Baby Spinach)                  (Banana)            0.080916   \n",
       "0   (Organic Baby Spinach)  (Bag of Organic Bananas)            0.080916   \n",
       "\n",
       "    consequent support   support  confidence      lift  leverage  conviction  \n",
       "7             0.172339  0.010402    0.373434  2.166853  0.005602    1.320947  \n",
       "2             0.137048  0.014522    0.313725  2.289173  0.008178    1.257445  \n",
       "5             0.172339  0.017559    0.304111  1.764609  0.007608    1.189358  \n",
       "1             0.137048  0.021189    0.292248  2.132461  0.011253    1.219287  \n",
       "10            0.172339  0.012881    0.291930  1.693929  0.005277    1.168898  \n",
       "4             0.172339  0.011310    0.258167  1.498019  0.003760    1.115697  \n",
       "3             0.137048  0.019793    0.231051  1.685922  0.008053    1.122250  \n",
       "11            0.085663  0.010542    0.227753  2.658692  0.006577    1.183994  \n",
       "9             0.172339  0.010682    0.221579  1.285712  0.002374    1.063255  \n",
       "8             0.172339  0.018641    0.217604  1.262649  0.003878    1.057854  \n",
       "6             0.172339  0.017489    0.216135  1.254124  0.003544    1.055871  \n",
       "0             0.137048  0.016686    0.206212  1.504677  0.005597    1.087133  "
      ]
     },
     "execution_count": 81,
     "metadata": {},
     "output_type": "execute_result"
    }
   ],
   "source": [
    "# Getting Association rules - Confidence \n",
    "\n",
    "rules = association_rules(frequent_items, metric='confidence', min_threshold=.2)\n",
    "\n",
    "rules.sort_values('confidence', ascending=False)"
   ]
  },
  {
   "cell_type": "markdown",
   "metadata": {},
   "source": [
    "**Observation:**\n",
    "- Unsuprisingly produce, and specifically bananas, are in most of the top item sets\n"
   ]
  },
  {
   "cell_type": "markdown",
   "metadata": {
    "id": "TSbM9GIMrxia"
   },
   "source": [
    "## Model Results\n",
    "__________________________________________________________________________________________________________________\n",
    "#### Logistic Regression:\n",
    "- The best model I ran had 90% Precision and 88% Recall scores. \n",
    "\n",
    "![Confusion Matrix](./images/confusion_matrix.png)\n",
    "\n",
    "#### XGBoost:\n",
    "- Using XGBoost, I was able to identify the most important features in prediciting customer reorders. In older notebooks, I fit the model onto the train data, but was not getting results better than the LogReg model. The top three important features for this model were:\n",
    "   1. user_reorder_ratio\n",
    "   2. add_to_cart_order\n",
    "   3. prd_reorder_ratio\n",
    "   \n",
    "#### Apriori:\n",
    "- The Apriori Algorithm analysis was successful in identifying frequent item sets. Some observations:\n",
    "   - Produce and/or Dairy items are included in all of the top item sets\n",
    "   - Banana's are the number one basket builder for customers \n",
    "   - Top Item Combinations by Association Rule:\n",
    "       - **Lift:** Organic Raspberries & Organic Strawberries\n",
    "       - **Support:** Bag of Organic Bananas & Organic Haas Avocados\n",
    "       - **Confidence:** Organic Fuji Apple & Banana"
   ]
  },
  {
   "cell_type": "markdown",
   "metadata": {},
   "source": [
    "## Recommendations\n",
    "__________________________________________________________________________________________________________________\n",
    "From this analysis I have generated the following recommendations that Instacart can utilize:\n",
    "\n",
    "1. **Banana's are important.** Since Bananas are the number one basket building item, offering promotions on these products is a good way to get people in the door<br><br>\n",
    "\n",
    "2. **Merchandising:** Using the reorder prediction model and frequent item sets, Instacart can better inform  merchandising decisions to answer questions like, What 'aisles' or products should be displayed near each other? Understanding the answer to questions like these are important in targeting merchandising placements & display ads to individual users could help Instacart maximize each user's basket. <br><br>\n",
    "\n",
    "3. **Recommendations**: Understanding what a customer is going to order in the future is important for product recommendations. Using the predictive LogReg model, Instacart can optimize recommendation widgets like 'Add to Cart' with the likely items that customer will order. <br><br>\n",
    "\n",
    "4. **Promotional Strategy:** Online grocers are in a unique position to cross merchandise products that wouldn't normally live together in a traditional grocery store, for example, ice cream and hot dogs for the Fourth of July. Using the Apriori results, Instacart can understand what items are commonly (or uncommonly) ordered together in order to implement targeted promotions to customers. \n",
    "    "
   ]
  },
  {
   "cell_type": "markdown",
   "metadata": {},
   "source": [
    "## Future Steps\n",
    "__________________________________________________________________________________________________________________\n",
    "\n",
    "There are a number of steps I would like to take in the future to improve results of this analysis. These include the following:\n",
    "\n",
    "1. **Display Ad Opportunity Cost** - With additional data regarding average product costs and average sales price, this analysis can be updated to identify the opportunity cost of showing one product to a customer over another. For example, if we know that Customer X orders Corn Flakes every week, we can use the model to identify frequently bundled items and display the item to Customer X that generates the most profit for Instacart while also keeping the customer happy <br><br>\n",
    "2. **Datetime Considerations** - While this analysis largely focused on user behavior as it pertained to order history and products, implementing additional features around when a user orders certain items, how often customers are making \"stock up\" baskets versus \"everyday\" baskets and more could improve the overall results of the model. <br><br>\n",
    "3. **Reviews & Ratings** - With more data around product reviews and ratings on a customer level, I would like to implement a Collaborative Item-Based Filtering recommender system to see how it compares to the binary classificaiton model implemented in this notebook. "
   ]
  }
 ],
 "metadata": {
  "colab": {
   "collapsed_sections": [
    "NiTMTeAjhh2A",
    "btMfQA-Lhh2I",
    "I8eBWCHmkVhQ",
    "dN3PALlDkVhW",
    "_t99hXW6okn7",
    "wAwgyoEiq5tv"
   ],
   "name": "Instacart_EDA_Modeling_MBA.ipynb",
   "provenance": []
  },
  "kernelspec": {
   "display_name": "Python (learn-env)",
   "language": "python",
   "name": "learn-env"
  },
  "language_info": {
   "codemirror_mode": {
    "name": "ipython",
    "version": 3
   },
   "file_extension": ".py",
   "mimetype": "text/x-python",
   "name": "python",
   "nbconvert_exporter": "python",
   "pygments_lexer": "ipython3",
   "version": "3.8.5"
  }
 },
 "nbformat": 4,
 "nbformat_minor": 1
}
